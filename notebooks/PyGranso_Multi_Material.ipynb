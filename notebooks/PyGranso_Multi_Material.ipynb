{
 "cells": [
  {
   "cell_type": "code",
   "execution_count": 1,
   "id": "e04e4399-a211-4833-af13-7ee8ff1d08b7",
   "metadata": {},
   "outputs": [
    {
     "data": {
      "text/plain": [
       "'/Users/ryandevera/data-science/tesorio/NCVX-Neural-Structural-Optimization/notebooks'"
      ]
     },
     "execution_count": 1,
     "metadata": {},
     "output_type": "execute_result"
    }
   ],
   "source": [
    "%pwd"
   ]
  },
  {
   "cell_type": "code",
   "execution_count": 2,
   "id": "1b1e3752-740a-44b3-8230-0a3eb49fd17c",
   "metadata": {},
   "outputs": [
    {
     "name": "stdout",
     "output_type": "stream",
     "text": [
      "/Users/ryandevera/data-science/tesorio/NCVX-Neural-Structural-Optimization\n"
     ]
    }
   ],
   "source": [
    "%cd .."
   ]
  },
  {
   "cell_type": "code",
   "execution_count": 3,
   "id": "84c1b02e-77cf-42b4-9b2a-357982bd1012",
   "metadata": {},
   "outputs": [
    {
     "name": "stdout",
     "output_type": "stream",
     "text": [
      "README.md                \u001b[1m\u001b[36mjobs\u001b[m\u001b[m/                    tasks.py\n",
      "Untitled.ipynb           models.py                \u001b[1m\u001b[36mtests\u001b[m\u001b[m/\n",
      "__init__.py              multi_material_train.py  tf.py\n",
      "\u001b[1m\u001b[36m__pycache__\u001b[m\u001b[m/             \u001b[1m\u001b[36mnotebooks\u001b[m\u001b[m/               topo_api.py\n",
      "\u001b[1m\u001b[36mbuyun_test\u001b[m\u001b[m/              problems.py              topo_physics.py\n",
      "experiments.py           pygranso_demo.py         train.py\n",
      "\u001b[1m\u001b[36mframes\u001b[m\u001b[m/                  \u001b[1m\u001b[36mraw_data\u001b[m\u001b[m/                \u001b[1m\u001b[36mutils\u001b[m\u001b[m/\n",
      "ideas.py                 \u001b[1m\u001b[36mresults\u001b[m\u001b[m/                 utils.py\n",
      "\u001b[1m\u001b[36mimages\u001b[m\u001b[m/                  structural_opt.png\n"
     ]
    }
   ],
   "source": [
    "%ls"
   ]
  },
  {
   "cell_type": "code",
   "execution_count": 4,
   "id": "5622f553-e1af-4ae9-bff2-bb08582c0008",
   "metadata": {},
   "outputs": [],
   "source": [
    "import numpy as np\n",
    "import torch\n",
    "from matplotlib import colors\n",
    "\n",
    "import multi_material_train\n",
    "import problems\n",
    "import topo_physics"
   ]
  },
  {
   "cell_type": "code",
   "execution_count": 5,
   "id": "cd06bb93-38e6-49ff-bb00-d68f1538f515",
   "metadata": {},
   "outputs": [],
   "source": [
    "# Setup problem and device\n",
    "device = torch.device('cpu')\n",
    "problem = problems.multi_material_tip_cantilever(\n",
    "    height=32, width=96, density=0.5, device=device\n",
    ")\n",
    "problem.name = 'test-multi-material'\n",
    "e_materials = np.array([3.0, 2.0, 1.0])\n",
    "num_materials = len(e_materials)\n",
    "volfrac = np.array([1.0, 0.7, 0.4])\n",
    "combined_volfrac = 0.60\n",
    "penal = 3.0"
   ]
  },
  {
   "cell_type": "markdown",
   "id": "b53e9909-e234-470a-b16c-9e4fb3263ca8",
   "metadata": {},
   "source": [
    "# CNN Multi-Material"
   ]
  },
  {
   "cell_type": "code",
   "execution_count": null,
   "id": "3b25cc95-4c25-43a4-9728-4f471f15662a",
   "metadata": {},
   "outputs": [
    {
     "name": "stderr",
     "output_type": "stream",
     "text": [
      "/Users/ryandevera/data-science/tesorio/NCVX-Neural-Structural-Optimization/topo_physics.py:622: UserWarning: Implicit dimension choice for softmax has been deprecated. Change the call to include dim=X as an argument.\n",
      "  x_phys = softmax(logits)\n",
      "/Users/ryandevera/.virtualenvs/ncvx/lib/python3.9/site-packages/torch/functional.py:504: UserWarning: torch.meshgrid: in an upcoming release, it will be required to pass the indexing argument. (Triggered internally at /Users/runner/work/pytorch/pytorch/pytorch/aten/src/ATen/native/TensorShape.cpp:3191.)\n",
      "  return _VF.meshgrid(tensors, **kwargs)  # type: ignore[attr-defined]\n"
     ]
    },
    {
     "name": "stdout",
     "output_type": "stream",
     "text": [
      "\n",
      "\n",
      "\u001b[33m╔═════ QP SOLVER NOTICE ════════════════════════════════════════════════════════════════════════╗\n",
      "\u001b[0m\u001b[33m║  PyGRANSO requires a quadratic program (QP) solver that has a quadprog-compatible interface,  ║\n",
      "\u001b[0m\u001b[33m║  the default is osqp. Users may provide their own wrapper for the QP solver.                  ║\n",
      "\u001b[0m\u001b[33m║  To disable this notice, set opts.quadprog_info_msg = False                                   ║\n",
      "\u001b[0m\u001b[33m╚═══════════════════════════════════════════════════════════════════════════════════════════════╝\n",
      "\u001b[0m═════════════════════════════════════════════════════════════════════════════════════════════════════════════════╗\n",
      "PyGRANSO: A PyTorch-enabled port of GRANSO with auto-differentiation                                             ║ \n",
      "Version 1.2.0                                                                                                    ║ \n",
      "Licensed under the AGPLv3, Copyright (C) 2021-2022 Tim Mitchell and Buyun Liang                                  ║ \n",
      "═════════════════════════════════════════════════════════════════════════════════════════════════════════════════╣\n",
      "Problem specifications:                                                                                          ║ \n",
      " # of variables                     :   675764                                                                   ║ \n",
      " # of inequality constraints        :        0                                                                   ║ \n",
      " # of equality constraints          :        1                                                                   ║ \n",
      "═════════════════════════════════════════════════════════════════════════════════════════════════════════════════╣\n",
      "\u001b[33mLimited-memory mode enabled with size = 20.                                                                     \u001b[0m ║ \n",
      "\u001b[33mNOTE: limited-memory mode is generally NOT                                                                      \u001b[0m ║ \n",
      "\u001b[33mrecommended for nonsmooth problems.                                                                             \u001b[0m ║ \n",
      "═════╦═══════════════════════════╦════════════════╦═════════════════╦═══════════════════════╦════════════════════╣\n",
      "     ║ <--- Penalty Function --> ║                ║ Total Violation ║ <--- Line Search ---> ║ <- Stationarity -> ║ \n",
      "Iter ║    Mu    │      Value     ║    Objective   ║ Ineq │    Eq    ║ SD │ Evals │     t    ║ Grads │    Value   ║ \n",
      "═════╬═══════════════════════════╬════════════════╬═════════════════╬═══════════════════════╬════════════════════╣\n",
      "   0 ║ 1.000000 │  1.06942521093 ║  0.99650268314 ║   -  │ 0.072923 ║ -  │     1 │ 0.000000 ║     1 │ 1.062819   ║ \n",
      "   1 ║ 0.478297 │  0.27194646638 ║  0.37062672611 ║   -  │ 0.094677 ║ S  │     1 │ 0.100000 ║     1 │ 0.046319   ║ \n"
     ]
    },
    {
     "name": "stderr",
     "output_type": "stream",
     "text": [
      "/Users/ryandevera/.virtualenvs/ncvx/lib/python3.9/site-packages/pygranso/private/bfgsHessianInverseLimitedMem.py:237: UserWarning: The use of `x.T` on tensors of dimension other than 2 to reverse their shape is deprecated and it will throw an error in a future release. Consider `x.mT` to transpose batches of matrices or `x.permute(*torch.arange(x.ndim - 1, -1, -1))` to reverse the dimensions of a tensor. (Triggered internally at /Users/runner/work/pytorch/pytorch/pytorch/aten/src/ATen/native/TensorShape.cpp:3281.)\n",
      "  alpha[j,:]  = self.rho[0,j] * (self.S[:,j].T  @ q)\n"
     ]
    },
    {
     "name": "stdout",
     "output_type": "stream",
     "text": [
      "   2 ║ 0.478297 │  0.22686962381 ║  0.31406588528 ║   -  │ 0.076653 ║ S  │     2 │ 0.200000 ║     1 │ 0.002940   ║ \n",
      "   3 ║ 0.478297 │  0.12522468769 ║  0.22336915416 ║   -  │ 0.018388 ║ S  │     5 │ 1.600000 ║     1 │ 0.001678   ║ \n",
      "   4 ║ 0.478297 │  0.11140292036 ║  0.21474184295 ║   -  │ 0.008693 ║ S  │     5 │ 1.600000 ║     1 │ 0.001583   ║ \n",
      "   5 ║ 0.478297 │  0.10191092923 ║  0.20290555421 ║   -  │ 0.004862 ║ S  │     5 │ 1.600000 ║     1 │ 0.001833   ║ \n",
      "   6 ║ 0.478297 │  0.09784419442 ║  0.19903907961 ║   -  │ 0.002644 ║ S  │     5 │ 1.600000 ║     1 │ 0.002231   ║ \n",
      "   7 ║ 0.478297 │  0.09383902294 ║  0.19254226492 ║   -  │ 0.001747 ║ S  │     5 │ 1.600000 ║     1 │ 0.002604   ║ \n",
      "   8 ║ 0.478297 │  0.09020799360 ║  0.18663976380 ║   -  │ 9.39e-04 ║ S  │     5 │ 1.600000 ║     1 │ 0.002959   ║ \n",
      "   9 ║ 0.478297 │  0.08783653250 ║  0.18356909964 ║   -  │ 3.60e-05 ║ S  │     4 │ 0.800000 ║     1 │ 0.003995   ║ \n",
      "  10 ║ 0.478297 │  0.08723876281 ║  0.18221787226 ║   -  │ 8.45e-05 ║ S  │     3 │ 0.400000 ║     1 │ 0.006496   ║ \n",
      "  11 ║ 0.478297 │  0.08618372530 ║  0.17923542838 ║   -  │ 4.56e-04 ║ S  │     2 │ 0.200000 ║     1 │ 0.010121   ║ \n",
      "  12 ║ 0.478297 │  0.08515501403 ║  0.17802701381 ║   -  │ 5.25e-06 ║ S  │     4 │ 0.800000 ║     1 │ 0.002813   ║ \n",
      "  13 ║ 0.478297 │  0.08499483154 ║  0.17764226460 ║   -  │ 2.91e-05 ║ S  │     4 │ 0.800000 ║     1 │ 0.002479   ║ \n",
      "  14 ║ 0.166772 │  0.02959164281 ║  0.17699258755 ║   -  │ 7.43e-05 ║ S  │     2 │ 0.200000 ║     1 │ 0.012867   ║ \n",
      "  15 ║ 0.166772 │  0.02950664959 ║  0.17656014871 ║   -  │ 6.14e-05 ║ S  │     5 │ 1.600000 ║     1 │ 4.46e-04   ║ \n",
      "  16 ║ 0.166772 │  0.02942703771 ║  0.17612816870 ║   -  │ 5.38e-05 ║ S  │     5 │ 1.600000 ║     1 │ 0.004068   ║ \n",
      "  17 ║ 0.166772 │  0.02931401504 ║  0.17535503378 ║   -  │ 6.97e-05 ║ S  │     4 │ 0.800000 ║     1 │ 0.001913   ║ \n",
      "  18 ║ 0.166772 │  0.02911448504 ║  0.17408462631 ║   -  │ 8.21e-05 ║ S  │     4 │ 0.800000 ║     1 │ 0.003392   ║ \n",
      "  19 ║ 0.166772 │  0.02906573077 ║  0.17380479424 ║   -  │ 8.00e-05 ║ S  │     2 │ 0.200000 ║     1 │ 0.005659   ║ \n",
      "═════╬═══════════════════════════╬════════════════╬═════════════════╬═══════════════════════╬════════════════════╣\n",
      "     ║ <--- Penalty Function --> ║                ║ Total Violation ║ <--- Line Search ---> ║ <- Stationarity -> ║ \n",
      "Iter ║    Mu    │      Value     ║    Objective   ║ Ineq │    Eq    ║ SD │ Evals │     t    ║ Grads │    Value   ║ \n",
      "═════╬═══════════════════════════╬════════════════╬═════════════════╬═══════════════════════╬════════════════════╣\n",
      "  20 ║ 0.166772 │  0.02886394210 ║  0.17296330743 ║   -  │ 1.85e-05 ║ S  │     5 │ 1.600000 ║     1 │ 0.001965   ║ \n",
      "  21 ║ 0.166772 │  0.02881348982 ║  0.17274405939 ║   -  │ 4.65e-06 ║ S  │     3 │ 0.400000 ║     1 │ 0.004752   ║ \n",
      "  22 ║ 0.058150 │  0.01004964541 ║  0.17274362310 ║   -  │ 4.65e-06 ║ S  │    13 │ 3.17e-04 ║     1 │ 0.002184   ║ \n",
      "  23 ║ 0.058150 │  0.01004200842 ║  0.17259383944 ║   -  │ 5.72e-06 ║ S  │     4 │ 0.800000 ║     1 │ 0.001435   ║ \n",
      "  24 ║ 0.058150 │  0.01003780811 ║  0.17251750673 ║   -  │ 5.96e-06 ║ S  │     1 │ 0.100000 ║     1 │ 0.009453   ║ \n",
      "  25 ║ 0.058150 │  0.01002404143 ║  0.17236173801 ║   -  │ 1.25e-06 ║ S  │     3 │ 0.400000 ║     1 │ 0.003385   ║ \n",
      "  26 ║ 0.020276 │  0.00349490248 ║  0.17229965745 ║   -  │ 1.43e-06 ║ S  │     2 │ 0.050000 ║     1 │ 5.53e-04   ║ \n",
      "  27 ║ 0.020276 │  0.00349195905 ║  0.17220740108 ║   -  │ 3.58e-07 ║ S  │     5 │ 1.600000 ║     1 │ 5.07e-04   ║ \n",
      "  28 ║ 0.020276 │  0.00349093447 ║  0.17211277252 ║   -  │ 1.25e-06 ║ S  │     3 │ 0.400000 ║     1 │ 0.002275   ║ \n",
      "  29 ║ 0.020276 │  0.00348929165 ║  0.17205820511 ║   -  │ 7.15e-07 ║ S  │     3 │ 0.400000 ║     1 │ 4.31e-04   ║ \n",
      "  30 ║ 0.018248 │  0.00313988645 ║  0.17202166615 ║   -  │ 8.34e-07 ║ S  │     3 │ 0.400000 ║     1 │ 4.26e-04   ║ \n",
      "  31 ║ 0.018248 │  0.00313962924 ║  0.17201410335 ║   -  │ 7.15e-07 ║ S  │     1 │ 0.100000 ║     1 │ 7.99e-04   ║ \n",
      "  32 ║ 0.018248 │  0.00313921663 ║  0.17198495956 ║   -  │ 8.34e-07 ║ S  │     4 │ 0.800000 ║     1 │ 4.05e-04   ║ \n",
      "  33 ║ 0.018248 │  0.00313808522 ║  0.17193602283 ║   -  │ 5.96e-07 ║ S  │     5 │ 1.600000 ║     1 │ 2.83e-04   ║ \n",
      "  34 ║ 0.018248 │  0.00313663787 ║  0.17184364217 ║   -  │ 8.34e-07 ║ S  │     2 │ 0.200000 ║     1 │ 0.001397   ║ \n",
      "  35 ║ 0.018248 │  0.00313444835 ║  0.17176611787 ║   -  │ 5.96e-08 ║ S  │     3 │ 0.400000 ║     1 │ 0.002251   ║ \n",
      "  36 ║ 0.011973 │  0.00205554440 ║  0.17167864517 ║   -  │ 1.19e-07 ║ S  │     4 │ 0.800000 ║     1 │ 0.003488   ║ \n",
      "  37 ║ 0.011973 │  0.00205499400 ║  0.17162769544 ║   -  │ 1.79e-07 ║ S  │     4 │ 0.800000 ║     1 │ 3.96e-04   ║ \n",
      "  38 ║ 0.007070 │  0.00121335484 ║  0.17161182588 ║   -  │ 1.19e-07 ║ S  │     1 │ 0.100000 ║     1 │ 0.001483   ║ \n",
      "  39 ║ 0.007070 │  0.00121324217 ║  0.17159588955 ║   -  │ 1.19e-07 ║ S  │     1 │ 0.100000 ║     1 │ 8.19e-04   ║ \n",
      "═════╬═══════════════════════════╬════════════════╬═════════════════╬═══════════════════════╬════════════════════╣\n",
      "     ║ <--- Penalty Function --> ║                ║ Total Violation ║ <--- Line Search ---> ║ <- Stationarity -> ║ \n",
      "Iter ║    Mu    │      Value     ║    Objective   ║ Ineq │    Eq    ║ SD │ Evals │     t    ║ Grads │    Value   ║ \n",
      "═════╬═══════════════════════════╬════════════════╬═════════════════╬═══════════════════════╬════════════════════╣\n",
      "  40 ║ 0.007070 │  0.00121315309 ║  0.17158328911 ║   -  │ 1.19e-07 ║ S  │     2 │ 0.200000 ║     1 │ 4.60e-04   ║ \n",
      "  41 ║ 0.007070 │  0.00121310971 ║  0.17157715208 ║   -  │ 1.19e-07 ║ S  │     1 │ 0.100000 ║     1 │ 4.45e-04   ║ \n",
      "  42 ║ 0.007070 │  0.00121294205 ║  0.17155343706 ║   -  │ 1.19e-07 ║ S  │     2 │ 0.200000 ║     1 │ 6.99e-04   ║ \n",
      "  43 ║ 0.007070 │  0.00121274675 ║  0.17153424308 ║   -  │ 5.96e-08 ║ S  │     1 │ 0.100000 ║     1 │ 5.31e-04   ║ \n",
      "  44 ║ 0.007070 │  0.00121268313 ║  0.17152524375 ║   -  │ 5.96e-08 ║ S  │     2 │ 0.200000 ║     1 │ 8.39e-04   ║ \n",
      "  45 ║ 0.007070 │  0.00121262899 ║  0.17149229343 ║   -  │ 2.38e-07 ║ S  │     2 │ 0.200000 ║     1 │ 9.28e-04   ║ \n",
      "  46 ║ 0.007070 │  0.00121244797 ║  0.17144139391 ║   -  │ 4.17e-07 ║ S  │     3 │ 0.400000 ║     1 │ 7.08e-04   ║ \n",
      "  47 ║ 0.007070 │  0.00121205776 ║  0.17142835429 ║   -  │ 1.19e-07 ║ S  │     2 │ 0.050000 ║     1 │ 0.001265   ║ \n"
     ]
    }
   ],
   "source": [
    "# Run the multi-material problem\n",
    "model_type = 'cnn'\n",
    "model, ke, args, soln = multi_material_train.train_mass_constrained_multi_material(\n",
    "    problem=problem,\n",
    "    model_type=model_type,\n",
    "    e_materials=e_materials,\n",
    "    num_materials=num_materials,\n",
    "    volfrac=volfrac,\n",
    "    combined_volfrac=combined_volfrac,\n",
    "    penal=penal,\n",
    ")"
   ]
  },
  {
   "cell_type": "code",
   "execution_count": null,
   "id": "a0cea417-0301-4abe-87eb-5ce150451a30",
   "metadata": {},
   "outputs": [],
   "source": [
    "# Evaluate the outputs\n",
    "model.eval()\n",
    "with torch.no_grad():\n",
    "    final_compliance, final_design = topo_physics.calculate_multi_material_compliance(\n",
    "        model, ke, args, device=device, dtype=torch.double\n",
    "    )\n",
    "    final_design = final_design.detach().cpu().numpy()"
   ]
  },
  {
   "cell_type": "code",
   "execution_count": null,
   "id": "e6406dd1-6e77-4715-a93c-08f6c106e77e",
   "metadata": {},
   "outputs": [],
   "source": [
    "# Plot the outputs\n",
    "fillColors = [\"0.90\", \"red\", \"cyan\", \"black\"]\n",
    "\n",
    "fig, ax = plt.subplots(1, 1, figsize=(10, 7))\n",
    "ax.imshow(\n",
    "    np.argmax(final_design, axis=0),\n",
    "    cmap=colors.ListedColormap(fillColors),\n",
    "    vmin=0,\n",
    "    vmax=3\n",
    ")"
   ]
  },
  {
   "cell_type": "markdown",
   "id": "3565105a-b7bc-4c60-b616-7e940d38c234",
   "metadata": {},
   "source": [
    "# MLP Multi-Material"
   ]
  },
  {
   "cell_type": "code",
   "execution_count": null,
   "id": "b75bebd6-8d0d-4ca8-9801-77d9076d59b0",
   "metadata": {},
   "outputs": [],
   "source": [
    "# Run the multi-material problem\n",
    "model_type = 'mlp'\n",
    "model, ke, args, soln = multi_material_train.train_mass_constrained_multi_material(\n",
    "    problem=problem,\n",
    "    model_type=model_type,\n",
    "    e_materials=e_materials,\n",
    "    num_materials=num_materials,\n",
    "    volfrac=volfrac,\n",
    "    combined_volfrac=combined_volfrac,\n",
    "    penal=penal,\n",
    ")"
   ]
  },
  {
   "cell_type": "code",
   "execution_count": null,
   "id": "e9f7d92c-360f-4545-9cbc-334197fab5d0",
   "metadata": {},
   "outputs": [],
   "source": [
    "# Evaluate the outputs\n",
    "model.eval()\n",
    "with torch.no_grad():\n",
    "    final_compliance, final_design = topo_physics.calculate_multi_material_compliance(\n",
    "        model, ke, args, device=device, dtype=torch.double\n",
    "    )\n",
    "    final_design = final_design.detach().cpu().numpy()"
   ]
  },
  {
   "cell_type": "code",
   "execution_count": null,
   "id": "b07f172f-e038-4c6d-a4d1-6d2e60f41dd5",
   "metadata": {},
   "outputs": [],
   "source": [
    "# Plot the outputs\n",
    "fillColors = [\"0.90\", \"red\", \"cyan\", \"black\"]\n",
    "\n",
    "fig, ax = plt.subplots(1, 1, figsize=(10, 7))\n",
    "ax.imshow(\n",
    "    np.argmax(final_design, axis=0),\n",
    "    cmap=colors.ListedColormap(fillColors),\n",
    "    vmin=0,\n",
    "    vmax=3\n",
    ")"
   ]
  },
  {
   "cell_type": "code",
   "execution_count": null,
   "id": "70e0e2de-e933-4b6b-acd5-4316995e5408",
   "metadata": {},
   "outputs": [],
   "source": []
  }
 ],
 "metadata": {
  "kernelspec": {
   "display_name": "ncvx",
   "language": "python",
   "name": "ncvx"
  },
  "language_info": {
   "codemirror_mode": {
    "name": "ipython",
    "version": 3
   },
   "file_extension": ".py",
   "mimetype": "text/x-python",
   "name": "python",
   "nbconvert_exporter": "python",
   "pygments_lexer": "ipython3",
   "version": "3.9.11"
  }
 },
 "nbformat": 4,
 "nbformat_minor": 5
}
