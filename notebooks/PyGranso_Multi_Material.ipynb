{
 "cells": [
  {
   "cell_type": "code",
   "execution_count": 1,
   "id": "e04e4399-a211-4833-af13-7ee8ff1d08b7",
   "metadata": {},
   "outputs": [
    {
     "data": {
      "text/plain": [
       "'/Users/ryandevera/data-science/tesorio/NCVX-Neural-Structural-Optimization/notebooks'"
      ]
     },
     "execution_count": 1,
     "metadata": {},
     "output_type": "execute_result"
    }
   ],
   "source": [
    "%pwd"
   ]
  },
  {
   "cell_type": "code",
   "execution_count": 2,
   "id": "1b1e3752-740a-44b3-8230-0a3eb49fd17c",
   "metadata": {},
   "outputs": [
    {
     "name": "stdout",
     "output_type": "stream",
     "text": [
      "/Users/ryandevera/data-science/tesorio/NCVX-Neural-Structural-Optimization\n"
     ]
    }
   ],
   "source": [
    "%cd .."
   ]
  },
  {
   "cell_type": "code",
   "execution_count": 3,
   "id": "84c1b02e-77cf-42b4-9b2a-357982bd1012",
   "metadata": {},
   "outputs": [
    {
     "name": "stdout",
     "output_type": "stream",
     "text": [
      "README.md                \u001b[1m\u001b[36mjobs\u001b[m\u001b[m/                    tasks.py\n",
      "Untitled.ipynb           models.py                \u001b[1m\u001b[36mtests\u001b[m\u001b[m/\n",
      "__init__.py              multi_material_train.py  tf.py\n",
      "\u001b[1m\u001b[36m__pycache__\u001b[m\u001b[m/             \u001b[1m\u001b[36mnotebooks\u001b[m\u001b[m/               topo_api.py\n",
      "\u001b[1m\u001b[36mbuyun_test\u001b[m\u001b[m/              problems.py              topo_physics.py\n",
      "experiments.py           pygranso_demo.py         train.py\n",
      "\u001b[1m\u001b[36mframes\u001b[m\u001b[m/                  \u001b[1m\u001b[36mraw_data\u001b[m\u001b[m/                \u001b[1m\u001b[36mutils\u001b[m\u001b[m/\n",
      "ideas.py                 \u001b[1m\u001b[36mresults\u001b[m\u001b[m/                 utils.py\n",
      "\u001b[1m\u001b[36mimages\u001b[m\u001b[m/                  structural_opt.png\n"
     ]
    }
   ],
   "source": [
    "%ls"
   ]
  },
  {
   "cell_type": "code",
   "execution_count": 9,
   "id": "5622f553-e1af-4ae9-bff2-bb08582c0008",
   "metadata": {},
   "outputs": [],
   "source": [
    "import matplotlib.pyplot as plt\n",
    "import numpy as np\n",
    "import torch\n",
    "from matplotlib import colors\n",
    "\n",
    "import multi_material_train\n",
    "import problems\n",
    "import topo_physics"
   ]
  },
  {
   "cell_type": "code",
   "execution_count": 5,
   "id": "cd06bb93-38e6-49ff-bb00-d68f1538f515",
   "metadata": {},
   "outputs": [],
   "source": [
    "# Setup problem and device\n",
    "device = torch.device('cpu')\n",
    "problem = problems.multi_material_tip_cantilever(\n",
    "    height=32, width=96, density=0.5, device=device\n",
    ")\n",
    "problem.name = 'test-multi-material'\n",
    "e_materials = np.array([3.0, 2.0, 1.0])\n",
    "num_materials = len(e_materials)\n",
    "volfrac = np.array([1.0, 0.7, 0.4])\n",
    "combined_volfrac = 0.60\n",
    "penal = 3.0"
   ]
  },
  {
   "cell_type": "markdown",
   "id": "b53e9909-e234-470a-b16c-9e4fb3263ca8",
   "metadata": {},
   "source": [
    "# CNN Multi-Material"
   ]
  },
  {
   "cell_type": "code",
   "execution_count": 6,
   "id": "3b25cc95-4c25-43a4-9728-4f471f15662a",
   "metadata": {},
   "outputs": [
    {
     "name": "stderr",
     "output_type": "stream",
     "text": [
      "/Users/ryandevera/data-science/tesorio/NCVX-Neural-Structural-Optimization/topo_physics.py:622: UserWarning: Implicit dimension choice for softmax has been deprecated. Change the call to include dim=X as an argument.\n",
      "  x_phys = softmax(logits)\n",
      "/Users/ryandevera/.virtualenvs/ncvx/lib/python3.9/site-packages/torch/functional.py:504: UserWarning: torch.meshgrid: in an upcoming release, it will be required to pass the indexing argument. (Triggered internally at /Users/runner/work/pytorch/pytorch/pytorch/aten/src/ATen/native/TensorShape.cpp:3191.)\n",
      "  return _VF.meshgrid(tensors, **kwargs)  # type: ignore[attr-defined]\n"
     ]
    },
    {
     "name": "stdout",
     "output_type": "stream",
     "text": [
      "\n",
      "\n",
      "\u001b[33m╔═════ QP SOLVER NOTICE ════════════════════════════════════════════════════════════════════════╗\n",
      "\u001b[0m\u001b[33m║  PyGRANSO requires a quadratic program (QP) solver that has a quadprog-compatible interface,  ║\n",
      "\u001b[0m\u001b[33m║  the default is osqp. Users may provide their own wrapper for the QP solver.                  ║\n",
      "\u001b[0m\u001b[33m║  To disable this notice, set opts.quadprog_info_msg = False                                   ║\n",
      "\u001b[0m\u001b[33m╚═══════════════════════════════════════════════════════════════════════════════════════════════╝\n",
      "\u001b[0m═════════════════════════════════════════════════════════════════════════════════════════════════════════════════╗\n",
      "PyGRANSO: A PyTorch-enabled port of GRANSO with auto-differentiation                                             ║ \n",
      "Version 1.2.0                                                                                                    ║ \n",
      "Licensed under the AGPLv3, Copyright (C) 2021-2022 Tim Mitchell and Buyun Liang                                  ║ \n",
      "═════════════════════════════════════════════════════════════════════════════════════════════════════════════════╣\n",
      "Problem specifications:                                                                                          ║ \n",
      " # of variables                     :   675764                                                                   ║ \n",
      " # of inequality constraints        :        0                                                                   ║ \n",
      " # of equality constraints          :        1                                                                   ║ \n",
      "═════════════════════════════════════════════════════════════════════════════════════════════════════════════════╣\n",
      "\u001b[33mLimited-memory mode enabled with size = 20.                                                                     \u001b[0m ║ \n",
      "\u001b[33mNOTE: limited-memory mode is generally NOT                                                                      \u001b[0m ║ \n",
      "\u001b[33mrecommended for nonsmooth problems.                                                                             \u001b[0m ║ \n",
      "═════╦═══════════════════════════╦════════════════╦═════════════════╦═══════════════════════╦════════════════════╣\n",
      "     ║ <--- Penalty Function --> ║                ║ Total Violation ║ <--- Line Search ---> ║ <- Stationarity -> ║ \n",
      "Iter ║    Mu    │      Value     ║    Objective   ║ Ineq │    Eq    ║ SD │ Evals │     t    ║ Grads │    Value   ║ \n",
      "═════╬═══════════════════════════╬════════════════╬═════════════════╬═══════════════════════╬════════════════════╣\n",
      "   0 ║ 1.000000 │  1.06942521093 ║  0.99650268314 ║   -  │ 0.072923 ║ -  │     1 │ 0.000000 ║     1 │ 1.062819   ║ \n",
      "   1 ║ 0.478297 │  0.27194646638 ║  0.37062672611 ║   -  │ 0.094677 ║ S  │     1 │ 0.100000 ║     1 │ 0.046319   ║ \n"
     ]
    },
    {
     "name": "stderr",
     "output_type": "stream",
     "text": [
      "/Users/ryandevera/.virtualenvs/ncvx/lib/python3.9/site-packages/pygranso/private/bfgsHessianInverseLimitedMem.py:237: UserWarning: The use of `x.T` on tensors of dimension other than 2 to reverse their shape is deprecated and it will throw an error in a future release. Consider `x.mT` to transpose batches of matrices or `x.permute(*torch.arange(x.ndim - 1, -1, -1))` to reverse the dimensions of a tensor. (Triggered internally at /Users/runner/work/pytorch/pytorch/pytorch/aten/src/ATen/native/TensorShape.cpp:3281.)\n",
      "  alpha[j,:]  = self.rho[0,j] * (self.S[:,j].T  @ q)\n"
     ]
    },
    {
     "name": "stdout",
     "output_type": "stream",
     "text": [
      "   2 ║ 0.478297 │  0.22686962381 ║  0.31406588528 ║   -  │ 0.076653 ║ S  │     2 │ 0.200000 ║     1 │ 0.002940   ║ \n",
      "   3 ║ 0.478297 │  0.12522468769 ║  0.22336915416 ║   -  │ 0.018388 ║ S  │     5 │ 1.600000 ║     1 │ 0.001678   ║ \n",
      "   4 ║ 0.478297 │  0.11140292036 ║  0.21474184295 ║   -  │ 0.008693 ║ S  │     5 │ 1.600000 ║     1 │ 0.001583   ║ \n",
      "   5 ║ 0.478297 │  0.10191092923 ║  0.20290555421 ║   -  │ 0.004862 ║ S  │     5 │ 1.600000 ║     1 │ 0.001833   ║ \n",
      "   6 ║ 0.478297 │  0.09784419442 ║  0.19903907961 ║   -  │ 0.002644 ║ S  │     5 │ 1.600000 ║     1 │ 0.002231   ║ \n",
      "   7 ║ 0.478297 │  0.09383902294 ║  0.19254226492 ║   -  │ 0.001747 ║ S  │     5 │ 1.600000 ║     1 │ 0.002604   ║ \n",
      "   8 ║ 0.478297 │  0.09020799360 ║  0.18663976380 ║   -  │ 9.39e-04 ║ S  │     5 │ 1.600000 ║     1 │ 0.002959   ║ \n",
      "   9 ║ 0.478297 │  0.08783653250 ║  0.18356909964 ║   -  │ 3.60e-05 ║ S  │     4 │ 0.800000 ║     1 │ 0.003995   ║ \n",
      "  10 ║ 0.478297 │  0.08723876281 ║  0.18221787226 ║   -  │ 8.45e-05 ║ S  │     3 │ 0.400000 ║     1 │ 0.006496   ║ \n",
      "  11 ║ 0.478297 │  0.08618372530 ║  0.17923542838 ║   -  │ 4.56e-04 ║ S  │     2 │ 0.200000 ║     1 │ 0.010121   ║ \n",
      "  12 ║ 0.478297 │  0.08515501403 ║  0.17802701381 ║   -  │ 5.25e-06 ║ S  │     4 │ 0.800000 ║     1 │ 0.002813   ║ \n",
      "  13 ║ 0.478297 │  0.08499483154 ║  0.17764226460 ║   -  │ 2.91e-05 ║ S  │     4 │ 0.800000 ║     1 │ 0.002479   ║ \n",
      "  14 ║ 0.166772 │  0.02959164281 ║  0.17699258755 ║   -  │ 7.43e-05 ║ S  │     2 │ 0.200000 ║     1 │ 0.012867   ║ \n",
      "  15 ║ 0.166772 │  0.02950664959 ║  0.17656014871 ║   -  │ 6.14e-05 ║ S  │     5 │ 1.600000 ║     1 │ 4.46e-04   ║ \n",
      "  16 ║ 0.166772 │  0.02942703771 ║  0.17612816870 ║   -  │ 5.38e-05 ║ S  │     5 │ 1.600000 ║     1 │ 0.004068   ║ \n",
      "  17 ║ 0.166772 │  0.02931401504 ║  0.17535503378 ║   -  │ 6.97e-05 ║ S  │     4 │ 0.800000 ║     1 │ 0.001913   ║ \n",
      "  18 ║ 0.166772 │  0.02911448504 ║  0.17408462631 ║   -  │ 8.21e-05 ║ S  │     4 │ 0.800000 ║     1 │ 0.003392   ║ \n",
      "  19 ║ 0.166772 │  0.02906573077 ║  0.17380479424 ║   -  │ 8.00e-05 ║ S  │     2 │ 0.200000 ║     1 │ 0.005659   ║ \n",
      "═════╬═══════════════════════════╬════════════════╬═════════════════╬═══════════════════════╬════════════════════╣\n",
      "     ║ <--- Penalty Function --> ║                ║ Total Violation ║ <--- Line Search ---> ║ <- Stationarity -> ║ \n",
      "Iter ║    Mu    │      Value     ║    Objective   ║ Ineq │    Eq    ║ SD │ Evals │     t    ║ Grads │    Value   ║ \n",
      "═════╬═══════════════════════════╬════════════════╬═════════════════╬═══════════════════════╬════════════════════╣\n",
      "  20 ║ 0.166772 │  0.02886394210 ║  0.17296330743 ║   -  │ 1.85e-05 ║ S  │     5 │ 1.600000 ║     1 │ 0.001965   ║ \n",
      "  21 ║ 0.166772 │  0.02881348982 ║  0.17274405939 ║   -  │ 4.65e-06 ║ S  │     3 │ 0.400000 ║     1 │ 0.004752   ║ \n",
      "  22 ║ 0.058150 │  0.01004964541 ║  0.17274362310 ║   -  │ 4.65e-06 ║ S  │    13 │ 3.17e-04 ║     1 │ 0.002184   ║ \n",
      "  23 ║ 0.058150 │  0.01004200842 ║  0.17259383944 ║   -  │ 5.72e-06 ║ S  │     4 │ 0.800000 ║     1 │ 0.001435   ║ \n",
      "  24 ║ 0.058150 │  0.01003780811 ║  0.17251750673 ║   -  │ 5.96e-06 ║ S  │     1 │ 0.100000 ║     1 │ 0.009453   ║ \n",
      "  25 ║ 0.058150 │  0.01002404143 ║  0.17236173801 ║   -  │ 1.25e-06 ║ S  │     3 │ 0.400000 ║     1 │ 0.003385   ║ \n",
      "  26 ║ 0.020276 │  0.00349490248 ║  0.17229965745 ║   -  │ 1.43e-06 ║ S  │     2 │ 0.050000 ║     1 │ 5.53e-04   ║ \n",
      "  27 ║ 0.020276 │  0.00349195905 ║  0.17220740108 ║   -  │ 3.58e-07 ║ S  │     5 │ 1.600000 ║     1 │ 5.07e-04   ║ \n",
      "  28 ║ 0.020276 │  0.00349093447 ║  0.17211277252 ║   -  │ 1.25e-06 ║ S  │     3 │ 0.400000 ║     1 │ 0.002275   ║ \n",
      "  29 ║ 0.020276 │  0.00348929165 ║  0.17205820511 ║   -  │ 7.15e-07 ║ S  │     3 │ 0.400000 ║     1 │ 4.31e-04   ║ \n",
      "  30 ║ 0.018248 │  0.00313988645 ║  0.17202166615 ║   -  │ 8.34e-07 ║ S  │     3 │ 0.400000 ║     1 │ 4.26e-04   ║ \n",
      "  31 ║ 0.018248 │  0.00313962924 ║  0.17201410335 ║   -  │ 7.15e-07 ║ S  │     1 │ 0.100000 ║     1 │ 7.99e-04   ║ \n",
      "  32 ║ 0.018248 │  0.00313921663 ║  0.17198495956 ║   -  │ 8.34e-07 ║ S  │     4 │ 0.800000 ║     1 │ 4.05e-04   ║ \n",
      "  33 ║ 0.018248 │  0.00313808522 ║  0.17193602283 ║   -  │ 5.96e-07 ║ S  │     5 │ 1.600000 ║     1 │ 2.83e-04   ║ \n",
      "  34 ║ 0.018248 │  0.00313663787 ║  0.17184364217 ║   -  │ 8.34e-07 ║ S  │     2 │ 0.200000 ║     1 │ 0.001397   ║ \n",
      "  35 ║ 0.018248 │  0.00313444835 ║  0.17176611787 ║   -  │ 5.96e-08 ║ S  │     3 │ 0.400000 ║     1 │ 0.002251   ║ \n",
      "  36 ║ 0.011973 │  0.00205554440 ║  0.17167864517 ║   -  │ 1.19e-07 ║ S  │     4 │ 0.800000 ║     1 │ 0.003488   ║ \n",
      "  37 ║ 0.011973 │  0.00205499400 ║  0.17162769544 ║   -  │ 1.79e-07 ║ S  │     4 │ 0.800000 ║     1 │ 3.96e-04   ║ \n",
      "  38 ║ 0.007070 │  0.00121335484 ║  0.17161182588 ║   -  │ 1.19e-07 ║ S  │     1 │ 0.100000 ║     1 │ 0.001483   ║ \n",
      "  39 ║ 0.007070 │  0.00121324217 ║  0.17159588955 ║   -  │ 1.19e-07 ║ S  │     1 │ 0.100000 ║     1 │ 8.19e-04   ║ \n",
      "═════╬═══════════════════════════╬════════════════╬═════════════════╬═══════════════════════╬════════════════════╣\n",
      "     ║ <--- Penalty Function --> ║                ║ Total Violation ║ <--- Line Search ---> ║ <- Stationarity -> ║ \n",
      "Iter ║    Mu    │      Value     ║    Objective   ║ Ineq │    Eq    ║ SD │ Evals │     t    ║ Grads │    Value   ║ \n",
      "═════╬═══════════════════════════╬════════════════╬═════════════════╬═══════════════════════╬════════════════════╣\n",
      "  40 ║ 0.007070 │  0.00121315309 ║  0.17158328911 ║   -  │ 1.19e-07 ║ S  │     2 │ 0.200000 ║     1 │ 4.60e-04   ║ \n",
      "  41 ║ 0.007070 │  0.00121310971 ║  0.17157715208 ║   -  │ 1.19e-07 ║ S  │     1 │ 0.100000 ║     1 │ 4.45e-04   ║ \n",
      "  42 ║ 0.007070 │  0.00121294205 ║  0.17155343706 ║   -  │ 1.19e-07 ║ S  │     2 │ 0.200000 ║     1 │ 6.99e-04   ║ \n",
      "  43 ║ 0.007070 │  0.00121274675 ║  0.17153424308 ║   -  │ 5.96e-08 ║ S  │     1 │ 0.100000 ║     1 │ 5.31e-04   ║ \n",
      "  44 ║ 0.007070 │  0.00121268313 ║  0.17152524375 ║   -  │ 5.96e-08 ║ S  │     2 │ 0.200000 ║     1 │ 8.39e-04   ║ \n",
      "  45 ║ 0.007070 │  0.00121262899 ║  0.17149229343 ║   -  │ 2.38e-07 ║ S  │     2 │ 0.200000 ║     1 │ 9.28e-04   ║ \n",
      "  46 ║ 0.007070 │  0.00121244797 ║  0.17144139391 ║   -  │ 4.17e-07 ║ S  │     3 │ 0.400000 ║     1 │ 7.08e-04   ║ \n",
      "  47 ║ 0.007070 │  0.00121205776 ║  0.17142835429 ║   -  │ 1.19e-07 ║ S  │     2 │ 0.050000 ║     1 │ 0.001265   ║ \n",
      "  48 ║ 0.007070 │  0.00121181903 ║  0.17141144863 ║   -  │ 0.000000 ║ S  │     1 │ 0.100000 ║     1 │ 5.75e-04   ║ \n",
      "═════╩═══════════════════════════╩════════════════╩═════════════════╩═══════════════════════╩════════════════════╣\n",
      "Optimization results:                                                                                            ║ \n",
      "F = final iterate, B = Best (to tolerance), MF = Most Feasible                                                   ║ \n",
      "═════╦═══════════════════════════╦════════════════╦═════════════════╦═══════════════════════╦════════════════════╣\n",
      "   F ║          │                ║  0.17141144863 ║   -  │ 0.000000 ║    │       │          ║       │            ║ \n",
      "   B ║          │                ║  0.17133027824 ║   -  │ 9.06e-06 ║    │       │          ║       │            ║ \n",
      "  MF ║          │                ║  0.17140459492 ║   -  │ 0.000000 ║    │       │          ║       │            ║ \n",
      "═════╩═══════════════════════════╩════════════════╩═════════════════╩═══════════════════════╩════════════════════╣\n",
      "Iterations:              48                                                                                      ║ \n",
      "Function evaluations:    188                                                                                     ║ \n",
      "PyGRANSO termination code: 6 --- line search bracketed a minimizer but failed to satisfy Wolfe conditions at a   ║ \n",
      "(strictly) feasible point.  This may be an indication that approximate stationarity has been attained.           ║ \n",
      "═════════════════════════════════════════════════════════════════════════════════════════════════════════════════╝\n"
     ]
    }
   ],
   "source": [
    "# Run the multi-material problem\n",
    "model_type = 'cnn'\n",
    "model, ke, args, soln = multi_material_train.train_mass_constrained_multi_material(\n",
    "    problem=problem,\n",
    "    model_type=model_type,\n",
    "    e_materials=e_materials,\n",
    "    num_materials=num_materials,\n",
    "    volfrac=volfrac,\n",
    "    combined_volfrac=combined_volfrac,\n",
    "    penal=penal,\n",
    ")"
   ]
  },
  {
   "cell_type": "code",
   "execution_count": 7,
   "id": "a0cea417-0301-4abe-87eb-5ce150451a30",
   "metadata": {},
   "outputs": [],
   "source": [
    "# Evaluate the outputs\n",
    "model.eval()\n",
    "with torch.no_grad():\n",
    "    final_compliance, final_design = topo_physics.calculate_multi_material_compliance(\n",
    "        model, ke, args, device=device, dtype=torch.double\n",
    "    )\n",
    "    final_design = final_design.detach().cpu().numpy()"
   ]
  },
  {
   "cell_type": "code",
   "execution_count": 10,
   "id": "e6406dd1-6e77-4715-a93c-08f6c106e77e",
   "metadata": {},
   "outputs": [
    {
     "data": {
      "text/plain": [
       "<matplotlib.image.AxesImage at 0x1eebd45e0>"
      ]
     },
     "execution_count": 10,
     "metadata": {},
     "output_type": "execute_result"
    },
    {
     "data": {
      "image/png": "[encoded data removed]",
      "text/plain": [
       "<Figure size 1000x700 with 1 Axes>"
      ]
     },
     "metadata": {},
     "output_type": "display_data"
    }
   ],
   "source": [
    "# Plot the outputs\n",
    "fillColors = [\"0.90\", \"red\", \"cyan\", \"black\"]\n",
    "\n",
    "fig, ax = plt.subplots(1, 1, figsize=(10, 7))\n",
    "ax.imshow(\n",
    "    np.argmax(final_design, axis=0),\n",
    "    cmap=colors.ListedColormap(fillColors),\n",
    "    vmin=0,\n",
    "    vmax=3\n",
    ")"
   ]
  },
  {
   "cell_type": "markdown",
   "id": "3565105a-b7bc-4c60-b616-7e940d38c234",
   "metadata": {},
   "source": [
    "# MLP Multi-Material"
   ]
  },
  {
   "cell_type": "code",
   "execution_count": 11,
   "id": "b75bebd6-8d0d-4ca8-9801-77d9076d59b0",
   "metadata": {},
   "outputs": [
    {
     "name": "stdout",
     "output_type": "stream",
     "text": [
      "\n",
      "\n",
      "\u001b[33m╔═════ QP SOLVER NOTICE ════════════════════════════════════════════════════════════════════════╗\n",
      "\u001b[0m\u001b[33m║  PyGRANSO requires a quadratic program (QP) solver that has a quadprog-compatible interface,  ║\n",
      "\u001b[0m\u001b[33m║  the default is osqp. Users may provide their own wrapper for the QP solver.                  ║\n",
      "\u001b[0m\u001b[33m║  To disable this notice, set opts.quadprog_info_msg = False                                   ║\n",
      "\u001b[0m\u001b[33m╚═══════════════════════════════════════════════════════════════════════════════════════════════╝\n",
      "\u001b[0m═════════════════════════════════════════════════════════════════════════════════════════════════════════════════╗\n",
      "PyGRANSO: A PyTorch-enabled port of GRANSO with auto-differentiation                                             ║ \n",
      "Version 1.2.0                                                                                                    ║ \n",
      "Licensed under the AGPLv3, Copyright (C) 2021-2022 Tim Mitchell and Buyun Liang                                  ║ \n",
      "═════════════════════════════════════════════════════════════════════════════════════════════════════════════════╣\n",
      "Problem specifications:                                                                                          ║ \n",
      " # of variables                     :   8168                                                                     ║ \n",
      " # of inequality constraints        :      0                                                                     ║ \n",
      " # of equality constraints          :      1                                                                     ║ \n",
      "═════════════════════════════════════════════════════════════════════════════════════════════════════════════════╣\n",
      "\u001b[33mLimited-memory mode enabled with size = 20.                                                                     \u001b[0m ║ \n",
      "\u001b[33mNOTE: limited-memory mode is generally NOT                                                                      \u001b[0m ║ \n",
      "\u001b[33mrecommended for nonsmooth problems.                                                                             \u001b[0m ║ \n",
      "═════╦═══════════════════════════╦════════════════╦═════════════════╦═══════════════════════╦════════════════════╣\n",
      "     ║ <--- Penalty Function --> ║                ║ Total Violation ║ <--- Line Search ---> ║ <- Stationarity -> ║ \n",
      "Iter ║    Mu    │      Value     ║    Objective   ║ Ineq │    Eq    ║ SD │ Evals │     t    ║ Grads │    Value   ║ \n",
      "═════╬═══════════════════════════╬════════════════╬═════════════════╬═══════════════════════╬════════════════════╣\n",
      "   0 ║ 1.000000 │  1.12939646740 ║  0.99902990360 ║   -  │ 0.130367 ║ -  │     1 │ 0.000000 ║     1 │ 0.786665   ║ \n",
      "   1 ║ 1.000000 │  0.92002285606 ║  0.81331969387 ║   -  │ 0.106703 ║ S  │     2 │ 0.200000 ║     1 │ 0.217055   ║ \n",
      "   2 ║ 1.000000 │  0.63899616999 ║  0.58310715956 ║   -  │ 0.055889 ║ S  │     4 │ 0.800000 ║     1 │ 0.073951   ║ \n",
      "   3 ║ 1.000000 │  0.42267092917 ║  0.42150935385 ║   -  │ 0.001162 ║ S  │     5 │ 1.600000 ║     1 │ 0.021532   ║ \n",
      "   4 ║ 0.478297 │  0.18707941226 ║  0.38716822532 ║   -  │ 0.001898 ║ S  │     8 │ 12.80000 ║     1 │ 0.009404   ║ \n",
      "   5 ║ 0.478297 │  0.18058424755 ║  0.37683027524 ║   -  │ 3.47e-04 ║ S  │     4 │ 0.800000 ║     1 │ 0.010446   ║ \n",
      "   6 ║ 0.387420 │  0.14312809372 ║  0.36934816370 ║   -  │ 3.50e-05 ║ S  │     5 │ 1.600000 ║     1 │ 0.010177   ║ \n",
      "   7 ║ 0.313811 │  0.11541586364 ║  0.36691153847 ║   -  │ 2.75e-04 ║ S  │     5 │ 1.600000 ║     1 │ 0.033096   ║ \n",
      "   8 ║ 0.313811 │  0.11461705892 ║  0.36484430356 ║   -  │ 1.25e-04 ║ S  │     5 │ 1.600000 ║     1 │ 0.009825   ║ \n",
      "   9 ║ 0.205891 │  0.07463648251 ║  0.36219194452 ║   -  │ 6.44e-05 ║ S  │     3 │ 0.400000 ║     1 │ 0.020605   ║ \n",
      "  10 ║ 0.205891 │  0.07380094465 ║  0.35822469253 ║   -  │ 4.57e-05 ║ S  │     4 │ 0.800000 ║     1 │ 0.024611   ║ \n",
      "  11 ║ 0.150095 │  0.05331739324 ║  0.35339924694 ║   -  │ 2.74e-04 ║ S  │     6 │ 3.200000 ║     1 │ 0.012716   ║ \n",
      "  12 ║ 0.150095 │  0.05293231752 ║  0.35193925882 ║   -  │ 1.08e-04 ║ S  │     5 │ 1.600000 ║     1 │ 0.024616   ║ \n",
      "  13 ║ 0.150095 │  0.05249419506 ║  0.34966241694 ║   -  │ 1.17e-05 ║ S  │     4 │ 0.800000 ║     1 │ 0.064716   ║ \n",
      "  14 ║ 0.150095 │  0.05225835773 ║  0.34806494989 ║   -  │ 1.57e-05 ║ S  │     6 │ 3.200000 ║     1 │ 0.010830   ║ \n",
      "  15 ║ 0.150095 │  0.05216446239 ║  0.34728291278 ║   -  │ 3.92e-05 ║ S  │     3 │ 0.400000 ║     1 │ 0.031544   ║ \n",
      "  16 ║ 0.150095 │  0.05190462644 ║  0.34562681977 ║   -  │ 2.79e-05 ║ S  │     5 │ 1.600000 ║     1 │ 0.016537   ║ \n",
      "  17 ║ 0.150095 │  0.05172868163 ║  0.34439502692 ║   -  │ 3.68e-05 ║ S  │     4 │ 0.800000 ║     1 │ 0.033034   ║ \n",
      "  18 ║ 0.150095 │  0.05155591950 ║  0.34327458330 ║   -  │ 3.22e-05 ║ S  │     5 │ 1.600000 ║     1 │ 0.015984   ║ \n",
      "  19 ║ 0.150095 │  0.05144418650 ║  0.34246662805 ║   -  │ 4.18e-05 ║ S  │     4 │ 0.800000 ║     1 │ 0.028215   ║ \n",
      "═════╬═══════════════════════════╬════════════════╬═════════════════╬═══════════════════════╬════════════════════╣\n",
      "     ║ <--- Penalty Function --> ║                ║ Total Violation ║ <--- Line Search ---> ║ <- Stationarity -> ║ \n",
      "Iter ║    Mu    │      Value     ║    Objective   ║ Ineq │    Eq    ║ SD │ Evals │     t    ║ Grads │    Value   ║ \n",
      "═════╬═══════════════════════════╬════════════════╬═════════════════╬═══════════════════════╬════════════════════╣\n",
      "  20 ║ 0.150095 │  0.05130712692 ║  0.34175878147 ║   -  │ 1.10e-05 ║ S  │     5 │ 1.600000 ║     1 │ 0.012839   ║ \n",
      "  21 ║ 0.058150 │  0.01985165716 ║  0.34123381950 ║   -  │ 9.00e-06 ║ S  │     3 │ 0.400000 ║     1 │ 0.003538   ║ \n",
      "  22 ║ 0.058150 │  0.01984437877 ║  0.34116912928 ║   -  │ 5.48e-06 ║ S  │     5 │ 1.600000 ║     1 │ 2.12e-04   ║ \n",
      "  23 ║ 0.058150 │  0.01983516096 ║  0.34106288686 ║   -  │ 2.44e-06 ║ S  │     5 │ 1.600000 ║     1 │ 8.95e-04   ║ \n",
      "  24 ║ 0.058150 │  0.01981436791 ║  0.34072068434 ║   -  │ 1.55e-06 ║ S  │     5 │ 1.600000 ║     1 │ 0.002037   ║ \n",
      "  25 ║ 0.022528 │  0.00767267854 ║  0.34055424512 ║   -  │ 5.36e-07 ║ S  │     4 │ 0.800000 ║     1 │ 0.003863   ║ \n",
      "  26 ║ 0.010775 │  0.00366588751 ║  0.33981497757 ║   -  │ 4.29e-06 ║ S  │     8 │ 12.80000 ║     1 │ 0.006591   ║ \n",
      "  27 ║ 0.010775 │  0.00366136325 ║  0.33950573515 ║   -  │ 3.10e-06 ║ S  │     5 │ 1.600000 ║     1 │ 0.001125   ║ \n",
      "  28 ║ 0.010775 │  0.00366048201 ║  0.33944607789 ║   -  │ 2.86e-06 ║ S  │     2 │ 0.200000 ║     1 │ 3.19e-04   ║ \n",
      "  29 ║ 0.010775 │  0.00365913292 ║  0.33937619103 ║   -  │ 2.26e-06 ║ S  │     5 │ 1.600000 ║     1 │ 4.82e-04   ║ \n",
      "  30 ║ 0.010775 │  0.00365813244 ║  0.33938844228 ║   -  │ 1.13e-06 ║ S  │     5 │ 1.600000 ║     1 │ 8.41e-04   ║ \n",
      "  31 ║ 0.010775 │  0.00365768214 ║  0.33933005755 ║   -  │ 1.31e-06 ║ S  │     5 │ 1.600000 ║     1 │ 3.17e-04   ║ \n",
      "  32 ║ 0.010775 │  0.00365700931 ║  0.33933399509 ║   -  │ 5.96e-07 ║ S  │     5 │ 1.600000 ║     1 │ 9.87e-04   ║ \n",
      "  33 ║ 0.010775 │  0.00365593152 ║  0.33928928636 ║   -  │ 0.000000 ║ S  │     4 │ 0.800000 ║     1 │ 8.68e-04   ║ \n",
      "  34 ║ 0.009698 │  0.00328999358 ║  0.33905705306 ║   -  │ 1.91e-06 ║ S  │     6 │ 3.200000 ║     1 │ 8.96e-04   ║ \n",
      "  35 ║ 0.009698 │  0.00328896923 ║  0.33904976514 ║   -  │ 9.54e-07 ║ S  │     6 │ 3.200000 ║     1 │ 0.001759   ║ \n",
      "  36 ║ 0.009698 │  0.00328793929 ║  0.33897429206 ║   -  │ 6.56e-07 ║ S  │     3 │ 0.400000 ║     1 │ 9.41e-04   ║ \n",
      "  37 ║ 0.009698 │  0.00328641237 ║  0.33884757220 ║   -  │ 3.58e-07 ║ S  │     4 │ 0.800000 ║     1 │ 0.001803   ║ \n",
      "═════╩═══════════════════════════╩════════════════╩═════════════════╩═══════════════════════╩════════════════════╣\n",
      "Optimization results:                                                                                            ║ \n",
      "F = final iterate, B = Best (to tolerance), MF = Most Feasible                                                   ║ \n",
      "═════╦═══════════════════════════╦════════════════╦═════════════════╦═══════════════════════╦════════════════════╣\n",
      "   F ║          │                ║  0.33884757220 ║   -  │ 3.58e-07 ║    │       │          ║       │            ║ \n",
      "   B ║          │                ║  0.33883584085 ║   -  │ 4.77e-07 ║    │       │          ║       │            ║ \n",
      "  MF ║          │                ║  0.33927430489 ║   -  │ 0.000000 ║    │       │          ║       │            ║ \n",
      "═════╩═══════════════════════════╩════════════════╩═════════════════╩═══════════════════════╩════════════════════╣\n",
      "Iterations:              37                                                                                      ║ \n",
      "Function evaluations:    193                                                                                     ║ \n",
      "PyGRANSO termination code: 6 --- line search bracketed a minimizer but failed to satisfy Wolfe conditions at a   ║ \n",
      "feasible point (to tolerances).  This may be an indication that approximate stationarity has been attained.      ║ \n",
      "═════════════════════════════════════════════════════════════════════════════════════════════════════════════════╝\n"
     ]
    }
   ],
   "source": [
    "# Run the multi-material problem\n",
    "model_type = 'mlp'\n",
    "model, ke, args, soln = multi_material_train.train_mass_constrained_multi_material(\n",
    "    problem=problem,\n",
    "    model_type=model_type,\n",
    "    e_materials=e_materials,\n",
    "    num_materials=num_materials,\n",
    "    volfrac=volfrac,\n",
    "    combined_volfrac=combined_volfrac,\n",
    "    penal=penal,\n",
    ")"
   ]
  },
  {
   "cell_type": "code",
   "execution_count": 12,
   "id": "e9f7d92c-360f-4545-9cbc-334197fab5d0",
   "metadata": {},
   "outputs": [],
   "source": [
    "# Evaluate the outputs\n",
    "model.eval()\n",
    "with torch.no_grad():\n",
    "    final_compliance, final_design = topo_physics.calculate_multi_material_compliance(\n",
    "        model, ke, args, device=device, dtype=torch.double\n",
    "    )\n",
    "    final_design = final_design.detach().cpu().numpy()"
   ]
  },
  {
   "cell_type": "code",
   "execution_count": 13,
   "id": "b07f172f-e038-4c6d-a4d1-6d2e60f41dd5",
   "metadata": {},
   "outputs": [
    {
     "data": {
      "text/plain": [
       "<matplotlib.image.AxesImage at 0x1eeb68d30>"
      ]
     },
     "execution_count": 13,
     "metadata": {},
     "output_type": "execute_result"
    },
    {
     "data": {
      "image/png": "[encoded data removed]",
      "text/plain": [
       "<Figure size 1000x700 with 1 Axes>"
      ]
     },
     "metadata": {},
     "output_type": "display_data"
    }
   ],
   "source": [
    "# Plot the outputs\n",
    "fillColors = [\"0.90\", \"red\", \"cyan\", \"black\"]\n",
    "\n",
    "fig, ax = plt.subplots(1, 1, figsize=(10, 7))\n",
    "ax.imshow(\n",
    "    np.argmax(final_design, axis=0),\n",
    "    cmap=colors.ListedColormap(fillColors),\n",
    "    vmin=0,\n",
    "    vmax=3\n",
    ")"
   ]
  }
 ],
 "metadata": {
  "kernelspec": {
   "display_name": "ncvx",
   "language": "python",
   "name": "ncvx"
  },
  "language_info": {
   "codemirror_mode": {
    "name": "ipython",
    "version": 3
   },
   "file_extension": ".py",
   "mimetype": "text/x-python",
   "name": "python",
   "nbconvert_exporter": "python",
   "pygments_lexer": "ipython3",
   "version": "3.9.11"
  }
 },
 "nbformat": 4,
 "nbformat_minor": 5
}
