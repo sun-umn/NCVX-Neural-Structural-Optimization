{
 "cells": [
  {
   "cell_type": "code",
   "execution_count": 1,
   "id": "6d5b55ea",
   "metadata": {},
   "outputs": [
    {
     "data": {
      "text/plain": [
       "'/Users/ryandevera/data-science/tesorio/NCVX-Neural-Structural-Optimization/notebooks'"
      ]
     },
     "execution_count": 1,
     "metadata": {},
     "output_type": "execute_result"
    }
   ],
   "source": [
    "%pwd"
   ]
  },
  {
   "cell_type": "code",
   "execution_count": 2,
   "id": "23a937a4",
   "metadata": {},
   "outputs": [
    {
     "name": "stdout",
     "output_type": "stream",
     "text": [
      "/Users/ryandevera/data-science/tesorio/NCVX-Neural-Structural-Optimization\n"
     ]
    }
   ],
   "source": [
    "%cd .."
   ]
  },
  {
   "cell_type": "code",
   "execution_count": 3,
   "id": "b1a31c45",
   "metadata": {},
   "outputs": [],
   "source": [
    "import numpy as np\n",
    "import matplotlib.pyplot as plt\n",
    "import time\n",
    "import torch\n",
    "import os\n",
    "import pandas as pd\n",
    "\n",
    "# import problems to solve\n",
    "import problems\n",
    "import experiments\n",
    "import train\n",
    "import topo_api\n",
    "import topo_physics\n",
    "import models\n",
    "import utils\n",
    "\n",
    "from pygranso.private.getNvar import getNvarTorch\n",
    "from pygranso.pygranso import pygranso\n",
    "from pygranso.pygransoStruct import pygransoStruct\n",
    "\n",
    "from scipy.ndimage import gaussian_filter"
   ]
  },
  {
   "cell_type": "markdown",
   "id": "1cf68c84",
   "metadata": {},
   "source": [
    "# Running neural structural optimization with PyGranso 🧨\n",
    "\n",
    "To check the validity of our new `torch` based code we will test the structural optimization with `torch.optim` optimizers.\n",
    "\n",
    "### MBB Beam\n",
    "\n",
    "The first problem that we will run is with the **MBB BEAM**."
   ]
  },
  {
   "cell_type": "code",
   "execution_count": 4,
   "id": "a048958b",
   "metadata": {},
   "outputs": [],
   "source": [
    "def constrained_structural_optimization_function(model, ke, args, designs, losses):\n",
    "    \"\"\"\n",
    "    Combined function for PyGranso for the structural optimization\n",
    "    problem. The inputs will be the model that reparameterizes x as a function\n",
    "    of a neural network. V0 is the initial volume, K is the global stiffness\n",
    "    matrix and F is the forces that are applied in the problem.\n",
    "    \"\"\"\n",
    "    # Initialize the model\n",
    "    # In my version of the model it follows the similar behavior of the\n",
    "    # tensorflow repository and only needs None to initialize and output\n",
    "    # a first value of x\n",
    "    logits = model(None)\n",
    "\n",
    "    # kwargs for displacement\n",
    "    kwargs = dict(\n",
    "        penal=torch.tensor(args[\"penal\"]),\n",
    "        e_min=torch.tensor(args[\"young_min\"]),\n",
    "        e_0=torch.tensor(args[\"young\"]),\n",
    "        base='MATLAB',\n",
    "    )\n",
    "    x_phys = torch.sigmoid(logits)\n",
    "\n",
    "    # Calculate the forces\n",
    "    forces = topo_physics.calculate_forces(x_phys, args)\n",
    "\n",
    "    # Calculate the u_matrix\n",
    "    u_matrix, _ = topo_physics.sparse_displace(\n",
    "        x_phys, ke, args, forces, args[\"freedofs\"], args[\"fixdofs\"], **kwargs\n",
    "    )\n",
    "\n",
    "    # Calculate the compliance output\n",
    "    compliance_output, _, _ = topo_physics.compliance(x_phys, u_matrix, ke, args, **kwargs)\n",
    "\n",
    "    # The loss is the sum of the compliance\n",
    "    f = torch.abs(torch.sum(compliance_output))\n",
    "\n",
    "    # Run this problem with no inequality constraints\n",
    "    ci = None\n",
    "\n",
    "    # Run this problem with no equality constraints\n",
    "    ce = pygransoStruct()\n",
    "    ce.c1 = 1e3 * (torch.mean(x_phys) - args['volfrac'])\n",
    "\n",
    "    # Append updated physical density designs\n",
    "    designs.append(\n",
    "        x_phys\n",
    "    )  # noqa\n",
    "\n",
    "    return f, ci, ce"
   ]
  },
  {
   "cell_type": "code",
   "execution_count": 5,
   "id": "86baed24",
   "metadata": {
    "scrolled": false
   },
   "outputs": [
    {
     "name": "stderr",
     "output_type": "stream",
     "text": [
      "/Users/ryandevera/data-science/tesorio/NCVX-Neural-Structural-Optimization/models.py:70: UserWarning: __floordiv__ is deprecated, and its behavior will change in a future version of pytorch. It currently rounds toward 0 (like the 'trunc' function NOT 'floor'). This results in incorrect rounding for negative values. To keep the current behavior, use torch.div(a, b, rounding_mode='trunc'), or for actual floor division, use torch.div(a, b, rounding_mode='floor').\n",
      "  self.h = args[\"nely\"] // total_resize\n",
      "/Users/ryandevera/data-science/tesorio/NCVX-Neural-Structural-Optimization/models.py:71: UserWarning: __floordiv__ is deprecated, and its behavior will change in a future version of pytorch. It currently rounds toward 0 (like the 'trunc' function NOT 'floor'). This results in incorrect rounding for negative values. To keep the current behavior, use torch.div(a, b, rounding_mode='trunc'), or for actual floor division, use torch.div(a, b, rounding_mode='floor').\n",
      "  self.w = args[\"nelx\"] // total_resize\n",
      "/var/folders/6c/8rvpvzfs0vxbbx2jh4rbfb100000gn/T/ipykernel_70763/616539790.py:17: UserWarning: To copy construct from a tensor, it is recommended to use sourceTensor.clone().detach() or sourceTensor.clone().detach().requires_grad_(True), rather than torch.tensor(sourceTensor).\n",
      "  e_min=torch.tensor(args[\"young_min\"]),\n",
      "/var/folders/6c/8rvpvzfs0vxbbx2jh4rbfb100000gn/T/ipykernel_70763/616539790.py:18: UserWarning: To copy construct from a tensor, it is recommended to use sourceTensor.clone().detach() or sourceTensor.clone().detach().requires_grad_(True), rather than torch.tensor(sourceTensor).\n",
      "  e_0=torch.tensor(args[\"young\"]),\n",
      "/Users/ryandevera/data-science/tesorio/NCVX-Neural-Structural-Optimization/topo_physics.py:15: UserWarning: To copy construct from a tensor, it is recommended to use sourceTensor.clone().detach() or sourceTensor.clone().detach().requires_grad_(True), rather than torch.tensor(sourceTensor).\n",
      "  e_0 = torch.tensor(e_0)\n",
      "/Users/ryandevera/data-science/tesorio/NCVX-Neural-Structural-Optimization/topo_physics.py:16: UserWarning: To copy construct from a tensor, it is recommended to use sourceTensor.clone().detach() or sourceTensor.clone().detach().requires_grad_(True), rather than torch.tensor(sourceTensor).\n",
      "  e_min = torch.tensor(e_min)\n",
      "/Users/ryandevera/data-science/tesorio/NCVX-Neural-Structural-Optimization/topo_physics.py:17: UserWarning: To copy construct from a tensor, it is recommended to use sourceTensor.clone().detach() or sourceTensor.clone().detach().requires_grad_(True), rather than torch.tensor(sourceTensor).\n",
      "  p = torch.tensor(p)\n"
     ]
    },
    {
     "name": "stdout",
     "output_type": "stream",
     "text": [
      "\n",
      "\n",
      "\u001b[33m╔═════ QP SOLVER NOTICE ════════════════════════════════════════════════════════════════════════╗\n",
      "\u001b[0m\u001b[33m║  PyGRANSO requires a quadratic program (QP) solver that has a quadprog-compatible interface,  ║\n",
      "\u001b[0m\u001b[33m║  the default is osqp. Users may provide their own wrapper for the QP solver.                  ║\n",
      "\u001b[0m\u001b[33m║  To disable this notice, set opts.quadprog_info_msg = False                                   ║\n",
      "\u001b[0m\u001b[33m╚═══════════════════════════════════════════════════════════════════════════════════════════════╝\n",
      "\u001b[0m═════════════════════════════════════════════════════════════════════════════════════════════════════════════════╗\n",
      "PyGRANSO: A PyTorch-enabled port of GRANSO with auto-differentiation                                             ║ \n",
      "Version 1.2.0                                                                                                    ║ \n",
      "Licensed under the AGPLv3, Copyright (C) 2021-2022 Tim Mitchell and Buyun Liang                                  ║ \n",
      "═════════════════════════════════════════════════════════════════════════════════════════════════════════════════╣\n",
      "Problem specifications:                                                                                          ║ \n",
      " # of variables                     :   504065                                                                   ║ \n",
      " # of inequality constraints        :        0                                                                   ║ \n",
      " # of equality constraints          :        1                                                                   ║ \n",
      "═════════════════════════════════════════════════════════════════════════════════════════════════════════════════╣\n",
      "\u001b[33mLimited-memory mode enabled with size = 20.                                                                     \u001b[0m ║ \n",
      "\u001b[33mNOTE: limited-memory mode is generally NOT                                                                      \u001b[0m ║ \n",
      "\u001b[33mrecommended for nonsmooth problems.                                                                             \u001b[0m ║ \n",
      "═════╦═══════════════════════════╦════════════════╦═════════════════╦═══════════════════════╦════════════════════╣\n",
      "     ║ <--- Penalty Function --> ║                ║ Total Violation ║ <--- Line Search ---> ║ <- Stationarity -> ║ \n",
      "Iter ║    Mu    │      Value     ║    Objective   ║ Ineq │    Eq    ║ SD │ Evals │     t    ║ Grads │    Value   ║ \n",
      "═════╬═══════════════════════════╬════════════════╬═════════════════╬═══════════════════════╬════════════════════╣\n",
      "   0 ║ 1.000000 │  188.017565736 ║  126.149554261 ║   -  │ 61.86801 ║ -  │     1 │ 0.000000 ║     1 │ 4697.126   ║ \n"
     ]
    },
    {
     "name": "stderr",
     "output_type": "stream",
     "text": [
      "/Users/ryandevera/.pyenv/versions/3.9.11/lib/python3.9/site-packages/pygranso/private/bfgsHessianInverseLimitedMem.py:237: UserWarning: The use of `x.T` on tensors of dimension other than 2 to reverse their shape is deprecated and it will throw an error in a future release. Consider `x.mT` to transpose batches of matricesor `x.permute(*torch.arange(x.ndim - 1, -1, -1))` to reverse the dimensions of a tensor. (Triggered internally at  /Users/runner/work/pytorch/pytorch/pytorch/aten/src/ATen/native/TensorShape.cpp:2985.)\n",
      "  alpha[j,:]  = self.rho[0,j] * (self.S[:,j].T  @ q)\n"
     ]
    },
    {
     "name": "stdout",
     "output_type": "stream",
     "text": [
      "  10 ║ 1.000000 │  63.8715995247 ║  63.8504289143 ║   -  │ 0.021171 ║ S  │     2 │ 2.000000 ║     1 │ 0.005603   ║ \n",
      "  20 ║ 0.387420 │  21.0111681731 ║  53.6388175507 ║   -  │ 0.230391 ║ S  │     2 │ 2.000000 ║     1 │ 0.014480   ║ \n",
      "  30 ║ 0.387420 │  19.4912883484 ║  49.9398042739 ║   -  │ 0.143585 ║ S  │     1 │ 1.000000 ║     1 │ 0.011056   ║ \n",
      "  40 ║ 0.387420 │  18.3913482267 ║  47.3658288079 ║   -  │ 0.040856 ║ S  │     2 │ 0.500000 ║     1 │ 0.012280   ║ \n",
      "  50 ║ 0.387420 │  17.8651768028 ║  46.0382710366 ║   -  │ 0.029007 ║ S  │     2 │ 0.500000 ║     1 │ 0.026140   ║ \n",
      "  60 ║ 0.387420 │  17.4346083319 ║  44.8774401201 ║   -  │ 0.048169 ║ S  │     7 │ 0.015625 ║     1 │ 0.026778   ║ \n",
      "  70 ║ 0.135085 │  6.01421107027 ║  44.5211865565 ║   -  │ 5.89e-05 ║ S  │     5 │ 0.062500 ║     1 │ 0.080943   ║ \n",
      "  80 ║ 0.052335 │  2.31743656989 ║  44.2284218450 ║   -  │ 0.002753 ║ S  │     5 │ 0.562500 ║     1 │ 0.007630   ║ \n",
      "  90 ║ 0.052335 │  2.31363139787 ║  44.1103643856 ║   -  │ 0.005126 ║ S  │     9 │ 0.003906 ║     1 │ 0.096142   ║ \n",
      " 100 ║ 0.042391 │  1.86501208741 ║  43.9805757911 ║   -  │ 6.25e-04 ║ S  │    11 │ 0.002930 ║     1 │ 0.031903   ║ \n",
      " 110 ║ 0.030903 │  1.35107852558 ║  43.6015870638 ║   -  │ 0.003652 ║ S  │     4 │ 0.625000 ║     1 │ 0.003028   ║ \n",
      " 120 ║ 0.027813 │  1.20798344099 ║  43.4157189177 ║   -  │ 4.69e-04 ║ S  │     6 │ 0.031250 ║     1 │ 0.134681   ║ \n",
      " 130 ║ 0.027813 │  1.20730428640 ║  43.3688329522 ║   -  │ 0.001094 ║ S  │     4 │ 0.125000 ║     1 │ 0.022147   ║ \n",
      " 140 ║ 0.010775 │  0.46649658142 ║  43.2535221739 ║   -  │ 4.28e-04 ║ S  │    10 │ 0.009766 ║     1 │ 0.014069   ║ \n",
      " 150 ║ 0.010775 │  0.46542310570 ║  43.1731357004 ║   -  │ 2.21e-04 ║ S  │     5 │ 0.312500 ║     1 │ 0.004585   ║ \n",
      " 160 ║ 0.010775 │  0.46370672539 ║  43.0217933537 ║   -  │ 1.36e-04 ║ S  │     5 │ 0.312500 ║     1 │ 0.008574   ║ \n",
      " 170 ║ 0.009698 │  0.41685609535 ║  42.9535946683 ║   -  │ 3.03e-04 ║ S  │     8 │ 0.039062 ║     1 │ 0.008747   ║ \n",
      " 180 ║ 0.003381 │  0.14526093972 ║  42.8906252854 ║   -  │ 2.31e-04 ║ S  │    20 │ 1.91e-06 ║     1 │ 41.53287   ║ \n",
      " 190 ║ 0.002739 │  0.11738769945 ║  42.8540228859 ║   -  │ 1.36e-05 ║ S  │     3 │ 1.500000 ║     1 │ 6.36e-04   ║ \n",
      "═════╬═══════════════════════════╬════════════════╬═════════════════╬═══════════════════════╬════════════════════╣\n",
      "     ║ <--- Penalty Function --> ║                ║ Total Violation ║ <--- Line Search ---> ║ <- Stationarity -> ║ \n",
      "Iter ║    Mu    │      Value     ║    Objective   ║ Ineq │    Eq    ║ SD │ Evals │     t    ║ Grads │    Value   ║ \n",
      "═════╬═══════════════════════════╬════════════════╬═════════════════╬═══════════════════════╬════════════════════╣\n",
      " 200 ║ 0.001797 │  0.07696952500 ║  42.8303727151 ║   -  │ 2.90e-06 ║ S  │     5 │ 0.187500 ║     1 │ 0.005257   ║ \n",
      "═════╩═══════════════════════════╩════════════════╩═════════════════╩═══════════════════════╩════════════════════╣\n",
      "F = final iterate, B = Best (to tolerance), MF = Most Feasible                                                   ║ \n",
      "Optimization results:                                                                                            ║ \n",
      "═════╦═══════════════════════════╦════════════════╦═════════════════╦═══════════════════════╦════════════════════╣\n",
      "   F ║          │                ║  42.8238316483 ║   -  │ 6.96e-08 ║    │       │          ║       │            ║ \n",
      "   B ║          │                ║  42.8238316483 ║   -  │ 6.96e-08 ║    │       │          ║       │            ║ \n",
      "  MF ║          │                ║  42.8238316483 ║   -  │ 6.96e-08 ║    │       │          ║       │            ║ \n",
      "═════╩═══════════════════════════╩════════════════╩═════════════════╩═══════════════════════╩════════════════════╣\n",
      "Iterations:              209                                                                                     ║ \n",
      "Function evaluations:    1045                                                                                    ║ \n",
      "PyGRANSO termination code: 0 --- converged to stationarity and feasibility tolerances.                           ║ \n",
      "═════════════════════════════════════════════════════════════════════════════════════════════════════════════════╝\n"
     ]
    }
   ],
   "source": [
    "# Identify the problem\n",
    "problem = problems.PROBLEMS_BY_NAME['multistory_building_32x64_0.5']\n",
    "\n",
    "# Get the problem args\n",
    "args = topo_api.specified_task(problem)\n",
    "cnn_kwargs = None\n",
    "\n",
    "# Trials\n",
    "trials = []\n",
    "\n",
    "for seed in range(59, 60):\n",
    "    torch.random.manual_seed(seed)\n",
    "\n",
    "    # Initialize the CNN Model\n",
    "    if cnn_kwargs is not None:\n",
    "        cnn_model = models.CNNModel(args, **cnn_kwargs)\n",
    "    else:\n",
    "        cnn_model = models.CNNModel(args)\n",
    "\n",
    "    # Put the cnn model in training mode\n",
    "    cnn_model.train()\n",
    "\n",
    "    # Create the stiffness matrix\n",
    "    ke = topo_physics.get_stiffness_matrix(\n",
    "        young=args[\"young\"],\n",
    "        poisson=args[\"poisson\"],\n",
    "    )\n",
    "\n",
    "    # Create the combined function and structural optimization\n",
    "    # setup\n",
    "    # Save the physical density designs & the losses\n",
    "    designs = []\n",
    "    losses = []\n",
    "    # Combined function\n",
    "    comb_fn = lambda model: constrained_structural_optimization_function(  # noqa\n",
    "        model, ke, args, designs, losses\n",
    "    )\n",
    "\n",
    "    # Initalize the pygranso options\n",
    "    opts = pygransoStruct()\n",
    "\n",
    "    # Set the device\n",
    "    opts.torch_device = torch.device('cpu')\n",
    "\n",
    "    # Setup the intitial inputs for the solver\n",
    "    nvar = getNvarTorch(cnn_model.parameters())\n",
    "    opts.x0 = (\n",
    "        torch.nn.utils.parameters_to_vector(cnn_model.parameters())\n",
    "        .detach()\n",
    "        .reshape(nvar, 1)\n",
    "    )\n",
    "\n",
    "    # Additional pygranso options\n",
    "    opts.limited_mem_size = 20\n",
    "    opts.double_precision = True\n",
    "    opts.mu0 = 1.0\n",
    "    opts.maxit = 500\n",
    "    opts.print_frequency = 10\n",
    "    opts.stat_l2_model = False\n",
    "    opts.viol_eq_tol = 1e-6\n",
    "    opts.opt_tol = 1e-4\n",
    "    \n",
    "    mHLF_obj = utils.HaltLog()\n",
    "    halt_log_fn, get_log_fn = mHLF_obj.makeHaltLogFunctions(opts.maxit)\n",
    "\n",
    "    #  Set PyGRANSO's logging function in opts\n",
    "    opts.halt_log_fn = halt_log_fn\n",
    "\n",
    "    # Main algorithm with logging enabled.\n",
    "    soln = pygranso(var_spec=cnn_model, combined_fn=comb_fn, user_opts=opts)\n",
    "\n",
    "    # GET THE HISTORY OF ITERATES\n",
    "    # Even if an error is thrown, the log generated until the error can be\n",
    "    # obtained by calling get_log_fn()\n",
    "    log = get_log_fn()\n",
    "    \n",
    "    # Final structure\n",
    "    designs_indexes = (pd.Series(log.fn_evals).cumsum() - 1).values.tolist()\n",
    "    final_designs = [designs[i] for i in designs_indexes]\n",
    "    \n",
    "    trials.append((soln.final.f, pd.Series(log.f), final_designs))"
   ]
  },
  {
   "cell_type": "code",
   "execution_count": 6,
   "id": "e126ad48",
   "metadata": {},
   "outputs": [
    {
     "data": {
      "text/plain": [
       "42.823831648277604"
      ]
     },
     "execution_count": 6,
     "metadata": {},
     "output_type": "execute_result"
    }
   ],
   "source": [
    "soln.final.f"
   ]
  },
  {
   "cell_type": "code",
   "execution_count": 7,
   "id": "00ec67f3",
   "metadata": {},
   "outputs": [
    {
     "data": {
      "text/plain": [
       "42.823831648277604"
      ]
     },
     "execution_count": 7,
     "metadata": {},
     "output_type": "execute_result"
    }
   ],
   "source": [
    "best_trial = sorted(trials)[0]\n",
    "best_trial[0]"
   ]
  },
  {
   "cell_type": "code",
   "execution_count": 8,
   "id": "32a56b4c",
   "metadata": {},
   "outputs": [
    {
     "data": {
      "image/png": "[encoded data removed]",
      "text/plain": [
       "<Figure size 1000x700 with 1 Axes>"
      ]
     },
     "metadata": {},
     "output_type": "display_data"
    }
   ],
   "source": [
    "# Plot the loss\n",
    "ax = best_trial[1].cummin().plot(figsize=(10, 7), marker='*')\n",
    "ax.grid()"
   ]
  },
  {
   "cell_type": "code",
   "execution_count": 28,
   "id": "a8ac5c7b",
   "metadata": {},
   "outputs": [
    {
     "ename": "TypeError",
     "evalue": "Invalid shape (32,) for image data",
     "output_type": "error",
     "traceback": [
      "\u001b[0;31m---------------------------------------------------------------------------\u001b[0m",
      "\u001b[0;31mTypeError\u001b[0m                                 Traceback (most recent call last)",
      "Cell \u001b[0;32mIn [28], line 13\u001b[0m\n\u001b[1;32m     11\u001b[0m pygranso_structure \u001b[38;5;241m=\u001b[39m x_phys_images[index][\u001b[38;5;241m-\u001b[39m\u001b[38;5;241m1\u001b[39m]\n\u001b[1;32m     12\u001b[0m \u001b[38;5;66;03m# pygranso\u001b[39;00m\n\u001b[0;32m---> 13\u001b[0m \u001b[43max\u001b[49m\u001b[38;5;241;43m.\u001b[39;49m\u001b[43mimshow\u001b[49m\u001b[43m(\u001b[49m\u001b[43mpygranso_structure\u001b[49m\u001b[43m,\u001b[49m\u001b[43m \u001b[49m\u001b[43mcmap\u001b[49m\u001b[38;5;241;43m=\u001b[39;49m\u001b[38;5;124;43m'\u001b[39;49m\u001b[38;5;124;43mGreys\u001b[39;49m\u001b[38;5;124;43m'\u001b[39;49m\u001b[43m)\u001b[49m\n\u001b[1;32m     14\u001b[0m ax\u001b[38;5;241m.\u001b[39mgrid()\n\u001b[1;32m     15\u001b[0m ax\u001b[38;5;241m.\u001b[39mset_xlabel(\u001b[38;5;124m'\u001b[39m\u001b[38;5;124mx\u001b[39m\u001b[38;5;124m'\u001b[39m)\n",
      "File \u001b[0;32m~/.pyenv/versions/3.9.11/lib/python3.9/site-packages/matplotlib/_api/deprecation.py:459\u001b[0m, in \u001b[0;36mmake_keyword_only.<locals>.wrapper\u001b[0;34m(*args, **kwargs)\u001b[0m\n\u001b[1;32m    453\u001b[0m \u001b[38;5;28;01mif\u001b[39;00m \u001b[38;5;28mlen\u001b[39m(args) \u001b[38;5;241m>\u001b[39m name_idx:\n\u001b[1;32m    454\u001b[0m     warn_deprecated(\n\u001b[1;32m    455\u001b[0m         since, message\u001b[38;5;241m=\u001b[39m\u001b[38;5;124m\"\u001b[39m\u001b[38;5;124mPassing the \u001b[39m\u001b[38;5;132;01m%(name)s\u001b[39;00m\u001b[38;5;124m \u001b[39m\u001b[38;5;132;01m%(obj_type)s\u001b[39;00m\u001b[38;5;124m \u001b[39m\u001b[38;5;124m\"\u001b[39m\n\u001b[1;32m    456\u001b[0m         \u001b[38;5;124m\"\u001b[39m\u001b[38;5;124mpositionally is deprecated since Matplotlib \u001b[39m\u001b[38;5;132;01m%(since)s\u001b[39;00m\u001b[38;5;124m; the \u001b[39m\u001b[38;5;124m\"\u001b[39m\n\u001b[1;32m    457\u001b[0m         \u001b[38;5;124m\"\u001b[39m\u001b[38;5;124mparameter will become keyword-only \u001b[39m\u001b[38;5;132;01m%(removal)s\u001b[39;00m\u001b[38;5;124m.\u001b[39m\u001b[38;5;124m\"\u001b[39m,\n\u001b[1;32m    458\u001b[0m         name\u001b[38;5;241m=\u001b[39mname, obj_type\u001b[38;5;241m=\u001b[39m\u001b[38;5;124mf\u001b[39m\u001b[38;5;124m\"\u001b[39m\u001b[38;5;124mparameter of \u001b[39m\u001b[38;5;132;01m{\u001b[39;00mfunc\u001b[38;5;241m.\u001b[39m\u001b[38;5;18m__name__\u001b[39m\u001b[38;5;132;01m}\u001b[39;00m\u001b[38;5;124m()\u001b[39m\u001b[38;5;124m\"\u001b[39m)\n\u001b[0;32m--> 459\u001b[0m \u001b[38;5;28;01mreturn\u001b[39;00m \u001b[43mfunc\u001b[49m\u001b[43m(\u001b[49m\u001b[38;5;241;43m*\u001b[39;49m\u001b[43margs\u001b[49m\u001b[43m,\u001b[49m\u001b[43m \u001b[49m\u001b[38;5;241;43m*\u001b[39;49m\u001b[38;5;241;43m*\u001b[39;49m\u001b[43mkwargs\u001b[49m\u001b[43m)\u001b[49m\n",
      "File \u001b[0;32m~/.pyenv/versions/3.9.11/lib/python3.9/site-packages/matplotlib/__init__.py:1414\u001b[0m, in \u001b[0;36m_preprocess_data.<locals>.inner\u001b[0;34m(ax, data, *args, **kwargs)\u001b[0m\n\u001b[1;32m   1411\u001b[0m \u001b[38;5;129m@functools\u001b[39m\u001b[38;5;241m.\u001b[39mwraps(func)\n\u001b[1;32m   1412\u001b[0m \u001b[38;5;28;01mdef\u001b[39;00m \u001b[38;5;21minner\u001b[39m(ax, \u001b[38;5;241m*\u001b[39margs, data\u001b[38;5;241m=\u001b[39m\u001b[38;5;28;01mNone\u001b[39;00m, \u001b[38;5;241m*\u001b[39m\u001b[38;5;241m*\u001b[39mkwargs):\n\u001b[1;32m   1413\u001b[0m     \u001b[38;5;28;01mif\u001b[39;00m data \u001b[38;5;129;01mis\u001b[39;00m \u001b[38;5;28;01mNone\u001b[39;00m:\n\u001b[0;32m-> 1414\u001b[0m         \u001b[38;5;28;01mreturn\u001b[39;00m \u001b[43mfunc\u001b[49m\u001b[43m(\u001b[49m\u001b[43max\u001b[49m\u001b[43m,\u001b[49m\u001b[43m \u001b[49m\u001b[38;5;241;43m*\u001b[39;49m\u001b[38;5;28;43mmap\u001b[39;49m\u001b[43m(\u001b[49m\u001b[43msanitize_sequence\u001b[49m\u001b[43m,\u001b[49m\u001b[43m \u001b[49m\u001b[43margs\u001b[49m\u001b[43m)\u001b[49m\u001b[43m,\u001b[49m\u001b[43m \u001b[49m\u001b[38;5;241;43m*\u001b[39;49m\u001b[38;5;241;43m*\u001b[39;49m\u001b[43mkwargs\u001b[49m\u001b[43m)\u001b[49m\n\u001b[1;32m   1416\u001b[0m     bound \u001b[38;5;241m=\u001b[39m new_sig\u001b[38;5;241m.\u001b[39mbind(ax, \u001b[38;5;241m*\u001b[39margs, \u001b[38;5;241m*\u001b[39m\u001b[38;5;241m*\u001b[39mkwargs)\n\u001b[1;32m   1417\u001b[0m     auto_label \u001b[38;5;241m=\u001b[39m (bound\u001b[38;5;241m.\u001b[39marguments\u001b[38;5;241m.\u001b[39mget(label_namer)\n\u001b[1;32m   1418\u001b[0m                   \u001b[38;5;129;01mor\u001b[39;00m bound\u001b[38;5;241m.\u001b[39mkwargs\u001b[38;5;241m.\u001b[39mget(label_namer))\n",
      "File \u001b[0;32m~/.pyenv/versions/3.9.11/lib/python3.9/site-packages/matplotlib/axes/_axes.py:5487\u001b[0m, in \u001b[0;36mAxes.imshow\u001b[0;34m(self, X, cmap, norm, aspect, interpolation, alpha, vmin, vmax, origin, extent, interpolation_stage, filternorm, filterrad, resample, url, **kwargs)\u001b[0m\n\u001b[1;32m   5480\u001b[0m \u001b[38;5;28mself\u001b[39m\u001b[38;5;241m.\u001b[39mset_aspect(aspect)\n\u001b[1;32m   5481\u001b[0m im \u001b[38;5;241m=\u001b[39m mimage\u001b[38;5;241m.\u001b[39mAxesImage(\u001b[38;5;28mself\u001b[39m, cmap, norm, interpolation,\n\u001b[1;32m   5482\u001b[0m                       origin, extent, filternorm\u001b[38;5;241m=\u001b[39mfilternorm,\n\u001b[1;32m   5483\u001b[0m                       filterrad\u001b[38;5;241m=\u001b[39mfilterrad, resample\u001b[38;5;241m=\u001b[39mresample,\n\u001b[1;32m   5484\u001b[0m                       interpolation_stage\u001b[38;5;241m=\u001b[39minterpolation_stage,\n\u001b[1;32m   5485\u001b[0m                       \u001b[38;5;241m*\u001b[39m\u001b[38;5;241m*\u001b[39mkwargs)\n\u001b[0;32m-> 5487\u001b[0m \u001b[43mim\u001b[49m\u001b[38;5;241;43m.\u001b[39;49m\u001b[43mset_data\u001b[49m\u001b[43m(\u001b[49m\u001b[43mX\u001b[49m\u001b[43m)\u001b[49m\n\u001b[1;32m   5488\u001b[0m im\u001b[38;5;241m.\u001b[39mset_alpha(alpha)\n\u001b[1;32m   5489\u001b[0m \u001b[38;5;28;01mif\u001b[39;00m im\u001b[38;5;241m.\u001b[39mget_clip_path() \u001b[38;5;129;01mis\u001b[39;00m \u001b[38;5;28;01mNone\u001b[39;00m:\n\u001b[1;32m   5490\u001b[0m     \u001b[38;5;66;03m# image does not already have clipping set, clip to axes patch\u001b[39;00m\n",
      "File \u001b[0;32m~/.pyenv/versions/3.9.11/lib/python3.9/site-packages/matplotlib/image.py:715\u001b[0m, in \u001b[0;36m_ImageBase.set_data\u001b[0;34m(self, A)\u001b[0m\n\u001b[1;32m    711\u001b[0m     \u001b[38;5;28mself\u001b[39m\u001b[38;5;241m.\u001b[39m_A \u001b[38;5;241m=\u001b[39m \u001b[38;5;28mself\u001b[39m\u001b[38;5;241m.\u001b[39m_A[:, :, \u001b[38;5;241m0\u001b[39m]\n\u001b[1;32m    713\u001b[0m \u001b[38;5;28;01mif\u001b[39;00m \u001b[38;5;129;01mnot\u001b[39;00m (\u001b[38;5;28mself\u001b[39m\u001b[38;5;241m.\u001b[39m_A\u001b[38;5;241m.\u001b[39mndim \u001b[38;5;241m==\u001b[39m \u001b[38;5;241m2\u001b[39m\n\u001b[1;32m    714\u001b[0m         \u001b[38;5;129;01mor\u001b[39;00m \u001b[38;5;28mself\u001b[39m\u001b[38;5;241m.\u001b[39m_A\u001b[38;5;241m.\u001b[39mndim \u001b[38;5;241m==\u001b[39m \u001b[38;5;241m3\u001b[39m \u001b[38;5;129;01mand\u001b[39;00m \u001b[38;5;28mself\u001b[39m\u001b[38;5;241m.\u001b[39m_A\u001b[38;5;241m.\u001b[39mshape[\u001b[38;5;241m-\u001b[39m\u001b[38;5;241m1\u001b[39m] \u001b[38;5;129;01min\u001b[39;00m [\u001b[38;5;241m3\u001b[39m, \u001b[38;5;241m4\u001b[39m]):\n\u001b[0;32m--> 715\u001b[0m     \u001b[38;5;28;01mraise\u001b[39;00m \u001b[38;5;167;01mTypeError\u001b[39;00m(\u001b[38;5;124m\"\u001b[39m\u001b[38;5;124mInvalid shape \u001b[39m\u001b[38;5;132;01m{}\u001b[39;00m\u001b[38;5;124m for image data\u001b[39m\u001b[38;5;124m\"\u001b[39m\n\u001b[1;32m    716\u001b[0m                     \u001b[38;5;241m.\u001b[39mformat(\u001b[38;5;28mself\u001b[39m\u001b[38;5;241m.\u001b[39m_A\u001b[38;5;241m.\u001b[39mshape))\n\u001b[1;32m    718\u001b[0m \u001b[38;5;28;01mif\u001b[39;00m \u001b[38;5;28mself\u001b[39m\u001b[38;5;241m.\u001b[39m_A\u001b[38;5;241m.\u001b[39mndim \u001b[38;5;241m==\u001b[39m \u001b[38;5;241m3\u001b[39m:\n\u001b[1;32m    719\u001b[0m     \u001b[38;5;66;03m# If the input data has values outside the valid range (after\u001b[39;00m\n\u001b[1;32m    720\u001b[0m     \u001b[38;5;66;03m# normalisation), we issue a warning and then clip X to the bounds\u001b[39;00m\n\u001b[1;32m    721\u001b[0m     \u001b[38;5;66;03m# - otherwise casting wraps extreme values, hiding outliers and\u001b[39;00m\n\u001b[1;32m    722\u001b[0m     \u001b[38;5;66;03m# making reliable interpretation impossible.\u001b[39;00m\n\u001b[1;32m    723\u001b[0m     high \u001b[38;5;241m=\u001b[39m \u001b[38;5;241m255\u001b[39m \u001b[38;5;28;01mif\u001b[39;00m np\u001b[38;5;241m.\u001b[39missubdtype(\u001b[38;5;28mself\u001b[39m\u001b[38;5;241m.\u001b[39m_A\u001b[38;5;241m.\u001b[39mdtype, np\u001b[38;5;241m.\u001b[39minteger) \u001b[38;5;28;01melse\u001b[39;00m \u001b[38;5;241m1\u001b[39m\n",
      "\u001b[0;31mTypeError\u001b[0m: Invalid shape (32,) for image data"
     ]
    },
    {
     "data": {
      "image/png": "[encoded data removed]",
      "text/plain": [
       "<Figure size 900x400 with 5 Axes>"
      ]
     },
     "metadata": {},
     "output_type": "display_data"
    }
   ],
   "source": [
    "from scipy.ndimage import gaussian_filter\n",
    "\n",
    "x_phys_images = [x_phys.detach() for x_phys in best_trial[2]]\n",
    "# x_phys_images = np.array_split(x_phys_images, 5)\n",
    "\n",
    "# Plot the two structures together\n",
    "fig, axes = plt.subplots(1, 5, figsize=(9, 4))\n",
    "axes = axes.flatten()\n",
    "\n",
    "for index, ax in zip([0, 10, 25, 50, -1], axes):\n",
    "    pygranso_structure = x_phys_images[index][-1]\n",
    "    # pygranso\n",
    "    ax.imshow(pygranso_structure, cmap='Greys')\n",
    "    ax.grid()\n",
    "    ax.set_xlabel('x')\n",
    "    ax.set_ylabel('y')\n",
    "\n",
    "    \n",
    "fig.suptitle('Multi-story Building 32x64 Density 0.5')    \n",
    "fig.tight_layout()"
   ]
  },
  {
   "cell_type": "code",
   "execution_count": 31,
   "id": "8218e8b9",
   "metadata": {},
   "outputs": [
    {
     "data": {
      "text/plain": [
       "torch.Size([64, 32])"
      ]
     },
     "execution_count": 31,
     "metadata": {},
     "output_type": "execute_result"
    }
   ],
   "source": [
    "x_phys_images[0].shape"
   ]
  },
  {
   "cell_type": "code",
   "execution_count": null,
   "id": "231b93d1",
   "metadata": {},
   "outputs": [],
   "source": []
  }
 ],
 "metadata": {
  "kernelspec": {
   "display_name": "Python 3 (ipykernel)",
   "language": "python",
   "name": "python3"
  },
  "language_info": {
   "codemirror_mode": {
    "name": "ipython",
    "version": 3
   },
   "file_extension": ".py",
   "mimetype": "text/x-python",
   "name": "python",
   "nbconvert_exporter": "python",
   "pygments_lexer": "ipython3",
   "version": "3.9.11"
  }
 },
 "nbformat": 4,
 "nbformat_minor": 5
}
