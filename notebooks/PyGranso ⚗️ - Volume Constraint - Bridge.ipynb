{
 "cells": [
  {
   "cell_type": "code",
   "execution_count": 1,
   "id": "6d5b55ea",
   "metadata": {},
   "outputs": [
    {
     "data": {
      "text/plain": [
       "'/Users/ryandevera/data-science/tesorio/NCVX-Neural-Structural-Optimization/notebooks'"
      ]
     },
     "execution_count": 1,
     "metadata": {},
     "output_type": "execute_result"
    }
   ],
   "source": [
    "%pwd"
   ]
  },
  {
   "cell_type": "code",
   "execution_count": 2,
   "id": "23a937a4",
   "metadata": {},
   "outputs": [
    {
     "name": "stdout",
     "output_type": "stream",
     "text": [
      "/Users/ryandevera/data-science/tesorio/NCVX-Neural-Structural-Optimization\n"
     ]
    }
   ],
   "source": [
    "%cd .."
   ]
  },
  {
   "cell_type": "code",
   "execution_count": 3,
   "id": "b1a31c45",
   "metadata": {},
   "outputs": [],
   "source": [
    "import numpy as np\n",
    "import matplotlib.pyplot as plt\n",
    "import time\n",
    "import torch\n",
    "import os\n",
    "import pandas as pd\n",
    "\n",
    "# import problems to solve\n",
    "import problems\n",
    "import experiments\n",
    "import train\n",
    "import topo_api\n",
    "import topo_physics\n",
    "import models\n",
    "import utils\n",
    "\n",
    "from pygranso.private.getNvar import getNvarTorch\n",
    "from pygranso.pygranso import pygranso\n",
    "from pygranso.pygransoStruct import pygransoStruct\n",
    "\n",
    "from scipy.ndimage import gaussian_filter"
   ]
  },
  {
   "cell_type": "markdown",
   "id": "1cf68c84",
   "metadata": {},
   "source": [
    "# Running neural structural optimization with PyGranso 🧨\n",
    "\n",
    "To check the validity of our new `torch` based code we will test the structural optimization with `torch.optim` optimizers.\n",
    "\n",
    "### MBB Beam\n",
    "\n",
    "The first problem that we will run is with the **MBB BEAM**."
   ]
  },
  {
   "cell_type": "code",
   "execution_count": 4,
   "id": "a048958b",
   "metadata": {},
   "outputs": [],
   "source": [
    "def constrained_structural_optimization_function(model, ke, args, designs, losses):\n",
    "    \"\"\"\n",
    "    Combined function for PyGranso for the structural optimization\n",
    "    problem. The inputs will be the model that reparameterizes x as a function\n",
    "    of a neural network. V0 is the initial volume, K is the global stiffness\n",
    "    matrix and F is the forces that are applied in the problem.\n",
    "    \"\"\"\n",
    "    # Initialize the model\n",
    "    # In my version of the model it follows the similar behavior of the\n",
    "    # tensorflow repository and only needs None to initialize and output\n",
    "    # a first value of x\n",
    "    logits = model(None)\n",
    "\n",
    "    # kwargs for displacement\n",
    "    kwargs = dict(\n",
    "        penal=torch.tensor(args[\"penal\"]),\n",
    "        e_min=torch.tensor(args[\"young_min\"]),\n",
    "        e_0=torch.tensor(args[\"young\"]),\n",
    "        base=\"MATLAB\",\n",
    "    )\n",
    "    x_phys = torch.sigmoid(logits)\n",
    "    mask = torch.broadcast_to(args['mask'], x_phys.shape) > 0\n",
    "    x_phys = x_phys * mask.int()\n",
    "\n",
    "    # Calculate the forces\n",
    "    forces = topo_physics.calculate_forces(x_phys, args)\n",
    "\n",
    "    # Calculate the u_matrix\n",
    "    u_matrix, _ = topo_physics.sparse_displace(\n",
    "        x_phys, ke, args, forces, args[\"freedofs\"], args[\"fixdofs\"], **kwargs\n",
    "    )\n",
    "\n",
    "    # Calculate the compliance output\n",
    "    compliance_output, _, _ = topo_physics.compliance(x_phys, u_matrix, ke, args, **kwargs)\n",
    "\n",
    "    # The loss is the sum of the compliance\n",
    "    f = torch.abs(torch.sum(compliance_output))\n",
    "\n",
    "    # Run this problem with no inequality constraints\n",
    "    ci = None\n",
    "\n",
    "    # Run this problem with no equality constraints\n",
    "    ce = pygransoStruct()\n",
    "    ce.c1 = 1e3 * (torch.mean(x_phys[mask]) - args['volfrac'])\n",
    "\n",
    "    # Append updated physical density designs\n",
    "    designs.append(\n",
    "        x_phys\n",
    "    )  # noqa\n",
    "\n",
    "    return f, ci, ce"
   ]
  },
  {
   "cell_type": "code",
   "execution_count": 5,
   "id": "a9abc198",
   "metadata": {
    "scrolled": false
   },
   "outputs": [
    {
     "name": "stderr",
     "output_type": "stream",
     "text": [
      "/Users/ryandevera/data-science/tesorio/NCVX-Neural-Structural-Optimization/models.py:70: UserWarning: __floordiv__ is deprecated, and its behavior will change in a future version of pytorch. It currently rounds toward 0 (like the 'trunc' function NOT 'floor'). This results in incorrect rounding for negative values. To keep the current behavior, use torch.div(a, b, rounding_mode='trunc'), or for actual floor division, use torch.div(a, b, rounding_mode='floor').\n",
      "  self.h = args[\"nely\"] // total_resize\n",
      "/Users/ryandevera/data-science/tesorio/NCVX-Neural-Structural-Optimization/models.py:71: UserWarning: __floordiv__ is deprecated, and its behavior will change in a future version of pytorch. It currently rounds toward 0 (like the 'trunc' function NOT 'floor'). This results in incorrect rounding for negative values. To keep the current behavior, use torch.div(a, b, rounding_mode='trunc'), or for actual floor division, use torch.div(a, b, rounding_mode='floor').\n",
      "  self.w = args[\"nelx\"] // total_resize\n",
      "/var/folders/6c/8rvpvzfs0vxbbx2jh4rbfb100000gn/T/ipykernel_75063/2450700239.py:17: UserWarning: To copy construct from a tensor, it is recommended to use sourceTensor.clone().detach() or sourceTensor.clone().detach().requires_grad_(True), rather than torch.tensor(sourceTensor).\n",
      "  e_min=torch.tensor(args[\"young_min\"]),\n",
      "/var/folders/6c/8rvpvzfs0vxbbx2jh4rbfb100000gn/T/ipykernel_75063/2450700239.py:18: UserWarning: To copy construct from a tensor, it is recommended to use sourceTensor.clone().detach() or sourceTensor.clone().detach().requires_grad_(True), rather than torch.tensor(sourceTensor).\n",
      "  e_0=torch.tensor(args[\"young\"]),\n",
      "/Users/ryandevera/data-science/tesorio/NCVX-Neural-Structural-Optimization/topo_physics.py:15: UserWarning: To copy construct from a tensor, it is recommended to use sourceTensor.clone().detach() or sourceTensor.clone().detach().requires_grad_(True), rather than torch.tensor(sourceTensor).\n",
      "  e_0 = torch.tensor(e_0)\n",
      "/Users/ryandevera/data-science/tesorio/NCVX-Neural-Structural-Optimization/topo_physics.py:16: UserWarning: To copy construct from a tensor, it is recommended to use sourceTensor.clone().detach() or sourceTensor.clone().detach().requires_grad_(True), rather than torch.tensor(sourceTensor).\n",
      "  e_min = torch.tensor(e_min)\n",
      "/Users/ryandevera/data-science/tesorio/NCVX-Neural-Structural-Optimization/topo_physics.py:17: UserWarning: To copy construct from a tensor, it is recommended to use sourceTensor.clone().detach() or sourceTensor.clone().detach().requires_grad_(True), rather than torch.tensor(sourceTensor).\n",
      "  p = torch.tensor(p)\n"
     ]
    },
    {
     "name": "stdout",
     "output_type": "stream",
     "text": [
      "\n",
      "\n",
      "\u001b[33m╔═════ QP SOLVER NOTICE ════════════════════════════════════════════════════════════════════════╗\n",
      "\u001b[0m\u001b[33m║  PyGRANSO requires a quadratic program (QP) solver that has a quadprog-compatible interface,  ║\n",
      "\u001b[0m\u001b[33m║  the default is osqp. Users may provide their own wrapper for the QP solver.                  ║\n",
      "\u001b[0m\u001b[33m║  To disable this notice, set opts.quadprog_info_msg = False                                   ║\n",
      "\u001b[0m\u001b[33m╚═══════════════════════════════════════════════════════════════════════════════════════════════╝\n",
      "\u001b[0m═════════════════════════════════════════════════════════════════════════════════════════════════════════════════╗\n",
      "PyGRANSO: A PyTorch-enabled port of GRANSO with auto-differentiation                                             ║ \n",
      "Version 1.2.0                                                                                                    ║ \n",
      "Licensed under the AGPLv3, Copyright (C) 2021-2022 Tim Mitchell and Buyun Liang                                  ║ \n",
      "═════════════════════════════════════════════════════════════════════════════════════════════════════════════════╣\n",
      "Problem specifications:                                                                                          ║ \n",
      " # of variables                     :   1428737                                                                  ║ \n",
      " # of inequality constraints        :         0                                                                  ║ \n",
      " # of equality constraints          :         1                                                                  ║ \n",
      "═════════════════════════════════════════════════════════════════════════════════════════════════════════════════╣\n",
      "\u001b[33mLimited-memory mode enabled with size = 20.                                                                     \u001b[0m ║ \n",
      "\u001b[33mNOTE: limited-memory mode is generally NOT                                                                      \u001b[0m ║ \n",
      "\u001b[33mrecommended for nonsmooth problems.                                                                             \u001b[0m ║ \n",
      "═════╦═══════════════════════════╦════════════════╦═════════════════╦═══════════════════════╦════════════════════╣\n",
      "     ║ <--- Penalty Function --> ║                ║ Total Violation ║ <--- Line Search ---> ║ <- Stationarity -> ║ \n",
      "Iter ║    Mu    │      Value     ║    Objective   ║ Ineq │    Eq    ║ SD │ Evals │     t    ║ Grads │    Value   ║ \n",
      "═════╬═══════════════════════════╬════════════════╬═════════════════╬═══════════════════════╬════════════════════╣\n",
      "   0 ║ 1.000000 │  490.848743421 ║  237.937778455 ║   -  │ 252.9110 ║ -  │     1 │ 0.000000 ║     1 │ 9168.309   ║ \n"
     ]
    },
    {
     "name": "stderr",
     "output_type": "stream",
     "text": [
      "/Users/ryandevera/.pyenv/versions/3.9.11/lib/python3.9/site-packages/pygranso/private/bfgsHessianInverseLimitedMem.py:237: UserWarning: The use of `x.T` on tensors of dimension other than 2 to reverse their shape is deprecated and it will throw an error in a future release. Consider `x.mT` to transpose batches of matricesor `x.permute(*torch.arange(x.ndim - 1, -1, -1))` to reverse the dimensions of a tensor. (Triggered internally at  /Users/runner/work/pytorch/pytorch/pytorch/aten/src/ATen/native/TensorShape.cpp:2985.)\n",
      "  alpha[j,:]  = self.rho[0,j] * (self.S[:,j].T  @ q)\n"
     ]
    },
    {
     "name": "stdout",
     "output_type": "stream",
     "text": [
      "  10 ║ 0.348678 │  93.4745383881 ║  244.163291555 ║   -  │ 8.340063 ║ S  │     1 │ 1.000000 ║     1 │ 0.418418   ║ \n",
      "  20 ║ 0.185302 │  17.8330303973 ║  95.8936701803 ║   -  │ 0.063740 ║ S  │     1 │ 1.000000 ║     1 │ 0.051638   ║ \n",
      "  30 ║ 0.166772 │  13.7262623002 ║  82.1716189302 ║   -  │ 0.022352 ║ S  │     1 │ 1.000000 ║     1 │ 0.182486   ║ \n",
      "  40 ║ 0.166772 │  13.1559695269 ║  78.7364390091 ║   -  │ 0.024951 ║ S  │     2 │ 0.500000 ║     1 │ 0.022960   ║ \n",
      "  50 ║ 0.166772 │  12.7463065209 ║  76.3389611245 ║   -  │ 0.015119 ║ S  │     2 │ 0.500000 ║     1 │ 0.130687   ║ \n",
      "  60 ║ 0.121577 │  9.22149944007 ║  75.7214745835 ║   -  │ 0.015536 ║ S  │     7 │ 0.015625 ║     1 │ 0.089849   ║ \n",
      "  70 ║ 0.042391 │  3.19571458462 ║  75.3391875702 ║   -  │ 0.001999 ║ S  │     5 │ 0.062500 ║     1 │ 0.114507   ║ \n",
      "  80 ║ 0.042391 │  3.17762371332 ║  74.8820840555 ║   -  │ 0.003285 ║ S  │     1 │ 1.000000 ║     1 │ 0.008577   ║ \n",
      "  90 ║ 0.042391 │  3.16351495851 ║  74.5326984423 ║   -  │ 0.003988 ║ S  │     2 │ 2.000000 ║     1 │ 0.056625   ║ \n",
      " 100 ║ 0.009698 │  0.72334023455 ║  74.4078417218 ║   -  │ 0.001753 ║ S  │    10 │ 0.001953 ║     1 │ 0.227261   ║ \n",
      " 110 ║ 0.009698 │  0.71990239975 ║  74.1780832369 ║   -  │ 5.43e-04 ║ S  │     3 │ 0.750000 ║     1 │ 0.434512   ║ \n",
      " 120 ║ 0.009698 │  0.71815981820 ║  74.0306814317 ║   -  │ 2.30e-04 ║ S  │     4 │ 0.625000 ║     1 │ 0.062224   ║ \n",
      " 130 ║ 0.009698 │  0.71714035374 ║  73.9470011945 ║   -  │ 2.18e-05 ║ S  │     6 │ 0.031250 ║     1 │ 0.068320   ║ \n",
      " 140 ║ 0.007855 │  0.58019681368 ║  73.8612738093 ║   -  │ 4.16e-06 ║ S  │     4 │ 0.125000 ║     1 │ 2.093079   ║ \n",
      " 150 ║ 0.007855 │  0.57884174681 ║  73.6856569578 ║   -  │ 2.86e-05 ║ S  │     6 │ 0.093750 ║     1 │ 0.001602   ║ \n",
      " 160 ║ 0.007855 │  0.57830063876 ║  73.5537156719 ║   -  │ 5.24e-04 ║ S  │     4 │ 1.250000 ║     1 │ 1.243738   ║ \n",
      " 170 ║ 0.007855 │  0.57745877298 ║  73.5015687493 ║   -  │ 9.17e-05 ║ S  │     7 │ 0.046875 ║     1 │ 0.016917   ║ \n",
      " 180 ║ 0.007855 │  0.57693429666 ║  73.4395104484 ║   -  │ 5.47e-05 ║ S  │     7 │ 0.015625 ║     2 │ 0.001496   ║ \n",
      " 190 ║ 0.002739 │  0.20098846564 ║  73.3703111065 ║   -  │ 3.25e-05 ║ S  │    10 │ 0.001953 ║     2 │ 0.002514   ║ \n",
      "═════╬═══════════════════════════╬════════════════╬═════════════════╬═══════════════════════╬════════════════════╣\n",
      "     ║ <--- Penalty Function --> ║                ║ Total Violation ║ <--- Line Search ---> ║ <- Stationarity -> ║ \n",
      "Iter ║    Mu    │      Value     ║    Objective   ║ Ineq │    Eq    ║ SD │ Evals │     t    ║ Grads │    Value   ║ \n",
      "═════╬═══════════════════════════╬════════════════╬═════════════════╬═══════════════════════╬════════════════════╣\n",
      " 200 ║ 0.002465 │  0.18080016447 ║  73.3401503801 ║   -  │ 1.41e-05 ║ S  │    11 │ 9.77e-04 ║     2 │ 0.010989   ║ \n",
      " 210 ║ 0.001456 │  0.10671341526 ║  73.2994923807 ║   -  │ 2.03e-05 ║ S  │     6 │ 0.093750 ║     1 │ 0.129142   ║ \n",
      " 220 ║ 0.001456 │  0.10667369861 ║  73.2733019288 ║   -  │ 1.87e-05 ║ S  │     1 │ 1.000000 ║     1 │ 0.003434   ║ \n",
      " 230 ║ 0.001456 │  0.10658929693 ║  73.2272500631 ║   -  │ 1.30e-06 ║ S  │     7 │ 0.046875 ║     2 │ 7.20e-04   ║ \n",
      " 240 ║ 5.08e-04 │  0.03716059831 ║  73.1782772250 ║   -  │ 2.05e-05 ║ S  │     8 │ 0.054688 ║     3 │ 8.28e-05   ║ \n",
      "═════╩═══════════════════════════╩════════════════╩═════════════════╩═══════════════════════╩════════════════════╣\n",
      "Optimization results:                                                                                            ║ \n",
      "F = final iterate, B = Best (to tolerance), MF = Most Feasible                                                   ║ \n",
      "═════╦═══════════════════════════╦════════════════╦═════════════════╦═══════════════════════╦════════════════════╣\n",
      "   F ║          │                ║  73.1767924584 ║   -  │ 1.46e-07 ║    │       │          ║       │            ║ \n",
      "   B ║          │                ║  73.1767924584 ║   -  │ 1.46e-07 ║    │       │          ║       │            ║ \n",
      "  MF ║          │                ║  73.1767924584 ║   -  │ 1.46e-07 ║    │       │          ║       │            ║ \n",
      "═════╩═══════════════════════════╩════════════════╩═════════════════╩═══════════════════════╩════════════════════╣\n",
      "Iterations:              245                                                                                     ║ \n",
      "Function evaluations:    1183                                                                                    ║ \n",
      "PyGRANSO termination code: 0 --- converged to stationarity and feasibility tolerances.                           ║ \n",
      "═════════════════════════════════════════════════════════════════════════════════════════════════════════════════╝\n"
     ]
    }
   ],
   "source": [
    "# Identify the problem\n",
    "# we really need more iterations to see the CNN-LBFGS method dominate\n",
    "problem = problems.PROBLEMS_BY_NAME['thin_support_bridge_128x128_0.2']\n",
    "\n",
    "# Get the arguments for the problem\n",
    "args = topo_api.specified_task(problem)\n",
    "\n",
    "# cnn_kwargs\n",
    "cnn_kwargs = None\n",
    "\n",
    "# Get the problem args\n",
    "args = topo_api.specified_task(problem)\n",
    "\n",
    "# Trials\n",
    "trials = []\n",
    "\n",
    "for seed in range(43, 44):\n",
    "    torch.random.manual_seed(seed)\n",
    "\n",
    "    # Initialize the CNN Model\n",
    "    if cnn_kwargs is not None:\n",
    "        cnn_model = models.CNNModel(args, **cnn_kwargs)\n",
    "    else:\n",
    "        cnn_model = models.CNNModel(args)\n",
    "\n",
    "    # Put the cnn model in training mode\n",
    "    cnn_model.train()\n",
    "\n",
    "    # Create the stiffness matrix\n",
    "    ke = topo_physics.get_stiffness_matrix(\n",
    "        young=args[\"young\"],\n",
    "        poisson=args[\"poisson\"],\n",
    "    )\n",
    "\n",
    "    # Create the combined function and structural optimization\n",
    "    # setup\n",
    "    # Save the physical density designs & the losses\n",
    "    designs = []\n",
    "    losses = []\n",
    "    # Combined function\n",
    "    comb_fn = lambda model: constrained_structural_optimization_function(  # noqa\n",
    "        model, ke, args, designs, losses\n",
    "    )\n",
    "\n",
    "    # Initalize the pygranso options\n",
    "    opts = pygransoStruct()\n",
    "\n",
    "    # Set the device\n",
    "    opts.torch_device = torch.device('cpu')\n",
    "\n",
    "    # Setup the intitial inputs for the solver\n",
    "    nvar = getNvarTorch(cnn_model.parameters())\n",
    "    opts.x0 = (\n",
    "        torch.nn.utils.parameters_to_vector(cnn_model.parameters())\n",
    "        .detach()\n",
    "        .reshape(nvar, 1)\n",
    "    )\n",
    "\n",
    "    # Additional pygranso options\n",
    "    opts.limited_mem_size = 20\n",
    "    opts.double_precision = True\n",
    "    opts.mu0 = 1.0\n",
    "    opts.maxit = 500\n",
    "    opts.print_frequency = 10\n",
    "    opts.stat_l2_model = False\n",
    "    opts.viol_eq_tol = 1e-6\n",
    "    opts.opt_tol = 1e-4\n",
    "    \n",
    "    mHLF_obj = utils.HaltLog()\n",
    "    halt_log_fn, get_log_fn = mHLF_obj.makeHaltLogFunctions(opts.maxit)\n",
    "\n",
    "    #  Set PyGRANSO's logging function in opts\n",
    "    opts.halt_log_fn = halt_log_fn\n",
    "\n",
    "    # Main algorithm with logging enabled.\n",
    "    soln = pygranso(var_spec=cnn_model, combined_fn=comb_fn, user_opts=opts)\n",
    "\n",
    "    # GET THE HISTORY OF ITERATES\n",
    "    # Even if an error is thrown, the log generated until the error can be\n",
    "    # obtained by calling get_log_fn()\n",
    "    log = get_log_fn()\n",
    "    \n",
    "    # Final structure\n",
    "    designs_indexes = (pd.Series(log.fn_evals).cumsum() - 1).values.tolist()\n",
    "    final_designs = [designs[i] for i in designs_indexes]\n",
    "    \n",
    "    trials.append((soln.final.f, pd.Series(log.f), final_designs))"
   ]
  },
  {
   "cell_type": "code",
   "execution_count": 6,
   "id": "42cf74e9",
   "metadata": {},
   "outputs": [],
   "source": [
    "best_trial = sorted(trials)[0]"
   ]
  },
  {
   "cell_type": "code",
   "execution_count": 7,
   "id": "fc51779e",
   "metadata": {},
   "outputs": [
    {
     "data": {
      "image/png": "[encoded data removed]",
      "text/plain": [
       "<Figure size 1000x700 with 1 Axes>"
      ]
     },
     "metadata": {},
     "output_type": "display_data"
    }
   ],
   "source": [
    "# Plot the loss\n",
    "ax = best_trial[1].cummin().plot(figsize=(10, 7), marker='*')\n",
    "ax.grid()"
   ]
  },
  {
   "cell_type": "code",
   "execution_count": 8,
   "id": "e44c3b93",
   "metadata": {},
   "outputs": [
    {
     "data": {
      "text/plain": [
       "<matplotlib.colorbar.Colorbar at 0x19fdcedc0>"
      ]
     },
     "execution_count": 8,
     "metadata": {},
     "output_type": "execute_result"
    },
    {
     "data": {
      "image/png": "[encoded data removed]",
      "text/plain": [
       "<Figure size 640x480 with 2 Axes>"
      ]
     },
     "metadata": {},
     "output_type": "display_data"
    }
   ],
   "source": [
    "from scipy.ndimage import gaussian_filter\n",
    "\n",
    "pygranso_structure = best_trial[2][-1].detach().numpy()\n",
    "\n",
    "# Get the final frame\n",
    "final_frame = pygranso_structure\n",
    "reversed_frame = final_frame[:, ::-1]\n",
    "bridge_frame = np.hstack([final_frame, reversed_frame] * 2)\n",
    "\n",
    "# Create a figure and axis\n",
    "fig, ax = plt.subplots(1, 1)\n",
    "\n",
    "# Show the structure in grayscale\n",
    "im = ax.imshow(bridge_frame, cmap='Greys')\n",
    "ax.set_title('Thin Support Bridge')\n",
    "ax.set_ylabel('Height')\n",
    "ax.set_xlabel('Width')\n",
    "ax.grid()\n",
    "fig.colorbar(im, orientation=\"horizontal\", pad=0.2)"
   ]
  },
  {
   "cell_type": "code",
   "execution_count": null,
   "id": "275bf39b",
   "metadata": {},
   "outputs": [],
   "source": []
  },
  {
   "cell_type": "code",
   "execution_count": null,
   "id": "9d289e6b",
   "metadata": {},
   "outputs": [],
   "source": []
  }
 ],
 "metadata": {
  "kernelspec": {
   "display_name": "Python 3 (ipykernel)",
   "language": "python",
   "name": "python3"
  },
  "language_info": {
   "codemirror_mode": {
    "name": "ipython",
    "version": 3
   },
   "file_extension": ".py",
   "mimetype": "text/x-python",
   "name": "python",
   "nbconvert_exporter": "python",
   "pygments_lexer": "ipython3",
   "version": "3.9.11"
  }
 },
 "nbformat": 4,
 "nbformat_minor": 5
}
