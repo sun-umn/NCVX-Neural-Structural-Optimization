{
 "cells": [
  {
   "cell_type": "code",
   "execution_count": 1,
   "id": "6d5b55ea",
   "metadata": {},
   "outputs": [
    {
     "data": {
      "text/plain": [
       "'/Users/ryandevera/data-science/tesorio/NCVX-Neural-Structural-Optimization/notebooks'"
      ]
     },
     "execution_count": 1,
     "metadata": {},
     "output_type": "execute_result"
    }
   ],
   "source": [
    "%pwd"
   ]
  },
  {
   "cell_type": "code",
   "execution_count": 2,
   "id": "23a937a4",
   "metadata": {},
   "outputs": [
    {
     "name": "stdout",
     "output_type": "stream",
     "text": [
      "/Users/ryandevera/data-science/tesorio/NCVX-Neural-Structural-Optimization\n"
     ]
    }
   ],
   "source": [
    "%cd .."
   ]
  },
  {
   "cell_type": "code",
   "execution_count": 3,
   "id": "b1a31c45",
   "metadata": {},
   "outputs": [],
   "source": [
    "import numpy as np\n",
    "import matplotlib.pyplot as plt\n",
    "import time\n",
    "import torch\n",
    "import os\n",
    "import pandas as pd\n",
    "\n",
    "# import problems to solve\n",
    "import problems\n",
    "import experiments\n",
    "import train\n",
    "import topo_api\n",
    "import topo_physics\n",
    "import models\n",
    "import utils\n",
    "\n",
    "from pygranso.private.getNvar import getNvarTorch\n",
    "from pygranso.pygranso import pygranso\n",
    "from pygranso.pygransoStruct import pygransoStruct\n",
    "\n",
    "from scipy.ndimage import gaussian_filter"
   ]
  },
  {
   "cell_type": "markdown",
   "id": "1cf68c84",
   "metadata": {},
   "source": [
    "# Running neural structural optimization with PyGranso 🧨\n",
    "\n",
    "To check the validity of our new `torch` based code we will test the structural optimization with `torch.optim` optimizers.\n",
    "\n",
    "### MBB Beam\n",
    "\n",
    "The first problem that we will run is with the **MBB BEAM**."
   ]
  },
  {
   "cell_type": "code",
   "execution_count": 4,
   "id": "a048958b",
   "metadata": {},
   "outputs": [],
   "source": [
    "def constrained_structural_optimization_function(model, ke, args, designs, losses):\n",
    "    \"\"\"\n",
    "    Combined function for PyGranso for the structural optimization\n",
    "    problem. The inputs will be the model that reparameterizes x as a function\n",
    "    of a neural network. V0 is the initial volume, K is the global stiffness\n",
    "    matrix and F is the forces that are applied in the problem.\n",
    "    \"\"\"\n",
    "    # Initialize the model\n",
    "    # In my version of the model it follows the similar behavior of the\n",
    "    # tensorflow repository and only needs None to initialize and output\n",
    "    # a first value of x\n",
    "    logits = model(None)\n",
    "\n",
    "    # kwargs for displacement\n",
    "    kwargs = dict(\n",
    "        penal=torch.tensor(args[\"penal\"]),\n",
    "        e_min=torch.tensor(args[\"young_min\"]),\n",
    "        e_0=torch.tensor(args[\"young\"]),\n",
    "    )\n",
    "    x_phys = torch.sigmoid(logits)\n",
    "\n",
    "    # Calculate the forces\n",
    "    forces = topo_physics.calculate_forces(x_phys, args)\n",
    "\n",
    "    # Calculate the u_matrix\n",
    "    u_matrix, _ = topo_physics.sparse_displace(\n",
    "        x_phys, ke, args, forces, args[\"freedofs\"], args[\"fixdofs\"], **kwargs\n",
    "    )\n",
    "\n",
    "    # Calculate the compliance output\n",
    "    compliance_output, _, _ = topo_physics.compliance(x_phys, u_matrix, ke, args, **kwargs)\n",
    "\n",
    "    # The loss is the sum of the compliance\n",
    "    f = torch.abs(torch.sum(compliance_output))\n",
    "\n",
    "    # Run this problem with no inequality constraints\n",
    "    ci = None\n",
    "\n",
    "    # Run this problem with no equality constraints\n",
    "    ce = pygransoStruct()\n",
    "    ce.c1 = 5e3 * (torch.mean(x_phys) - args['volfrac'])\n",
    "\n",
    "    # Append updated physical density designs\n",
    "    designs.append(\n",
    "        x_phys\n",
    "    )  # noqa\n",
    "\n",
    "    return f, ci, ce"
   ]
  },
  {
   "cell_type": "code",
   "execution_count": 5,
   "id": "a9abc198",
   "metadata": {
    "scrolled": true
   },
   "outputs": [
    {
     "name": "stderr",
     "output_type": "stream",
     "text": [
      "/Users/ryandevera/data-science/tesorio/NCVX-Neural-Structural-Optimization/topo_api.py:34: UserWarning: To copy construct from a tensor, it is recommended to use sourceTensor.clone().detach() or sourceTensor.clone().detach().requires_grad_(True), rather than torch.tensor(sourceTensor).\n",
      "  \"forces\": torch.tensor(problem.forces.ravel()),\n",
      "/Users/ryandevera/data-science/tesorio/NCVX-Neural-Structural-Optimization/models.py:70: UserWarning: __floordiv__ is deprecated, and its behavior will change in a future version of pytorch. It currently rounds toward 0 (like the 'trunc' function NOT 'floor'). This results in incorrect rounding for negative values. To keep the current behavior, use torch.div(a, b, rounding_mode='trunc'), or for actual floor division, use torch.div(a, b, rounding_mode='floor').\n",
      "  self.h = args[\"nely\"] // total_resize\n",
      "/Users/ryandevera/data-science/tesorio/NCVX-Neural-Structural-Optimization/models.py:71: UserWarning: __floordiv__ is deprecated, and its behavior will change in a future version of pytorch. It currently rounds toward 0 (like the 'trunc' function NOT 'floor'). This results in incorrect rounding for negative values. To keep the current behavior, use torch.div(a, b, rounding_mode='trunc'), or for actual floor division, use torch.div(a, b, rounding_mode='floor').\n",
      "  self.w = args[\"nelx\"] // total_resize\n",
      "/var/folders/6c/8rvpvzfs0vxbbx2jh4rbfb100000gn/T/ipykernel_90850/1383362410.py:17: UserWarning: To copy construct from a tensor, it is recommended to use sourceTensor.clone().detach() or sourceTensor.clone().detach().requires_grad_(True), rather than torch.tensor(sourceTensor).\n",
      "  e_min=torch.tensor(args[\"young_min\"]),\n",
      "/var/folders/6c/8rvpvzfs0vxbbx2jh4rbfb100000gn/T/ipykernel_90850/1383362410.py:18: UserWarning: To copy construct from a tensor, it is recommended to use sourceTensor.clone().detach() or sourceTensor.clone().detach().requires_grad_(True), rather than torch.tensor(sourceTensor).\n",
      "  e_0=torch.tensor(args[\"young\"]),\n",
      "/Users/ryandevera/data-science/tesorio/NCVX-Neural-Structural-Optimization/topo_physics.py:15: UserWarning: To copy construct from a tensor, it is recommended to use sourceTensor.clone().detach() or sourceTensor.clone().detach().requires_grad_(True), rather than torch.tensor(sourceTensor).\n",
      "  e_0 = torch.tensor(e_0)\n",
      "/Users/ryandevera/data-science/tesorio/NCVX-Neural-Structural-Optimization/topo_physics.py:16: UserWarning: To copy construct from a tensor, it is recommended to use sourceTensor.clone().detach() or sourceTensor.clone().detach().requires_grad_(True), rather than torch.tensor(sourceTensor).\n",
      "  e_min = torch.tensor(e_min)\n",
      "/Users/ryandevera/data-science/tesorio/NCVX-Neural-Structural-Optimization/topo_physics.py:17: UserWarning: To copy construct from a tensor, it is recommended to use sourceTensor.clone().detach() or sourceTensor.clone().detach().requires_grad_(True), rather than torch.tensor(sourceTensor).\n",
      "  p = torch.tensor(p)\n"
     ]
    },
    {
     "name": "stdout",
     "output_type": "stream",
     "text": [
      "\n",
      "\n",
      "\u001b[33m╔═════ QP SOLVER NOTICE ════════════════════════════════════════════════════════════════════════╗\n",
      "\u001b[0m\u001b[33m║  PyGRANSO requires a quadratic program (QP) solver that has a quadprog-compatible interface,  ║\n",
      "\u001b[0m\u001b[33m║  the default is osqp. Users may provide their own wrapper for the QP solver.                  ║\n",
      "\u001b[0m\u001b[33m║  To disable this notice, set opts.quadprog_info_msg = False                                   ║\n",
      "\u001b[0m\u001b[33m╚═══════════════════════════════════════════════════════════════════════════════════════════════╝\n",
      "\u001b[0m═════════════════════════════════════════════════════════════════════════════════════════════════════════════════╗\n",
      "PyGRANSO: A PyTorch-enabled port of GRANSO with auto-differentiation                                             ║ \n",
      "Version 1.2.0                                                                                                    ║ \n",
      "Licensed under the AGPLv3, Copyright (C) 2021-2022 Tim Mitchell and Buyun Liang                                  ║ \n",
      "═════════════════════════════════════════════════════════════════════════════════════════════════════════════════╣\n",
      "Problem specifications:                                                                                          ║ \n",
      " # of variables                     :   681569                                                                   ║ \n",
      " # of inequality constraints        :        0                                                                   ║ \n",
      " # of equality constraints          :        1                                                                   ║ \n",
      "═════════════════════════════════════════════════════════════════════════════════════════════════════════════════╣\n",
      "\u001b[33mLimited-memory mode enabled with size = 20.                                                                     \u001b[0m ║ \n",
      "\u001b[33mNOTE: limited-memory mode is generally NOT                                                                      \u001b[0m ║ \n",
      "\u001b[33mrecommended for nonsmooth problems.                                                                             \u001b[0m ║ \n",
      "═════╦═══════════════════════════╦════════════════╦═════════════════╦═══════════════════════╦════════════════════╣\n",
      "     ║ <--- Penalty Function --> ║                ║ Total Violation ║ <--- Line Search ---> ║ <- Stationarity -> ║ \n",
      "Iter ║    Mu    │      Value     ║    Objective   ║ Ineq │    Eq    ║ SD │ Evals │     t    ║ Grads │    Value   ║ \n",
      "═════╬═══════════════════════════╬════════════════╬═════════════════╬═══════════════════════╬════════════════════╣\n",
      "   0 ║ 1.000000 │  2479.21756930 ║  2396.03004642 ║   -  │ 83.18752 ║ -  │     1 │ 0.000000 ║     1 │ 107526.0   ║ \n"
     ]
    },
    {
     "name": "stderr",
     "output_type": "stream",
     "text": [
      "/Users/ryandevera/.pyenv/versions/3.9.11/lib/python3.9/site-packages/pygranso/private/bfgsHessianInverseLimitedMem.py:237: UserWarning: The use of `x.T` on tensors of dimension other than 2 to reverse their shape is deprecated and it will throw an error in a future release. Consider `x.mT` to transpose batches of matricesor `x.permute(*torch.arange(x.ndim - 1, -1, -1))` to reverse the dimensions of a tensor. (Triggered internally at  /Users/runner/work/pytorch/pytorch/pytorch/aten/src/ATen/native/TensorShape.cpp:2985.)\n",
      "  alpha[j,:]  = self.rho[0,j] * (self.S[:,j].T  @ q)\n"
     ]
    },
    {
     "name": "stdout",
     "output_type": "stream",
     "text": [
      "  10 ║ 0.348678 │  112.258927196 ║  320.683119784 ║   -  │ 0.443637 ║ S  │     1 │ 1.000000 ║     1 │ 0.042182   ║ \n",
      "  20 ║ 0.254187 │  63.4029947648 ║  242.976052112 ║   -  │ 1.641742 ║ S  │     1 │ 1.000000 ║     1 │ 0.041764   ║ \n",
      "  30 ║ 0.254187 │  56.8340829138 ║  220.370725683 ║   -  │ 0.818801 ║ S  │     1 │ 1.000000 ║     1 │ 0.133752   ║ \n",
      "  40 ║ 0.254187 │  53.0422726308 ║  206.624246518 ║   -  │ 0.521161 ║ S  │     2 │ 0.500000 ║     1 │ 0.341461   ║ \n",
      "  50 ║ 0.254187 │  50.9294419677 ║  200.176510723 ║   -  │ 0.047259 ║ S  │     3 │ 0.250000 ║     1 │ 0.238652   ║ \n",
      "  60 ║ 0.254187 │  50.6286455860 ║  198.690143383 ║   -  │ 0.124277 ║ S  │     6 │ 0.031250 ║     1 │ 0.210862   ║ \n",
      "  70 ║ 0.254187 │  50.1640872121 ║  197.182144989 ║   -  │ 0.043032 ║ S  │     3 │ 0.250000 ║     1 │ 0.323141   ║ \n",
      "  80 ║ 0.254187 │  49.9985449761 ║  196.597942225 ║   -  │ 0.025986 ║ S  │     3 │ 0.750000 ║     1 │ 0.021900   ║ \n",
      "  90 ║ 0.254187 │  49.8791688040 ║  196.199271030 ║   -  │ 0.007947 ║ S  │     9 │ 0.003906 ║     1 │ 4.646626   ║ \n",
      " 100 ║ 0.109419 │  21.4341603672 ║  195.704349295 ║   -  │ 0.020388 ║ S  │     3 │ 0.250000 ║     1 │ 0.255462   ║ \n",
      " 110 ║ 0.109419 │  21.3880769580 ║  195.446623749 ║   -  │ 0.002505 ║ S  │     6 │ 0.031250 ║     1 │ 0.036482   ║ \n",
      " 120 ║ 0.109419 │  21.3661231545 ║  195.233005568 ║   -  │ 0.003925 ║ S  │     5 │ 0.312500 ║     1 │ 0.070918   ║ \n",
      " 130 ║ 0.109419 │  21.3578510486 ║  195.190211348 ║   -  │ 3.35e-04 ║ S  │     8 │ 0.007812 ║     1 │ 0.212471   ║ \n",
      " 140 ║ 0.109419 │  21.3481918342 ║  195.098419643 ║   -  │ 7.20e-04 ║ S  │     3 │ 0.250000 ║     1 │ 0.050524   ║ \n",
      " 150 ║ 0.098477 │  19.2100575075 ║  195.064165744 ║   -  │ 7.06e-04 ║ S  │     4 │ 0.125000 ║     1 │ 0.082862   ║ \n",
      " 160 ║ 0.098477 │  19.2020315841 ║  194.988353991 ║   -  │ 1.46e-04 ║ S  │     5 │ 0.062500 ║     1 │ 0.009268   ║ \n",
      " 170 ║ 0.098477 │  19.1903099673 ║  194.869771662 ║   -  │ 1.02e-04 ║ S  │     4 │ 0.125000 ║     1 │ 0.307464   ║ \n",
      " 180 ║ 0.018248 │  3.55554301918 ║  194.845371207 ║   -  │ 3.98e-06 ║ S  │     3 │ 0.250000 ║     1 │ 0.013094   ║ \n",
      " 190 ║ 0.007070 │  1.37742173151 ║  194.835363886 ║   -  │ 3.81e-06 ║ S  │     8 │ 0.257812 ║     2 │ 1.82e-04   ║ \n",
      "═════╬═══════════════════════════╬════════════════╬═════════════════╬═══════════════════════╬════════════════════╣\n",
      "     ║ <--- Penalty Function --> ║                ║ Total Violation ║ <--- Line Search ---> ║ <- Stationarity -> ║ \n",
      "Iter ║    Mu    │      Value     ║    Objective   ║ Ineq │    Eq    ║ SD │ Evals │     t    ║ Grads │    Value   ║ \n",
      "═════╬═══════════════════════════╬════════════════╬═════════════════╬═══════════════════════╬════════════════════╣\n",
      " 200 ║ 0.005726 │  1.11565908326 ║  194.825946818 ║   -  │ 4.49e-06 ║ S  │     5 │ 0.062500 ║     1 │ 0.009191   ║ \n",
      " 210 ║ 0.005726 │  1.11563616346 ║  194.822478149 ║   -  │ 1.43e-06 ║ S  │    13 │ 0.011475 ║     2 │ 0.005394   ║ \n",
      " 220 ║ 0.005726 │  1.11560425409 ║  194.814883428 ║   -  │ 1.30e-05 ║ S  │     6 │ 0.093750 ║     1 │ 0.001505   ║ \n",
      " 230 ║ 0.005726 │  1.11556807571 ║  194.807887769 ║   -  │ 1.69e-05 ║ S  │     3 │ 0.250000 ║     1 │ 0.003454   ║ \n",
      " 240 ║ 0.004638 │  0.90356793813 ║  194.800797824 ║   -  │ 4.37e-06 ║ S  │     3 │ 0.250000 ║     1 │ 9.04e-04   ║ \n",
      " 250 ║ 0.002219 │  0.43216713097 ║  194.798468529 ║   -  │ 6.44e-07 ║ S  │     3 │ 0.250000 ║     1 │ 6.08e-04   ║ \n",
      " 260 ║ 0.002219 │  0.43214795243 ║  194.790026017 ║   -  │ 1.96e-07 ║ S  │     2 │ 0.500000 ║     1 │ 0.002966   ║ \n",
      " 270 ║ 0.001997 │  0.38893194930 ║  194.789482063 ║   -  │ 5.42e-08 ║ S  │     8 │ 0.007812 ║     5 │ 3.35e-04   ║ \n",
      " 280 ║ 0.001997 │  0.38892682769 ║  194.786570034 ║   -  │ 7.47e-07 ║ S  │     8 │ 0.007812 ║     2 │ 8.94e-05   ║ \n",
      " 290 ║ 6.96e-04 │  0.13560989750 ║  194.786143608 ║   -  │ 5.52e-08 ║ S  │     2 │ 2.000000 ║     3 │ 8.03e-06   ║ \n",
      " 300 ║ 1.16e-04 │  0.02261589036 ║  194.786058894 ║   -  │ 4.04e-10 ║ S  │    13 │ 2.44e-04 ║    13 │ 1.55e-05   ║ \n",
      "═════╩═══════════════════════════╩════════════════╩═════════════════╩═══════════════════════╩════════════════════╣\n",
      "F = final iterate, B = Best (to tolerance), MF = Most Feasible                                                   ║ \n",
      "Optimization results:                                                                                            ║ \n",
      "═════╦═══════════════════════════╦════════════════╦═════════════════╦═══════════════════════╦════════════════════╣\n",
      "   F ║          │                ║  194.786058788 ║   -  │ 3.42e-10 ║    │       │          ║       │            ║ \n",
      "   B ║          │                ║  194.786021176 ║   -  │ 2.91e-07 ║    │       │          ║       │            ║ \n",
      "  MF ║          │                ║  194.786058788 ║   -  │ 3.42e-10 ║    │       │          ║       │            ║ \n",
      "═════╩═══════════════════════════╩════════════════╩═════════════════╩═══════════════════════╩════════════════════╣\n",
      "Iterations:              301                                                                                     ║ \n",
      "Function evaluations:    1890                                                                                    ║ \n",
      "PyGRANSO termination code: 0 --- converged to stationarity and feasibility tolerances.                           ║ \n",
      "═════════════════════════════════════════════════════════════════════════════════════════════════════════════════╝\n",
      "\n",
      "\n",
      "\u001b[33m╔═════ QP SOLVER NOTICE ════════════════════════════════════════════════════════════════════════╗\n",
      "\u001b[0m\u001b[33m║  PyGRANSO requires a quadratic program (QP) solver that has a quadprog-compatible interface,  ║\n",
      "\u001b[0m\u001b[33m║  the default is osqp. Users may provide their own wrapper for the QP solver.                  ║\n",
      "\u001b[0m\u001b[33m║  To disable this notice, set opts.quadprog_info_msg = False                                   ║\n",
      "\u001b[0m\u001b[33m╚═══════════════════════════════════════════════════════════════════════════════════════════════╝\n",
      "\u001b[0m═════════════════════════════════════════════════════════════════════════════════════════════════════════════════╗\n",
      "PyGRANSO: A PyTorch-enabled port of GRANSO with auto-differentiation                                             ║ \n",
      "Version 1.2.0                                                                                                    ║ \n",
      "Licensed under the AGPLv3, Copyright (C) 2021-2022 Tim Mitchell and Buyun Liang                                  ║ \n",
      "═════════════════════════════════════════════════════════════════════════════════════════════════════════════════╣\n",
      "Problem specifications:                                                                                          ║ \n",
      " # of variables                     :   681569                                                                   ║ \n",
      " # of inequality constraints        :        0                                                                   ║ \n",
      " # of equality constraints          :        1                                                                   ║ \n",
      "═════════════════════════════════════════════════════════════════════════════════════════════════════════════════╣\n",
      "\u001b[33mLimited-memory mode enabled with size = 20.                                                                     \u001b[0m ║ \n",
      "\u001b[33mNOTE: limited-memory mode is generally NOT                                                                      \u001b[0m ║ \n",
      "\u001b[33mrecommended for nonsmooth problems.                                                                             \u001b[0m ║ \n",
      "═════╦═══════════════════════════╦════════════════╦═════════════════╦═══════════════════════╦════════════════════╣\n",
      "     ║ <--- Penalty Function --> ║                ║ Total Violation ║ <--- Line Search ---> ║ <- Stationarity -> ║ \n",
      "Iter ║    Mu    │      Value     ║    Objective   ║ Ineq │    Eq    ║ SD │ Evals │     t    ║ Grads │    Value   ║ \n",
      "═════╬═══════════════════════════╬════════════════╬═════════════════╬═══════════════════════╬════════════════════╣\n",
      "   0 ║ 1.000000 │  6130.65714633 ║  5871.82844149 ║   -  │ 258.8287 ║ -  │     1 │ 0.000000 ║     1 │ 596096.7   ║ \n",
      "  10 ║ 0.254187 │  205.079343371 ║  658.282643225 ║   -  │ 37.75273 ║ S  │     2 │ 2.000000 ║     1 │ 0.017970   ║ \n",
      "  20 ║ 0.254187 │  126.441875082 ║  495.415902973 ║   -  │ 0.513800 ║ S  │     2 │ 0.500000 ║     1 │ 0.070523   ║ \n"
     ]
    },
    {
     "name": "stdout",
     "output_type": "stream",
     "text": [
      "  30 ║ 0.254187 │  108.722446972 ║  427.281683609 ║   -  │ 0.113176 ║ S  │     1 │ 1.000000 ║     1 │ 0.333707   ║ \n",
      "  40 ║ 0.254187 │  95.5148966082 ║  363.756333296 ║   -  │ 3.052917 ║ S  │     2 │ 0.500000 ║     1 │ 0.019929   ║ \n",
      "  50 ║ 0.088629 │  30.5230274571 ║  343.869624120 ║   -  │ 0.046075 ║ S  │     3 │ 0.250000 ║     1 │ 0.112609   ║ \n",
      "  60 ║ 0.071790 │  23.3702613812 ║  323.978666427 ║   -  │ 0.111898 ║ S  │     1 │ 1.000000 ║     1 │ 0.015928   ║ \n",
      "  70 ║ 0.071790 │  22.7566878015 ║  315.701881340 ║   -  │ 0.092513 ║ S  │     3 │ 0.250000 ║     1 │ 0.166347   ║ \n",
      "  80 ║ 0.052335 │  16.0962272101 ║  301.444789540 ║   -  │ 0.320186 ║ S  │     2 │ 0.500000 ║     1 │ 0.041211   ║ \n",
      "  90 ║ 0.052335 │  15.6334542702 ║  297.325418468 ║   -  │ 0.072999 ║ S  │     3 │ 0.250000 ║     1 │ 0.023046   ║ \n",
      " 100 ║ 0.052335 │  15.2011759218 ║  288.786371219 ║   -  │ 0.087610 ║ S  │     3 │ 0.750000 ║     1 │ 0.010436   ║ \n",
      " 110 ║ 0.052335 │  14.9097118995 ║  284.070023170 ║   -  │ 0.042974 ║ S  │     3 │ 4.000000 ║     1 │ 0.004407   ║ \n",
      " 120 ║ 0.052335 │  14.2849335092 ║  269.978307715 ║   -  │ 0.155683 ║ S  │     4 │ 1.250000 ║     1 │ 0.018170   ║ \n",
      " 130 ║ 0.052335 │  13.6762833931 ║  259.207927476 ║   -  │ 0.110698 ║ S  │     2 │ 0.500000 ║     1 │ 0.039053   ║ \n",
      " 140 ║ 0.052335 │  13.3678313987 ║  255.078888238 ║   -  │ 0.018338 ║ S  │     1 │ 1.000000 ║     1 │ 0.059982   ║ \n",
      " 150 ║ 0.022528 │  5.68368280430 ║  251.815064847 ║   -  │ 0.010692 ║ S  │     2 │ 2.000000 ║     1 │ 0.005194   ║ \n",
      " 160 ║ 0.022528 │  5.63936052790 ║  250.054251790 ║   -  │ 0.006038 ║ S  │     6 │ 0.156250 ║     1 │ 0.005540   ║ \n",
      " 170 ║ 0.022528 │  5.62793881041 ║  249.652153680 ║   -  │ 0.003675 ║ S  │     7 │ 0.015625 ║     1 │ 0.017951   ║ \n",
      " 180 ║ 0.022528 │  5.57093788375 ║  246.901323559 ║   -  │ 0.008646 ║ S  │     3 │ 0.750000 ║     1 │ 0.288787   ║ \n",
      " 190 ║ 0.006363 │  1.56401963156 ║  245.690637653 ║   -  │ 7.67e-04 ║ S  │     1 │ 1.000000 ║     1 │ 0.001286   ║ \n",
      "═════╬═══════════════════════════╬════════════════╬═════════════════╬═══════════════════════╬════════════════════╣\n",
      "     ║ <--- Penalty Function --> ║                ║ Total Violation ║ <--- Line Search ---> ║ <- Stationarity -> ║ \n",
      "Iter ║    Mu    │      Value     ║    Objective   ║ Ineq │    Eq    ║ SD │ Evals │     t    ║ Grads │    Value   ║ \n",
      "═════╬═══════════════════════════╬════════════════╬═════════════════╬═══════════════════════╬════════════════════╣\n",
      " 200 ║ 0.003381 │  0.82918330986 ║  245.122985508 ║   -  │ 3.26e-04 ║ S  │     6 │ 0.093750 ║     1 │ 0.020357   ║ \n",
      " 210 ║ 0.003381 │  0.82608909221 ║  244.157287148 ║   -  │ 4.98e-04 ║ S  │     2 │ 2.000000 ║     1 │ 0.001936   ║ \n",
      " 220 ║ 0.003381 │  0.82421329502 ║  243.614473216 ║   -  │ 4.57e-04 ║ S  │     6 │ 0.281250 ║     1 │ 0.001331   ║ \n",
      " 230 ║ 0.003043 │  0.73856367764 ║  242.614621794 ║   -  │ 2.26e-04 ║ S  │     9 │ 0.035156 ║     1 │ 0.009268   ║ \n",
      " 240 ║ 0.003043 │  0.73795490543 ║  242.412319646 ║   -  │ 2.33e-04 ║ S  │     4 │ 0.375000 ║     1 │ 0.151882   ║ \n",
      " 250 ║ 4.11e-04 │  0.09959729662 ║  242.250571213 ║   -  │ 8.49e-06 ║ S  │     4 │ 0.125000 ║     1 │ 1.94e-04   ║ \n",
      " 260 ║ 2.39e-05 │  0.00578923714 ║  242.172558062 ║   -  │ 3.94e-08 ║ S  │     7 │ 0.015625 ║     4 │ 0.001257   ║ \n",
      " 270 ║ 4.43e-06 │  0.00107268327 ║  242.155363658 ║   -  │ 9.41e-09 ║ S  │    11 │ 0.290039 ║     1 │ 3.45e-05   ║ \n",
      " 280 ║ 3.53e-07 │  8.5561198e-05 ║  242.149108225 ║   -  │ 3.00e-11 ║ S  │     9 │ 0.003906 ║     6 │ 2.95e-04   ║ \n",
      " 290 ║ 2.58e-07 │  6.2374007e-05 ║  242.148763089 ║   -  │ 3.89e-12 ║ S  │    11 │ 9.77e-04 ║    16 │ 0.003030   ║ \n",
      "═════╩═══════════════════════════╩════════════════╩═════════════════╩═══════════════════════╩════════════════════╣\n",
      "F = final iterate, B = Best (to tolerance), MF = Most Feasible                                                   ║ \n",
      "Optimization results:                                                                                            ║ \n",
      "═════╦═══════════════════════════╦════════════════╦═════════════════╦═══════════════════════╦════════════════════╣\n",
      "   F ║          │                ║  242.148695752 ║   -  │ 1.11e-12 ║    │       │          ║       │            ║ \n",
      "   B ║          │                ║  242.145435591 ║   -  │ 7.05e-07 ║    │       │          ║       │            ║ \n",
      "  MF ║          │                ║  242.148693721 ║   -  │ 1.11e-12 ║    │       │          ║       │            ║ \n",
      "═════╩═══════════════════════════╩════════════════╩═════════════════╩═══════════════════════╩════════════════════╣\n",
      "Iterations:              297                                                                                     ║ \n",
      "Function evaluations:    1458                                                                                    ║ \n",
      "PyGRANSO termination code: 6 --- line search bracketed a minimizer but failed to satisfy Wolfe conditions at a   ║ \n",
      "feasible point (to tolerances).  This may be an indication that approximate stationarity has been attained.      ║ \n",
      "═════════════════════════════════════════════════════════════════════════════════════════════════════════════════╝\n"
     ]
    }
   ],
   "source": [
    "# Identify the problem\n",
    "problem = problems.mbb_beam(height=20, width=60)\n",
    "problem.name = 'mbb_beam'\n",
    "\n",
    "# cnn_kwargs\n",
    "cnn_kwargs = dict(resizes=(1, 1, 2, 2, 1))\n",
    "\n",
    "# Get the problem args\n",
    "args = topo_api.specified_task(problem)\n",
    "\n",
    "# Trials\n",
    "trials = []\n",
    "\n",
    "for seed in range(40, 42):\n",
    "    torch.random.manual_seed(seed)\n",
    "\n",
    "    # Initialize the CNN Model\n",
    "    if cnn_kwargs is not None:\n",
    "        cnn_model = models.CNNModel(args, **cnn_kwargs)\n",
    "    else:\n",
    "        cnn_model = models.CNNModel(args)\n",
    "\n",
    "    # Put the cnn model in training mode\n",
    "    cnn_model.train()\n",
    "\n",
    "    # Create the stiffness matrix\n",
    "    ke = topo_physics.get_stiffness_matrix(\n",
    "        young=args[\"young\"],\n",
    "        poisson=args[\"poisson\"],\n",
    "    )\n",
    "\n",
    "    # Create the combined function and structural optimization\n",
    "    # setup\n",
    "    # Save the physical density designs & the losses\n",
    "    designs = []\n",
    "    losses = []\n",
    "    # Combined function\n",
    "    comb_fn = lambda model: constrained_structural_optimization_function(  # noqa\n",
    "        model, ke, args, designs, losses\n",
    "    )\n",
    "\n",
    "    # Initalize the pygranso options\n",
    "    opts = pygransoStruct()\n",
    "\n",
    "    # Set the device\n",
    "    opts.torch_device = torch.device('cpu')\n",
    "\n",
    "    # Setup the intitial inputs for the solver\n",
    "    nvar = getNvarTorch(cnn_model.parameters())\n",
    "    opts.x0 = (\n",
    "        torch.nn.utils.parameters_to_vector(cnn_model.parameters())\n",
    "        .detach()\n",
    "        .reshape(nvar, 1)\n",
    "    )\n",
    "\n",
    "    # Additional pygranso options\n",
    "    opts.limited_mem_size = 20\n",
    "    opts.double_precision = True\n",
    "    opts.mu0 = 1.0\n",
    "    opts.maxit = 500\n",
    "    opts.print_frequency = 10\n",
    "    opts.stat_l2_model = False\n",
    "    opts.viol_eq_tol = 1e-6\n",
    "    opts.opt_tol = 1e-6\n",
    "    \n",
    "    mHLF_obj = utils.HaltLog()\n",
    "    halt_log_fn, get_log_fn = mHLF_obj.makeHaltLogFunctions(opts.maxit)\n",
    "\n",
    "    #  Set PyGRANSO's logging function in opts\n",
    "    opts.halt_log_fn = halt_log_fn\n",
    "\n",
    "    # Main algorithm with logging enabled.\n",
    "    soln = pygranso(var_spec=cnn_model, combined_fn=comb_fn, user_opts=opts)\n",
    "\n",
    "    # GET THE HISTORY OF ITERATES\n",
    "    # Even if an error is thrown, the log generated until the error can be\n",
    "    # obtained by calling get_log_fn()\n",
    "    log = get_log_fn()\n",
    "    \n",
    "    # Final structure\n",
    "    designs_indexes = (pd.Series(log.fn_evals).cumsum() - 1).values.tolist()\n",
    "    final_designs = [designs[i] for i in designs_indexes]\n",
    "    \n",
    "    trials.append((soln.final.f, pd.Series(log.f), final_designs))"
   ]
  },
  {
   "cell_type": "code",
   "execution_count": 6,
   "id": "698883e1",
   "metadata": {},
   "outputs": [],
   "source": [
    "best_trial = sorted(trials)[0]"
   ]
  },
  {
   "cell_type": "code",
   "execution_count": 7,
   "id": "755a2648",
   "metadata": {},
   "outputs": [
    {
     "data": {
      "image/png": "[encoded data removed]",
      "text/plain": [
       "<Figure size 1000x700 with 1 Axes>"
      ]
     },
     "metadata": {},
     "output_type": "display_data"
    }
   ],
   "source": [
    "# Plot the loss\n",
    "ax = best_trial[1].plot(figsize=(10, 7), marker='*')\n",
    "ax.grid()"
   ]
  },
  {
   "cell_type": "code",
   "execution_count": 8,
   "id": "e44c3b93",
   "metadata": {},
   "outputs": [
    {
     "data": {
      "image/png": "[encoded data removed]",
      "text/plain": [
       "<Figure size 600x400 with 1 Axes>"
      ]
     },
     "metadata": {},
     "output_type": "display_data"
    }
   ],
   "source": [
    "from scipy.ndimage import gaussian_filter\n",
    "\n",
    "pygranso_structure = best_trial[2][-1].detach().numpy()\n",
    "\n",
    "# Plot the two structures together\n",
    "fig, ax1 = plt.subplots(1, 1, figsize=(6, 4))\n",
    "\n",
    "# pygranso\n",
    "ax1.imshow(pygranso_structure, cmap='Greys')\n",
    "ax1.grid()\n",
    "ax1.set_xlabel('x')\n",
    "ax1.set_ylabel('y')\n",
    "ax1.set_title('MBB Beam 60x20 - Neural Structural Optimization')\n",
    "fig.tight_layout()"
   ]
  }
 ],
 "metadata": {
  "kernelspec": {
   "display_name": "Python 3 (ipykernel)",
   "language": "python",
   "name": "python3"
  },
  "language_info": {
   "codemirror_mode": {
    "name": "ipython",
    "version": 3
   },
   "file_extension": ".py",
   "mimetype": "text/x-python",
   "name": "python",
   "nbconvert_exporter": "python",
   "pygments_lexer": "ipython3",
   "version": "3.9.11"
  }
 },
 "nbformat": 4,
 "nbformat_minor": 5
}
