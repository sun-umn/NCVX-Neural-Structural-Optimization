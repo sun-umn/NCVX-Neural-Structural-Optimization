{
 "cells": [
  {
   "cell_type": "code",
   "execution_count": 1,
   "id": "eb50a760",
   "metadata": {},
   "outputs": [
    {
     "data": {
      "text/plain": [
       "'/Users/ryandevera/data-science/tesorio/NCVX-Neural-Structural-Optimization/notebooks'"
      ]
     },
     "execution_count": 1,
     "metadata": {},
     "output_type": "execute_result"
    }
   ],
   "source": [
    "%pwd"
   ]
  },
  {
   "cell_type": "code",
   "execution_count": 2,
   "id": "bfb50112",
   "metadata": {},
   "outputs": [
    {
     "name": "stdout",
     "output_type": "stream",
     "text": [
      "/Users/ryandevera/data-science/tesorio/NCVX-Neural-Structural-Optimization\n"
     ]
    }
   ],
   "source": [
    "%cd .."
   ]
  },
  {
   "cell_type": "code",
   "execution_count": 3,
   "id": "9f86c96b",
   "metadata": {},
   "outputs": [
    {
     "name": "stdout",
     "output_type": "stream",
     "text": [
      "3.9.11\n"
     ]
    }
   ],
   "source": [
    "from platform import python_version\n",
    "\n",
    "print(python_version())"
   ]
  },
  {
   "cell_type": "code",
   "execution_count": 4,
   "id": "fd6ba986",
   "metadata": {},
   "outputs": [
    {
     "name": "stderr",
     "output_type": "stream",
     "text": [
      "2023-05-20 12:30:15.398944: I tensorflow/core/platform/cpu_feature_guard.cc:182] This TensorFlow binary is optimized to use available CPU instructions in performance-critical operations.\n",
      "To enable the following instructions: AVX2 FMA, in other operations, rebuild TensorFlow with the appropriate compiler flags.\n"
     ]
    }
   ],
   "source": [
    "import numpy as np\n",
    "import matplotlib.pyplot as plt\n",
    "import time\n",
    "import torch\n",
    "import os\n",
    "import pandas as pd\n",
    "\n",
    "# import problems to solve\n",
    "import problems\n",
    "import experiments\n",
    "import train\n",
    "import topo_api\n",
    "import topo_physics\n",
    "import models\n",
    "import utils\n",
    "\n",
    "from pygranso.private.getNvar import getNvarTorch\n",
    "from pygranso.pygranso import pygranso\n",
    "from pygranso.pygransoStruct import pygransoStruct\n",
    "\n",
    "from scipy.ndimage import gaussian_filter"
   ]
  },
  {
   "cell_type": "markdown",
   "id": "0c1606b7",
   "metadata": {},
   "source": [
    "# Running neural structural optimization with PyGranso 🧨\n",
    "\n",
    "To check the validity of our new `torch` based code we will test the structural optimization with `torch.optim` optimizers.\n",
    "\n",
    "### MBB Beam\n",
    "\n",
    "The first problem that we will run is with the **MBB BEAM**."
   ]
  },
  {
   "cell_type": "code",
   "execution_count": 5,
   "id": "adc676c1",
   "metadata": {},
   "outputs": [],
   "source": [
    "def constrained_structural_optimization_function(model, ke, args, designs, losses, device, dtype):\n",
    "    \"\"\"\n",
    "    Combined function for PyGranso for the structural optimization\n",
    "    problem. The inputs will be the model that reparameterizes x as a function\n",
    "    of a neural network. V0 is the initial volume, K is the global stiffness\n",
    "    matrix and F is the forces that are applied in the problem.\n",
    "    \"\"\"\n",
    "    # Initialize the model\n",
    "    # In my version of the model it follows the similar behavior of the\n",
    "    # tensorflow repository and only needs None to initialize and output\n",
    "    # a first value of x\n",
    "    logits = model(None)\n",
    "\n",
    "    # kwargs for displacement\n",
    "    kwargs = dict(\n",
    "        penal=args[\"penal\"],\n",
    "        e_min=args[\"young_min\"],\n",
    "        e_0=args[\"young\"],\n",
    "        base='MATLAB',\n",
    "        device=device,\n",
    "        dtype=dtype\n",
    "    )\n",
    "    x_phys = torch.sigmoid(logits)\n",
    "\n",
    "    # Calculate the forces\n",
    "    forces = topo_physics.calculate_forces(x_phys, args)\n",
    "\n",
    "    # Calculate the u_matrix\n",
    "    u_matrix = topo_physics.sparse_displace(\n",
    "        x_phys, ke, args, forces, args[\"freedofs\"], args[\"fixdofs\"], **kwargs\n",
    "    )\n",
    "\n",
    "    # Calculate the compliance output\n",
    "    compliance_output, _, _ = topo_physics.compliance(x_phys, u_matrix, ke, args, **kwargs)\n",
    "\n",
    "    # The loss is the sum of the compliance\n",
    "    f = torch.abs(torch.sum(compliance_output))\n",
    "\n",
    "    # Run this problem with no inequality constraints\n",
    "    ci = None\n",
    "\n",
    "    # Run this problem with no equality constraints\n",
    "    ce = pygransoStruct()\n",
    "    ce.c1 = 5e3 * (torch.mean(x_phys) - args['volfrac'])\n",
    "\n",
    "    # Append updated physical density designs\n",
    "    designs.append(\n",
    "        x_phys.detach().cpu().numpy().astype(np.float16)\n",
    "    )  # noqa\n",
    "\n",
    "    return f, ci, ce"
   ]
  },
  {
   "cell_type": "code",
   "execution_count": 6,
   "id": "e73a1909",
   "metadata": {},
   "outputs": [
    {
     "data": {
      "text/plain": [
       "device(type='cpu')"
      ]
     },
     "execution_count": 6,
     "metadata": {},
     "output_type": "execute_result"
    }
   ],
   "source": [
    "# Get the device to use\n",
    "device = utils.get_devices()\n",
    "device"
   ]
  },
  {
   "cell_type": "code",
   "execution_count": 7,
   "id": "64d6a628",
   "metadata": {},
   "outputs": [
    {
     "name": "stderr",
     "output_type": "stream",
     "text": [
      "/Users/ryandevera/.virtualenvs/ncvx/lib/python3.9/site-packages/torch/functional.py:504: UserWarning: torch.meshgrid: in an upcoming release, it will be required to pass the indexing argument. (Triggered internally at /Users/runner/work/pytorch/pytorch/pytorch/aten/src/ATen/native/TensorShape.cpp:3191.)\n",
      "  return _VF.meshgrid(tensors, **kwargs)  # type: ignore[attr-defined]\n"
     ]
    },
    {
     "name": "stdout",
     "output_type": "stream",
     "text": [
      "\n",
      "\n",
      "\u001b[33m╔═════ QP SOLVER NOTICE ════════════════════════════════════════════════════════════════════════╗\n",
      "\u001b[0m\u001b[33m║  PyGRANSO requires a quadratic program (QP) solver that has a quadprog-compatible interface,  ║\n",
      "\u001b[0m\u001b[33m║  the default is osqp. Users may provide their own wrapper for the QP solver.                  ║\n",
      "\u001b[0m\u001b[33m║  To disable this notice, set opts.quadprog_info_msg = False                                   ║\n",
      "\u001b[0m\u001b[33m╚═══════════════════════════════════════════════════════════════════════════════════════════════╝\n",
      "\u001b[0m═════════════════════════════════════════════════════════════════════════════════════════════════════════════════╗\n",
      "PyGRANSO: A PyTorch-enabled port of GRANSO with auto-differentiation                                             ║ \n",
      "Version 1.2.0                                                                                                    ║ \n",
      "Licensed under the AGPLv3, Copyright (C) 2021-2022 Tim Mitchell and Buyun Liang                                  ║ \n",
      "═════════════════════════════════════════════════════════════════════════════════════════════════════════════════╣\n",
      "Problem specifications:                                                                                          ║ \n",
      " # of variables                     :   2356336                                                                  ║ \n",
      " # of inequality constraints        :         0                                                                  ║ \n",
      " # of equality constraints          :         1                                                                  ║ \n",
      "═════════════════════════════════════════════════════════════════════════════════════════════════════════════════╣\n",
      "\u001b[33mLimited-memory mode enabled with size = 10.                                                                     \u001b[0m ║ \n",
      "\u001b[33mNOTE: limited-memory mode is generally NOT                                                                      \u001b[0m ║ \n",
      "\u001b[33mrecommended for nonsmooth problems.                                                                             \u001b[0m ║ \n",
      "═════╦═══════════════════════════╦════════════════╦═════════════════╦═══════════════════════╦════════════════════╣\n",
      "     ║ <--- Penalty Function --> ║                ║ Total Violation ║ <--- Line Search ---> ║ <- Stationarity -> ║ \n",
      "Iter ║    Mu    │      Value     ║    Objective   ║ Ineq │    Eq    ║ SD │ Evals │     t    ║ Grads │    Value   ║ \n",
      "═════╬═══════════════════════════╬════════════════╬═════════════════╬═══════════════════════╬════════════════════╣\n",
      "   0 ║ 1.000000 │  1116.93416415 ║  1116.23720945 ║   -  │ 0.696955 ║ -  │     1 │ 0.000000 ║     1 │ 57.95395   ║ \n"
     ]
    },
    {
     "name": "stderr",
     "output_type": "stream",
     "text": [
      "/Users/ryandevera/.virtualenvs/ncvx/lib/python3.9/site-packages/pygranso/private/bfgsHessianInverseLimitedMem.py:237: UserWarning: The use of `x.T` on tensors of dimension other than 2 to reverse their shape is deprecated and it will throw an error in a future release. Consider `x.mT` to transpose batches of matrices or `x.permute(*torch.arange(x.ndim - 1, -1, -1))` to reverse the dimensions of a tensor. (Triggered internally at /Users/runner/work/pytorch/pytorch/pytorch/aten/src/ATen/native/TensorShape.cpp:3281.)\n",
      "  alpha[j,:]  = self.rho[0,j] * (self.S[:,j].T  @ q)\n"
     ]
    },
    {
     "name": "stdout",
     "output_type": "stream",
     "text": [
      "  10 ║ 1.000000 │  329.999003852 ║  326.448910311 ║   -  │ 3.550094 ║ S  │     2 │ 0.500000 ║     1 │ 0.001783   ║ \n",
      "  20 ║ 1.000000 │  227.986033703 ║  222.818187301 ║   -  │ 5.167846 ║ S  │     1 │ 1.000000 ║     1 │ 2.78e-04   ║ \n",
      "═════╩═══════════════════════════╩════════════════╩═════════════════╩═══════════════════════╩════════════════════╣\n",
      "Optimization results:                                                                                            ║ \n",
      "F = final iterate, B = Best (to tolerance), MF = Most Feasible                                                   ║ \n",
      "═════╦═══════════════════════════╦════════════════╦═════════════════╦═══════════════════════╦════════════════════╣\n",
      "   F ║          │                ║  209.436751943 ║   -  │ 0.432238 ║    │       │          ║       │            ║ \n",
      "  MF ║          │                ║  209.436751943 ║   -  │ 0.432238 ║    │       │          ║       │            ║ \n",
      "═════╩═══════════════════════════╩════════════════╩═════════════════╩═══════════════════════╩════════════════════╣\n",
      "Iterations:              25                                                                                      ║ \n",
      "Function evaluations:    75                                                                                      ║ \n",
      "PyGRANSO termination code: 4 --- max iterations reached.                                                         ║ \n",
      "═════════════════════════════════════════════════════════════════════════════════════════════════════════════════╝\n",
      "CPU times: user 18min 39s, sys: 31.5 s, total: 19min 10s\n",
      "Wall time: 2min 25s\n"
     ]
    },
    {
     "data": {
      "image/png": "[encoded data removed]",
      "text/plain": [
       "<Figure size 1000x500 with 1 Axes>"
      ]
     },
     "metadata": {},
     "output_type": "display_data"
    }
   ],
   "source": [
    "%%time\n",
    "\n",
    "# Identify the problem\n",
    "problem = problems.mbb_beam(height=32, width=96, density=0.5, device=device)\n",
    "problem.name = 'mbb_beam'\n",
    "\n",
    "# cnn_kwargs\n",
    "cnn_kwargs = dict(resizes=(1, 1, 2, 2, 1))\n",
    "\n",
    "# Get the problem args\n",
    "args = topo_api.specified_task(problem, device=device)\n",
    "\n",
    "# Trials\n",
    "trials = []\n",
    "\n",
    "# Good seed is between 40 & 41\n",
    "for index, seed in enumerate(range(0, 1)):\n",
    "    # torch.random.manual_seed(seed)\n",
    "    # torch.cuda.manual_seed(seed)\n",
    "    # torch.backends.cudnn.deterministic = True\n",
    "    # torch.backends.cudnn.benchmark = False\n",
    "\n",
    "    # Initialize the CNN Model\n",
    "    if cnn_kwargs is not None:\n",
    "        cnn_model = (\n",
    "            models\n",
    "            .CNNModel(args, random_seed=seed, **cnn_kwargs)\n",
    "            .to(device=device, dtype=utils.DEFAULT_DTYPE)\n",
    "        )\n",
    "    else:\n",
    "        cnn_model = (\n",
    "            models\n",
    "            .CNNModel(args, random_seed=seed)\n",
    "            .to(device=device, dtype=utils.DEFAULT_DTYPE)\n",
    "        )\n",
    "\n",
    "    # Put the cnn model in training mode\n",
    "    cnn_model.train()\n",
    "\n",
    "    # Create the stiffness matrix\n",
    "    ke = topo_physics.get_stiffness_matrix(\n",
    "        young=args[\"young\"],\n",
    "        poisson=args[\"poisson\"],\n",
    "        device=device\n",
    "    )\n",
    "\n",
    "    # Create the combined function and structural optimization\n",
    "    # setup\n",
    "    # Save the physical density designs & the losses\n",
    "    designs = []\n",
    "    losses = []\n",
    "    # Combined function\n",
    "    comb_fn = lambda model: constrained_structural_optimization_function(  # noqa\n",
    "        model, ke, args, designs, losses, device=device, dtype=utils.DEFAULT_DTYPE\n",
    "    )\n",
    "\n",
    "    # Initalize the pygranso options\n",
    "    opts = pygransoStruct()\n",
    "\n",
    "    # Set the device\n",
    "    opts.torch_device = device\n",
    "\n",
    "    # Setup the intitial inputs for the solver\n",
    "    nvar = getNvarTorch(cnn_model.parameters())\n",
    "    opts.x0 = (\n",
    "        torch.nn.utils.parameters_to_vector(cnn_model.parameters())\n",
    "        .detach()\n",
    "        .reshape(nvar, 1)\n",
    "    ).to(device=device, dtype=utils.DEFAULT_DTYPE)\n",
    "\n",
    "    # Additional pygranso options\n",
    "    opts.limited_mem_size = 10\n",
    "    opts.double_precision = True\n",
    "    opts.mu0 = 1.0\n",
    "    opts.maxit = 25\n",
    "    opts.print_frequency = 10\n",
    "    opts.stat_l2_model = False\n",
    "    opts.viol_eq_tol = 1e-6\n",
    "    opts.opt_tol = 1e-6\n",
    "    \n",
    "    mHLF_obj = utils.HaltLog()\n",
    "    halt_log_fn, get_log_fn = mHLF_obj.makeHaltLogFunctions(opts.maxit)\n",
    "\n",
    "    #  Set PyGRANSO's logging function in opts\n",
    "    opts.halt_log_fn = halt_log_fn\n",
    "\n",
    "    # Main algorithm with logging enabled.\n",
    "    soln = pygranso(var_spec=cnn_model, combined_fn=comb_fn, user_opts=opts)\n",
    "\n",
    "    # GET THE HISTORY OF ITERATES\n",
    "    # Even if an error is thrown, the log generated until the error can be\n",
    "    # obtained by calling get_log_fn()\n",
    "    log = get_log_fn()\n",
    "    \n",
    "    # Final structure\n",
    "    designs_indexes = (pd.Series(log.fn_evals).cumsum() - 1).values.tolist()\n",
    "    final_designs = [designs[i] for i in designs_indexes]\n",
    "    \n",
    "    trials.append((soln.final.f, pd.Series(log.f), final_designs))\n",
    "    \n",
    "    fig, ax1 = plt.subplots(1, 1, figsize=(10, 5))\n",
    "\n",
    "    # pygranso\n",
    "    output = ax1.imshow(designs[index], cmap='jet')"
   ]
  },
  {
   "cell_type": "code",
   "execution_count": 9,
   "id": "9bf19b29-a4f6-4064-a8f6-2ab139d1884b",
   "metadata": {
    "tags": []
   },
   "outputs": [
    {
     "data": {
      "text/plain": [
       "array([1, 3])"
      ]
     },
     "execution_count": 9,
     "metadata": {},
     "output_type": "execute_result"
    }
   ],
   "source": [
    "test = np.array([1, 2, 3, 4])\n",
    "test[[0, 2]]"
   ]
  },
  {
   "cell_type": "code",
   "execution_count": null,
   "id": "84b3fa6c",
   "metadata": {},
   "outputs": [],
   "source": [
    "best_trial = sorted(trials)[0]"
   ]
  },
  {
   "cell_type": "code",
   "execution_count": null,
   "id": "c893be8a",
   "metadata": {},
   "outputs": [],
   "source": [
    "# Plot the loss\n",
    "ax = best_trial[1].cummin().plot(figsize=(10, 7), marker='*')\n",
    "ax.grid()"
   ]
  },
  {
   "cell_type": "code",
   "execution_count": null,
   "id": "7d9724d8",
   "metadata": {},
   "outputs": [],
   "source": [
    "from scipy.ndimage import gaussian_filter\n",
    "from mpl_toolkits.axes_grid1 import make_axes_locatable\n",
    "\n",
    "pygranso_structure = best_trial[2][-1]\n",
    "\n",
    "# Plot the two structures together\n",
    "fig, ax1 = plt.subplots(1, 1, figsize=(10, 5))\n",
    "\n",
    "# pygranso\n",
    "output = ax1.imshow(pygranso_structure, cmap='Greys')\n",
    "ax1.set_xticks(np.arange(60))\n",
    "ax1.set_yticks(np.arange(20))\n",
    "\n",
    "ax1.grid(which='both')\n",
    "\n",
    "ax1.set_xlim(left=0, right=59)\n",
    "ax1.set_ylim(top=0)\n",
    "\n",
    "ax1.set_title('MBB Beam 60x20 - Neural Structural Optimization')\n",
    "\n",
    "divider = make_axes_locatable(ax)\n",
    "plt.xticks(color='w')\n",
    "plt.yticks(color='w')\n",
    "\n",
    "cax = divider.append_axes(\"bottom\", size=\"10%\", pad=0.05)\n",
    "plt.colorbar(output, orientation='horizontal', cax=cax)\n",
    "\n",
    "fig.tight_layout()\n",
    "fig.savefig('/Users/ryandevera/Desktop/design_grid_gray.png', bbox_inches='tight', pad_inches=0.01)"
   ]
  },
  {
   "cell_type": "code",
   "execution_count": null,
   "id": "3a164b47-3ec9-4764-952b-7bb88614c7c1",
   "metadata": {},
   "outputs": [],
   "source": [
    "compliance_scores = []\n",
    "for trial in trials:\n",
    "    final_compliance = np.round(trial[0], 2)\n",
    "    pygranso_structure = trial[2][-1]\n",
    "    \n",
    "    # Plot the two structures together\n",
    "    fig, ax1 = plt.subplots(1, 1, figsize=(10, 5))\n",
    "\n",
    "    # pygranso\n",
    "    output = ax1.imshow(pygranso_structure, cmap='Greys')\n",
    "    ax1.set_xticks(np.arange(60))\n",
    "    ax1.set_yticks(np.arange(20))\n",
    "\n",
    "    ax1.grid(which='both')\n",
    "\n",
    "    ax1.set_xlim(left=0, right=59)\n",
    "    ax1.set_ylim(top=0)\n",
    "\n",
    "    ax1.set_title(f'MBB Beam 60x20 - Compliance = {final_compliance}')\n",
    "\n",
    "    divider = make_axes_locatable(ax)\n",
    "    plt.xticks(color='w')\n",
    "    plt.yticks(color='w')\n",
    "\n",
    "    cax = divider.append_axes(\"bottom\", size=\"10%\", pad=0.05)\n",
    "    plt.colorbar(output, orientation='horizontal', cax=cax)"
   ]
  },
  {
   "cell_type": "code",
   "execution_count": null,
   "id": "5f7fcb1c-794c-4cb6-8fc5-e80d84c2bbdc",
   "metadata": {},
   "outputs": [],
   "source": []
  }
 ],
 "metadata": {
  "kernelspec": {
   "display_name": "ncvx-structural-optimization",
   "language": "python",
   "name": "ncvx-structural-optimization"
  },
  "language_info": {
   "codemirror_mode": {
    "name": "ipython",
    "version": 3
   },
   "file_extension": ".py",
   "mimetype": "text/x-python",
   "name": "python",
   "nbconvert_exporter": "python",
   "pygments_lexer": "ipython3",
   "version": "3.7.5"
  }
 },
 "nbformat": 4,
 "nbformat_minor": 5
}
