{
 "cells": [
  {
   "cell_type": "code",
   "execution_count": 1,
   "metadata": {},
   "outputs": [
    {
     "data": {
      "text/plain": [
       "'/home/rydevera3/data-science/umn_research/NCVX-Neural-Structural-Optimization/notebooks'"
      ]
     },
     "execution_count": 1,
     "metadata": {},
     "output_type": "execute_result"
    }
   ],
   "source": [
    "%pwd"
   ]
  },
  {
   "cell_type": "code",
   "execution_count": 2,
   "metadata": {},
   "outputs": [
    {
     "name": "stdout",
     "output_type": "stream",
     "text": [
      "/home/rydevera3/data-science/umn_research/NCVX-Neural-Structural-Optimization\n"
     ]
    }
   ],
   "source": [
    "%cd .."
   ]
  },
  {
   "cell_type": "code",
   "execution_count": 3,
   "metadata": {},
   "outputs": [
    {
     "name": "stdout",
     "output_type": "stream",
     "text": [
      "3.9.15\n"
     ]
    }
   ],
   "source": [
    "from platform import python_version\n",
    "\n",
    "print(python_version())"
   ]
  },
  {
   "cell_type": "code",
   "execution_count": 4,
   "metadata": {},
   "outputs": [
    {
     "name": "stderr",
     "output_type": "stream",
     "text": [
      "/home/rydevera3/data-science/umn_research/NCVX-Neural-Structural-Optimization/utils.py:20: UserWarning: sksparse.cholmod not installed. Falling back to SciPy/SuperLU, but simulations will be about twice as slow.\n",
      "  warnings.warn(\n"
     ]
    }
   ],
   "source": [
    "import numpy as np\n",
    "import matplotlib.pyplot as plt\n",
    "import time\n",
    "import torch\n",
    "import os\n",
    "import pandas as pd\n",
    "\n",
    "# import problems to solve\n",
    "import problems\n",
    "import experiments\n",
    "import train\n",
    "import topo_api\n",
    "import topo_physics\n",
    "import models\n",
    "import utils\n",
    "\n",
    "from pygranso.private.getNvar import getNvarTorch\n",
    "from pygranso.pygranso import pygranso\n",
    "from pygranso.pygransoStruct import pygransoStruct\n",
    "\n",
    "from scipy.ndimage import gaussian_filter"
   ]
  },
  {
   "cell_type": "markdown",
   "metadata": {},
   "source": [
    "# Running neural structural optimization with PyGranso 🧨\n",
    "\n",
    "To check the validity of our new `torch` based code we will test the structural optimization with `torch.optim` optimizers.\n",
    "\n",
    "### MBB Beam\n",
    "\n",
    "The first problem that we will run is with the **MBB BEAM**."
   ]
  },
  {
   "cell_type": "code",
   "execution_count": 5,
   "metadata": {},
   "outputs": [],
   "source": [
    "def constrained_structural_optimization_function(model, ke, args, designs, losses, device, dtype):\n",
    "    \"\"\"\n",
    "    Combined function for PyGranso for the structural optimization\n",
    "    problem. The inputs will be the model that reparameterizes x as a function\n",
    "    of a neural network. V0 is the initial volume, K is the global stiffness\n",
    "    matrix and F is the forces that are applied in the problem.\n",
    "    \"\"\"\n",
    "    # Initialize the model\n",
    "    # In my version of the model it follows the similar behavior of the\n",
    "    # tensorflow repository and only needs None to initialize and output\n",
    "    # a first value of x\n",
    "    logits = model(None)\n",
    "\n",
    "    # kwargs for displacement\n",
    "    kwargs = dict(\n",
    "        penal=args[\"penal\"],\n",
    "        e_min=args[\"young_min\"],\n",
    "        e_0=args[\"young\"],\n",
    "        base='MATLAB',\n",
    "        device=device,\n",
    "        dtype=dtype\n",
    "    )\n",
    "    x_phys = torch.sigmoid(logits)\n",
    "\n",
    "    # Calculate the forces\n",
    "    forces = topo_physics.calculate_forces(x_phys, args)\n",
    "\n",
    "    # Calculate the u_matrix\n",
    "    u_matrix = topo_physics.sparse_displace(\n",
    "        x_phys, ke, args, forces, args[\"freedofs\"], args[\"fixdofs\"], **kwargs\n",
    "    )\n",
    "\n",
    "    # Calculate the compliance output\n",
    "    compliance_output, _, _ = topo_physics.compliance(x_phys, u_matrix, ke, args, **kwargs)\n",
    "\n",
    "    # The loss is the sum of the compliance\n",
    "    f = torch.abs(torch.sum(compliance_output))\n",
    "\n",
    "    # Run this problem with no inequality constraints\n",
    "    ci = None\n",
    "\n",
    "    # Run this problem with no equality constraints\n",
    "    ce = pygransoStruct()\n",
    "    ce.c1 = 5e3 * (torch.mean(x_phys) - args['volfrac'])\n",
    "\n",
    "    # Append updated physical density designs\n",
    "    designs.append(\n",
    "        x_phys.detach().cpu().numpy().astype(np.float16)\n",
    "    )  # noqa\n",
    "\n",
    "    return f, ci, ce"
   ]
  },
  {
   "cell_type": "code",
   "execution_count": 6,
   "metadata": {},
   "outputs": [
    {
     "data": {
      "text/plain": [
       "device(type='cuda', index=0)"
      ]
     },
     "execution_count": 6,
     "metadata": {},
     "output_type": "execute_result"
    }
   ],
   "source": [
    "# Get the device to use\n",
    "device = utils.get_devices()\n",
    "device"
   ]
  },
  {
   "cell_type": "code",
   "execution_count": 7,
   "metadata": {
    "scrolled": false
   },
   "outputs": [
    {
     "name": "stderr",
     "output_type": "stream",
     "text": [
      "/home/rydevera3/data-science/umn_research/NCVX-Neural-Structural-Optimization/topo_api.py:41: UserWarning: To copy construct from a tensor, it is recommended to use sourceTensor.clone().detach() or sourceTensor.clone().detach().requires_grad_(True), rather than torch.tensor(sourceTensor).\n",
      "  \"forces\": torch.tensor(problem.forces.ravel()),\n",
      "/home/rydevera3/.pyenv/versions/3.9.15/lib/python3.9/site-packages/torch/_tensor.py:575: UserWarning: floor_divide is deprecated, and will be removed in a future version of pytorch. It currently rounds toward 0 (like the 'trunc' function NOT 'floor'). This results in incorrect rounding for negative values.\n",
      "To keep the current behavior, use torch.div(a, b, rounding_mode='trunc'), or for actual floor division, use torch.div(a, b, rounding_mode='floor'). (Triggered internally at  /pytorch/aten/src/ATen/native/BinaryOps.cpp:467.)\n",
      "  return torch.floor_divide(self, other)\n",
      "/home/rydevera3/.pyenv/versions/3.9.15/lib/python3.9/site-packages/torch/nn/functional.py:3609: UserWarning: Default upsampling behavior when mode=bilinear is changed to align_corners=False since 0.4.0. Please specify align_corners=True if the old behavior is desired. See the documentation of nn.Upsample for details.\n",
      "  warnings.warn(\n"
     ]
    },
    {
     "name": "stdout",
     "output_type": "stream",
     "text": [
      "\n",
      "\n",
      "\u001b[33m╔═════ QP SOLVER NOTICE ════════════════════════════════════════════════════════════════════════╗\n",
      "\u001b[0m\u001b[33m║  PyGRANSO requires a quadratic program (QP) solver that has a quadprog-compatible interface,  ║\n",
      "\u001b[0m\u001b[33m║  the default is osqp. Users may provide their own wrapper for the QP solver.                  ║\n",
      "\u001b[0m\u001b[33m║  To disable this notice, set opts.quadprog_info_msg = False                                   ║\n",
      "\u001b[0m\u001b[33m╚═══════════════════════════════════════════════════════════════════════════════════════════════╝\n",
      "\u001b[0m═════════════════════════════════════════════════════════════════════════════════════════════════════════════════╗\n",
      "PyGRANSO: A PyTorch-enabled port of GRANSO with auto-differentiation                                             ║ \n",
      "Version 1.2.0                                                                                                    ║ \n",
      "Licensed under the AGPLv3, Copyright (C) 2021-2022 Tim Mitchell and Buyun Liang                                  ║ \n",
      "═════════════════════════════════════════════════════════════════════════════════════════════════════════════════╣\n",
      "Problem specifications:                                                                                          ║ \n",
      " # of variables                     :   681569                                                                   ║ \n",
      " # of inequality constraints        :        0                                                                   ║ \n",
      " # of equality constraints          :        1                                                                   ║ \n",
      "═════════════════════════════════════════════════════════════════════════════════════════════════════════════════╣\n",
      "\u001b[33mLimited-memory mode enabled with size = 10.                                                                     \u001b[0m ║ \n",
      "\u001b[33mNOTE: limited-memory mode is generally NOT                                                                      \u001b[0m ║ \n",
      "\u001b[33mrecommended for nonsmooth problems.                                                                             \u001b[0m ║ \n",
      "═════╦═══════════════════════════╦════════════════╦═════════════════╦═══════════════════════╦════════════════════╣\n",
      "     ║ <--- Penalty Function --> ║                ║ Total Violation ║ <--- Line Search ---> ║ <- Stationarity -> ║ \n",
      "Iter ║    Mu    │      Value     ║    Objective   ║ Ineq │    Eq    ║ SD │ Evals │     t    ║ Grads │    Value   ║ \n",
      "═════╬═══════════════════════════╬════════════════╬═════════════════╬═══════════════════════╬════════════════════╣\n",
      "   0 ║ 1.000000 │  2502.39255503 ║  2419.20496623 ║   -  │ 83.18759 ║ -  │     1 │ 0.000000 ║     1 │ 109578.3   ║ \n",
      "  10 ║ 0.348678 │  100.774608352 ║  273.612035508 ║   -  │ 5.371991 ║ S  │     3 │ 0.250000 ║     1 │ 0.354956   ║ \n",
      "  20 ║ 0.254187 │  58.3468854739 ║  226.939791199 ║   -  │ 0.661835 ║ S  │     8 │ 0.007812 ║     1 │ 0.696194   ║ \n",
      "  30 ║ 0.254187 │  56.0889547212 ║  217.544508883 ║   -  │ 0.792059 ║ S  │     4 │ 0.125000 ║     1 │ 0.569579   ║ \n",
      "  40 ║ 0.205891 │  44.0491120386 ║  213.048414815 ║   -  │ 0.184333 ║ S  │     2 │ 0.500000 ║     1 │ 0.081011   ║ \n",
      "  50 ║ 0.205891 │  42.5498134888 ║  205.896201550 ║   -  │ 0.157611 ║ S  │     1 │ 1.000000 ║     1 │ 1.260533   ║ \n",
      "  60 ║ 0.205891 │  41.8931788382 ║  201.687234453 ║   -  │ 0.367566 ║ S  │     4 │ 0.125000 ║     1 │ 0.386028   ║ \n",
      "  70 ║ 0.205891 │  40.9560477102 ║  198.633327472 ║   -  │ 0.059207 ║ S  │     2 │ 2.000000 ║     1 │ 0.577758   ║ \n",
      "  80 ║ 0.166772 │  32.9932733799 ║  197.686388422 ║   -  │ 0.024755 ║ S  │     7 │ 0.078125 ║     1 │ 0.084468   ║ \n",
      "  90 ║ 0.109419 │  21.6395289469 ║  197.513959449 ║   -  │ 0.027751 ║ S  │     6 │ 0.093750 ║     1 │ 0.160677   ║ \n",
      "═════╩═══════════════════════════╩════════════════╩═════════════════╩═══════════════════════╩════════════════════╣\n",
      "F = final iterate, B = Best (to tolerance), MF = Most Feasible                                                   ║ \n",
      "Optimization results:                                                                                            ║ \n",
      "═════╦═══════════════════════════╦════════════════╦═════════════════╦═══════════════════════╦════════════════════╣\n",
      "   F ║          │                ║  197.356249054 ║   -  │ 0.029765 ║    │       │          ║       │            ║ \n",
      "  MF ║          │                ║  198.570311426 ║   -  │ 0.001805 ║    │       │          ║       │            ║ \n",
      "═════╩═══════════════════════════╩════════════════╩═════════════════╩═══════════════════════╩════════════════════╣\n",
      "Iterations:              95                                                                                      ║ \n",
      "Function evaluations:    457                                                                                     ║ \n",
      "PyGRANSO termination code: 4 --- max iterations reached.                                                         ║ \n",
      "═════════════════════════════════════════════════════════════════════════════════════════════════════════════════╝\n",
      "CPU times: user 2min 24s, sys: 1.81 s, total: 2min 25s\n",
      "Wall time: 26.8 s\n"
     ]
    }
   ],
   "source": [
    "%%time\n",
    "\n",
    "# Identify the problem\n",
    "problem = problems.mbb_beam(height=20, width=60, device=device)\n",
    "problem.name = 'mbb_beam'\n",
    "\n",
    "# cnn_kwargs\n",
    "cnn_kwargs = dict(resizes=(1, 1, 2, 2, 1))\n",
    "\n",
    "# Get the problem args\n",
    "args = topo_api.specified_task(problem, device=device)\n",
    "\n",
    "# Trials\n",
    "trials = []\n",
    "\n",
    "for seed in range(40, 41):\n",
    "    torch.random.manual_seed(seed)\n",
    "    torch.cuda.manual_seed(seed)\n",
    "    torch.backends.cudnn.deterministic = True\n",
    "    torch.backends.cudnn.benchmark = False\n",
    "\n",
    "    # Initialize the CNN Model\n",
    "    if cnn_kwargs is not None:\n",
    "        cnn_model = (\n",
    "            models\n",
    "            .CNNModel(args, **cnn_kwargs)\n",
    "            .to(device=device, dtype=utils.DEFAULT_DTYPE)\n",
    "        )\n",
    "    else:\n",
    "        cnn_model = (\n",
    "            models\n",
    "            .CNNModel(args)\n",
    "            .to(device=device, dtype=utils.DEFAULT_DTYPE)\n",
    "        )\n",
    "\n",
    "    # Put the cnn model in training mode\n",
    "    cnn_model.train()\n",
    "\n",
    "    # Create the stiffness matrix\n",
    "    ke = topo_physics.get_stiffness_matrix(\n",
    "        young=args[\"young\"],\n",
    "        poisson=args[\"poisson\"],\n",
    "        device=device\n",
    "    )\n",
    "\n",
    "    # Create the combined function and structural optimization\n",
    "    # setup\n",
    "    # Save the physical density designs & the losses\n",
    "    designs = []\n",
    "    losses = []\n",
    "    # Combined function\n",
    "    comb_fn = lambda model: constrained_structural_optimization_function(  # noqa\n",
    "        model, ke, args, designs, losses, device=device, dtype=utils.DEFAULT_DTYPE\n",
    "    )\n",
    "\n",
    "    # Initalize the pygranso options\n",
    "    opts = pygransoStruct()\n",
    "\n",
    "    # Set the device\n",
    "    opts.torch_device = device\n",
    "\n",
    "    # Setup the intitial inputs for the solver\n",
    "    nvar = getNvarTorch(cnn_model.parameters())\n",
    "    opts.x0 = (\n",
    "        torch.nn.utils.parameters_to_vector(cnn_model.parameters())\n",
    "        .detach()\n",
    "        .reshape(nvar, 1)\n",
    "    ).to(device=device, dtype=utils.DEFAULT_DTYPE)\n",
    "\n",
    "    # Additional pygranso options\n",
    "    opts.limited_mem_size = 10\n",
    "    opts.double_precision = True\n",
    "    opts.mu0 = 1.0\n",
    "    opts.maxit = 95\n",
    "    opts.print_frequency = 10\n",
    "    opts.stat_l2_model = False\n",
    "    opts.viol_eq_tol = 1e-6\n",
    "    opts.opt_tol = 1e-6\n",
    "    \n",
    "    mHLF_obj = utils.HaltLog()\n",
    "    halt_log_fn, get_log_fn = mHLF_obj.makeHaltLogFunctions(opts.maxit)\n",
    "\n",
    "    #  Set PyGRANSO's logging function in opts\n",
    "    opts.halt_log_fn = halt_log_fn\n",
    "\n",
    "    # Main algorithm with logging enabled.\n",
    "    soln = pygranso(var_spec=cnn_model, combined_fn=comb_fn, user_opts=opts)\n",
    "\n",
    "    # GET THE HISTORY OF ITERATES\n",
    "    # Even if an error is thrown, the log generated until the error can be\n",
    "    # obtained by calling get_log_fn()\n",
    "    log = get_log_fn()\n",
    "    \n",
    "    # Final structure\n",
    "    designs_indexes = (pd.Series(log.fn_evals).cumsum() - 1).values.tolist()\n",
    "    final_designs = [designs[i] for i in designs_indexes]\n",
    "    \n",
    "    trials.append((soln.final.f, pd.Series(log.f), final_designs))"
   ]
  },
  {
   "cell_type": "code",
   "execution_count": 8,
   "metadata": {},
   "outputs": [],
   "source": [
    "best_trial = sorted(trials)[0]"
   ]
  },
  {
   "cell_type": "code",
   "execution_count": 11,
   "metadata": {},
   "outputs": [
    {
     "data": {
      "image/png": "[encoded data removed]",
      "text/plain": [
       "<Figure size 1000x700 with 1 Axes>"
      ]
     },
     "metadata": {},
     "output_type": "display_data"
    }
   ],
   "source": [
    "# Plot the loss\n",
    "ax = best_trial[1].cummin().plot(figsize=(10, 7), marker='*')\n",
    "ax.grid()"
   ]
  },
  {
   "cell_type": "code",
   "execution_count": 10,
   "metadata": {},
   "outputs": [
    {
     "data": {
      "image/png": "[encoded data removed]",
      "text/plain": [
       "<Figure size 600x400 with 1 Axes>"
      ]
     },
     "metadata": {},
     "output_type": "display_data"
    }
   ],
   "source": [
    "from scipy.ndimage import gaussian_filter\n",
    "\n",
    "pygranso_structure = best_trial[2][-1]\n",
    "\n",
    "# Plot the two structures together\n",
    "fig, ax1 = plt.subplots(1, 1, figsize=(6, 4))\n",
    "\n",
    "# pygranso\n",
    "ax1.imshow(pygranso_structure, cmap='Greys')\n",
    "ax1.grid()\n",
    "ax1.set_xlabel('x')\n",
    "ax1.set_ylabel('y')\n",
    "ax1.set_title('MBB Beam 60x20 - Neural Structural Optimization')\n",
    "fig.tight_layout()"
   ]
  }
 ],
 "metadata": {
  "kernelspec": {
   "display_name": "3.9.15",
   "language": "python",
   "name": "pyenv_3.9.15"
  },
  "language_info": {
   "codemirror_mode": {
    "name": "ipython",
    "version": 3
   },
   "file_extension": ".py",
   "mimetype": "text/x-python",
   "name": "python",
   "nbconvert_exporter": "python",
   "pygments_lexer": "ipython3",
   "version": "3.9.15"
  }
 },
 "nbformat": 4,
 "nbformat_minor": 5
}
