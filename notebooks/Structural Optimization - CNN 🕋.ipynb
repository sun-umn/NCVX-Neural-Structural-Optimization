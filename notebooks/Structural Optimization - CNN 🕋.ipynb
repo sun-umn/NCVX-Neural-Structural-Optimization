{
 "cells": [
  {
   "cell_type": "code",
   "execution_count": 1,
   "id": "04cec841",
   "metadata": {},
   "outputs": [
    {
     "data": {
      "text/plain": [
       "'/Users/ryandevera/data-science/tesorio/NCVX-Neural-Structural-Optimization/notebooks'"
      ]
     },
     "execution_count": 1,
     "metadata": {},
     "output_type": "execute_result"
    }
   ],
   "source": [
    "%pwd"
   ]
  },
  {
   "cell_type": "code",
   "execution_count": 2,
   "id": "2938d53c",
   "metadata": {},
   "outputs": [
    {
     "name": "stdout",
     "output_type": "stream",
     "text": [
      "/Users/ryandevera/data-science/tesorio/NCVX-Neural-Structural-Optimization\n"
     ]
    }
   ],
   "source": [
    "%cd .."
   ]
  },
  {
   "cell_type": "code",
   "execution_count": 3,
   "id": "ded5cf26",
   "metadata": {},
   "outputs": [],
   "source": [
    "# Import the models so we can follow the training code\n",
    "import matplotlib.pyplot as plt\n",
    "import numpy as np\n",
    "import pandas as pd\n",
    "import torch\n",
    "import torch.optim as optim\n",
    "\n",
    "# Topology Library\n",
    "import models\n",
    "import problems\n",
    "import topo_api\n",
    "import topo_physics\n",
    "import utils\n",
    "\n",
    "%matplotlib inline"
   ]
  },
  {
   "cell_type": "markdown",
   "id": "08ac02d9",
   "metadata": {},
   "source": [
    "# Running neural structural optimization with torch 🔥 optimizers\n",
    "\n",
    "To check the validity of our new `torch` based code we will test the structural optimization with `torch.optim` optimizers.\n",
    "\n",
    "### MBB Beam\n",
    "\n",
    "The first problem that we will run is with the **MBB BEAM**."
   ]
  },
  {
   "cell_type": "code",
   "execution_count": 4,
   "id": "e97ac48a",
   "metadata": {},
   "outputs": [
    {
     "name": "stderr",
     "output_type": "stream",
     "text": [
      "/Users/ryandevera/data-science/tesorio/NCVX-Neural-Structural-Optimization/topo_api.py:34: UserWarning: To copy construct from a tensor, it is recommended to use sourceTensor.clone().detach() or sourceTensor.clone().detach().requires_grad_(True), rather than torch.tensor(sourceTensor).\n",
      "  \"forces\": torch.tensor(problem.forces.ravel()),\n"
     ]
    }
   ],
   "source": [
    "# Identify the problem\n",
    "problem = problems.mbb_beam(height=20, width=60)\n",
    "\n",
    "# Get the arguments for the problem\n",
    "args = topo_api.specified_task(problem)\n",
    "\n",
    "# Set up the cnn args for this problem\n",
    "cnn_kwargs = dict(resizes=(1, 1, 2, 2, 1))"
   ]
  },
  {
   "cell_type": "code",
   "execution_count": 5,
   "id": "69b6a5fb",
   "metadata": {},
   "outputs": [
    {
     "name": "stderr",
     "output_type": "stream",
     "text": [
      "/Users/ryandevera/data-science/tesorio/NCVX-Neural-Structural-Optimization/models.py:67: UserWarning: __floordiv__ is deprecated, and its behavior will change in a future version of pytorch. It currently rounds toward 0 (like the 'trunc' function NOT 'floor'). This results in incorrect rounding for negative values. To keep the current behavior, use torch.div(a, b, rounding_mode='trunc'), or for actual floor division, use torch.div(a, b, rounding_mode='floor').\n",
      "  self.h = args[\"nely\"] // total_resize\n",
      "/Users/ryandevera/data-science/tesorio/NCVX-Neural-Structural-Optimization/models.py:68: UserWarning: __floordiv__ is deprecated, and its behavior will change in a future version of pytorch. It currently rounds toward 0 (like the 'trunc' function NOT 'floor'). This results in incorrect rounding for negative values. To keep the current behavior, use torch.div(a, b, rounding_mode='trunc'), or for actual floor division, use torch.div(a, b, rounding_mode='floor').\n",
      "  self.w = args[\"nelx\"] // total_resize\n",
      "/var/folders/6c/8rvpvzfs0vxbbx2jh4rbfb100000gn/T/ipykernel_23165/3153301266.py:23: UserWarning: To copy construct from a tensor, it is recommended to use sourceTensor.clone().detach() or sourceTensor.clone().detach().requires_grad_(True), rather than torch.tensor(sourceTensor).\n",
      "  e_min=torch.tensor(args[\"young_min\"]),\n",
      "/var/folders/6c/8rvpvzfs0vxbbx2jh4rbfb100000gn/T/ipykernel_23165/3153301266.py:24: UserWarning: To copy construct from a tensor, it is recommended to use sourceTensor.clone().detach() or sourceTensor.clone().detach().requires_grad_(True), rather than torch.tensor(sourceTensor).\n",
      "  e_0=torch.tensor(args[\"young\"]),\n",
      "/Users/ryandevera/data-science/tesorio/NCVX-Neural-Structural-Optimization/topo_physics.py:11: UserWarning: To copy construct from a tensor, it is recommended to use sourceTensor.clone().detach() or sourceTensor.clone().detach().requires_grad_(True), rather than torch.tensor(sourceTensor).\n",
      "  e_0 = torch.tensor(e_0)\n",
      "/Users/ryandevera/data-science/tesorio/NCVX-Neural-Structural-Optimization/topo_physics.py:12: UserWarning: To copy construct from a tensor, it is recommended to use sourceTensor.clone().detach() or sourceTensor.clone().detach().requires_grad_(True), rather than torch.tensor(sourceTensor).\n",
      "  e_min = torch.tensor(e_min)\n",
      "/Users/ryandevera/data-science/tesorio/NCVX-Neural-Structural-Optimization/topo_physics.py:13: UserWarning: To copy construct from a tensor, it is recommended to use sourceTensor.clone().detach() or sourceTensor.clone().detach().requires_grad_(True), rather than torch.tensor(sourceTensor).\n",
      "  p = torch.tensor(p)\n"
     ]
    },
    {
     "name": "stdout",
     "output_type": "stream",
     "text": [
      "Compliance loss = 3055.8673053462635\n",
      "Compliance loss = 427.30714329491303\n",
      "Compliance loss = 392.24232682229933\n",
      "Compliance loss = 374.1801106496539\n",
      "Compliance loss = 355.6775017181385\n",
      "Compliance loss = 333.3613034738451\n",
      "Compliance loss = 311.3984182278274\n",
      "Compliance loss = 283.6169227212897\n",
      "Compliance loss = 256.2086572632378\n",
      "Compliance loss = 237.59501168578885\n",
      "Compliance loss = 226.82129658309708\n",
      "Compliance loss = 219.30360967068776\n",
      "Compliance loss = 213.97378553371493\n",
      "Compliance loss = 210.57368868373402\n",
      "Compliance loss = 207.9480605719118\n",
      "Compliance loss = 205.57552494670097\n",
      "Compliance loss = 203.68804105624227\n",
      "Compliance loss = 202.20389629387049\n",
      "Compliance loss = 201.176442495373\n",
      "Compliance loss = 200.22343710452944\n",
      "Compliance loss = 199.55626772183535\n",
      "Compliance loss = 198.7546764007572\n",
      "Compliance loss = 198.06324521816185\n",
      "Compliance loss = 197.53111974205495\n",
      "Compliance loss = 197.13337679423557\n",
      "Compliance loss = 196.72099450687114\n",
      "Compliance loss = 196.17285827301043\n",
      "Compliance loss = 195.77472504737307\n",
      "Compliance loss = 195.69310986844675\n",
      "Compliance loss = 195.4906834717391\n",
      "Compliance loss = 195.15384975744126\n",
      "Compliance loss = 194.75850044255375\n",
      "Compliance loss = 194.65853670581333\n",
      "Compliance loss = 194.32351104654066\n",
      "Compliance loss = 194.08211569732066\n",
      "Compliance loss = 194.01960656175748\n",
      "Compliance loss = 193.8482939796314\n",
      "Compliance loss = 193.61976293209224\n",
      "Compliance loss = 193.3951199228522\n",
      "Compliance loss = 193.1695351775707\n",
      "Compliance loss = 192.9982854984814\n",
      "Compliance loss = 192.94486159529424\n",
      "Compliance loss = 192.83497574885567\n",
      "Compliance loss = 192.8244440715742\n",
      "Compliance loss = 192.4790337902083\n",
      "Compliance loss = 192.46060936218947\n",
      "Compliance loss = 192.3406315544609\n",
      "Compliance loss = 192.20412669549947\n",
      "Compliance loss = 192.19483864502334\n",
      "Compliance loss = 191.93173231802066\n"
     ]
    }
   ],
   "source": [
    "# Initialize the model\n",
    "model = models.CNNModel(\n",
    "    args=args,\n",
    "    **cnn_kwargs\n",
    ")\n",
    "\n",
    "# Get the stiffness matrix\n",
    "ke = topo_physics.get_stiffness_matrix(\n",
    "    young=args['young'], poisson=args['poisson'],\n",
    ")\n",
    "\n",
    "# Set up the Adam optimizer - learning rate has already been adjusted\n",
    "optimizer = optim.Adam(model.parameters(), lr=4e-3)\n",
    "\n",
    "# In order to plot the frames and the losses we set up a list\n",
    "# to append the results\n",
    "frames = []\n",
    "losses = []\n",
    "\n",
    "# These keyword arguments were identified in the original code\n",
    "kwargs = dict(\n",
    "    penal=torch.tensor(args[\"penal\"]),\n",
    "    e_min=torch.tensor(args[\"young_min\"]),\n",
    "    e_0=torch.tensor(args[\"young\"]),\n",
    ")\n",
    "\n",
    "# Put model in training mode\n",
    "model.train()\n",
    "\n",
    "for iteration, i in enumerate(range(500)):\n",
    "    \n",
    "    # Zero out the gradients\n",
    "    optimizer.zero_grad()\n",
    "    \n",
    "    # Model\n",
    "    logits = model(None)\n",
    "    \n",
    "    # Calculate the physical density\n",
    "    x_phys = topo_physics.physical_density(logits, args, volume_constraint=True)\n",
    "    \n",
    "    # Calculate the forces\n",
    "    forces = topo_physics.calculate_forces(x_phys, args)\n",
    "    \n",
    "    # Calculate the u_matrix\n",
    "    u_matrix = topo_physics.displace(\n",
    "        x_phys, ke, forces, args['freedofs'], args['fixdofs'], **kwargs\n",
    "    )\n",
    "    \n",
    "    # Calculate the compliance output\n",
    "    compliance_output = topo_physics.compliance(x_phys, u_matrix, ke, **kwargs)\n",
    "    \n",
    "    # The loss is the sum of the compliance\n",
    "    loss = torch.sum(compliance_output)\n",
    "    \n",
    "    # Append the frames\n",
    "    frames.append(logits)\n",
    "    \n",
    "    if (iteration % 10) == 0:\n",
    "        print(f'Compliance loss = {loss.item()}')\n",
    "        losses.append(loss.item())\n",
    "    \n",
    "    # Go through the backward pass and create the gradients\n",
    "    loss.backward()\n",
    "\n",
    "    # Step through the optimzer to update the data with the gradients\n",
    "    optimizer.step()\n",
    "    \n",
    "# Render was also used in the original code to create images of the structures\n",
    "render = [\n",
    "    topo_physics.physical_density(x, args, volume_constraint=True)\n",
    "    for x in frames\n",
    "] "
   ]
  },
  {
   "cell_type": "markdown",
   "id": "d60fd5a4",
   "metadata": {},
   "source": [
    "## Plot the structure 🌉\n",
    "\n",
    "After our model is done training we can plot the final structure."
   ]
  },
  {
   "cell_type": "code",
   "execution_count": 6,
   "id": "ef0c0169",
   "metadata": {},
   "outputs": [
    {
     "data": {
      "text/plain": [
       "<matplotlib.colorbar.Colorbar at 0x145a9ab20>"
      ]
     },
     "execution_count": 6,
     "metadata": {},
     "output_type": "execute_result"
    },
    {
     "data": {
      "image/png": "[encoded data removed]",
      "text/plain": [
       "<Figure size 640x480 with 2 Axes>"
      ]
     },
     "metadata": {},
     "output_type": "display_data"
    }
   ],
   "source": [
    "# Get the final frame\n",
    "final_frame = render[-1].detach().numpy()\n",
    "\n",
    "# Create a figure and axis\n",
    "fig, ax = plt.subplots(1, 1)\n",
    "\n",
    "# Show the structure in grayscale\n",
    "im = ax.imshow(final_frame, cmap='Greys')\n",
    "ax.set_title('MBB Beam - Neural Structural Optimization - Adam')\n",
    "ax.set_ylabel('MBB Beam - Height')\n",
    "ax.set_xlabel('MBB Beam - Width')\n",
    "fig.colorbar(im, orientation=\"horizontal\", pad=0.2)"
   ]
  },
  {
   "cell_type": "markdown",
   "id": "7c78219c",
   "metadata": {},
   "source": [
    "# Plot the loss trajectory ☄️\n",
    "\n",
    "Finally, we will plot the loss directory for **compliance**"
   ]
  },
  {
   "cell_type": "code",
   "execution_count": 7,
   "id": "e57ca433",
   "metadata": {},
   "outputs": [
    {
     "data": {
      "image/png": "[encoded data removed]",
      "text/plain": [
       "<Figure size 700x200 with 1 Axes>"
      ]
     },
     "metadata": {},
     "output_type": "display_data"
    }
   ],
   "source": [
    "losses = pd.Series(losses)\n",
    "ax = losses.plot(figsize=(7, 2), marker='*')\n",
    "ax.set_title('CNN - Adam - MBB Beam')\n",
    "ax.set_xlabel('Number of Iterations')\n",
    "ax.set_ylabel('Compliance')\n",
    "ax.grid()"
   ]
  },
  {
   "cell_type": "code",
   "execution_count": null,
   "id": "25c76e1b",
   "metadata": {},
   "outputs": [],
   "source": []
  }
 ],
 "metadata": {
  "kernelspec": {
   "display_name": "Python 3 (ipykernel)",
   "language": "python",
   "name": "python3"
  },
  "language_info": {
   "codemirror_mode": {
    "name": "ipython",
    "version": 3
   },
   "file_extension": ".py",
   "mimetype": "text/x-python",
   "name": "python",
   "nbconvert_exporter": "python",
   "pygments_lexer": "ipython3",
   "version": "3.9.11"
  }
 },
 "nbformat": 4,
 "nbformat_minor": 5
}
