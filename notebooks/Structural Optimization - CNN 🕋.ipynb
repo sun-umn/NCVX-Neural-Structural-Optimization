{
 "cells": [
  {
   "cell_type": "code",
   "execution_count": 1,
   "id": "a5cab497",
   "metadata": {},
   "outputs": [
    {
     "data": {
      "text/plain": [
       "'/Users/ryandevera/data-science/tesorio/NCVX-Neural-Structural-Optimization/notebooks'"
      ]
     },
     "execution_count": 1,
     "metadata": {},
     "output_type": "execute_result"
    }
   ],
   "source": [
    "%pwd"
   ]
  },
  {
   "cell_type": "code",
   "execution_count": 2,
   "id": "9c1a4a9c",
   "metadata": {},
   "outputs": [
    {
     "name": "stdout",
     "output_type": "stream",
     "text": [
      "/Users/ryandevera/data-science/tesorio/NCVX-Neural-Structural-Optimization\n"
     ]
    }
   ],
   "source": [
    "%cd .."
   ]
  },
  {
   "cell_type": "code",
   "execution_count": 3,
   "id": "9319b99f",
   "metadata": {},
   "outputs": [],
   "source": [
    "# Import the models so we can follow the training code\n",
    "import matplotlib.pyplot as plt\n",
    "import numpy as np\n",
    "import pandas as pd\n",
    "import torch\n",
    "import torch.optim as optim\n",
    "\n",
    "# Topology Library\n",
    "import models\n",
    "import problems\n",
    "import topo_api\n",
    "import topo_physics\n",
    "import utils\n",
    "\n",
    "%matplotlib inline"
   ]
  },
  {
   "cell_type": "markdown",
   "id": "9f56b080",
   "metadata": {},
   "source": [
    "# Running neural structural optimization with torch 🔥 optimizers\n",
    "\n",
    "To check the validity of our new `torch` based code we will test the structural optimization with `torch.optim` optimizers.\n",
    "\n",
    "### MBB Beam\n",
    "\n",
    "The first problem that we will run is with the **MBB BEAM**."
   ]
  },
  {
   "cell_type": "code",
   "execution_count": 4,
   "id": "f311e658",
   "metadata": {},
   "outputs": [
    {
     "name": "stderr",
     "output_type": "stream",
     "text": [
      "/Users/ryandevera/data-science/tesorio/NCVX-Neural-Structural-Optimization/topo_api.py:34: UserWarning: To copy construct from a tensor, it is recommended to use sourceTensor.clone().detach() or sourceTensor.clone().detach().requires_grad_(True), rather than torch.tensor(sourceTensor).\n",
      "  \"forces\": torch.tensor(problem.forces.ravel()),\n"
     ]
    }
   ],
   "source": [
    "# Identify the problem\n",
    "problem = problems.mbb_beam(height=20, width=60)\n",
    "\n",
    "# Get the arguments for the problem\n",
    "args = topo_api.specified_task(problem)\n",
    "\n",
    "# Set up the cnn args for this problem\n",
    "cnn_kwargs = dict(resizes=(1, 1, 2, 2, 1))"
   ]
  },
  {
   "cell_type": "code",
   "execution_count": 5,
   "id": "9ffc77a0",
   "metadata": {},
   "outputs": [
    {
     "name": "stderr",
     "output_type": "stream",
     "text": [
      "/Users/ryandevera/data-science/tesorio/NCVX-Neural-Structural-Optimization/models.py:67: UserWarning: __floordiv__ is deprecated, and its behavior will change in a future version of pytorch. It currently rounds toward 0 (like the 'trunc' function NOT 'floor'). This results in incorrect rounding for negative values. To keep the current behavior, use torch.div(a, b, rounding_mode='trunc'), or for actual floor division, use torch.div(a, b, rounding_mode='floor').\n",
      "  self.h = args[\"nely\"] // total_resize\n",
      "/Users/ryandevera/data-science/tesorio/NCVX-Neural-Structural-Optimization/models.py:68: UserWarning: __floordiv__ is deprecated, and its behavior will change in a future version of pytorch. It currently rounds toward 0 (like the 'trunc' function NOT 'floor'). This results in incorrect rounding for negative values. To keep the current behavior, use torch.div(a, b, rounding_mode='trunc'), or for actual floor division, use torch.div(a, b, rounding_mode='floor').\n",
      "  self.w = args[\"nelx\"] // total_resize\n",
      "/var/folders/6c/8rvpvzfs0vxbbx2jh4rbfb100000gn/T/ipykernel_15543/3194860666.py:23: UserWarning: To copy construct from a tensor, it is recommended to use sourceTensor.clone().detach() or sourceTensor.clone().detach().requires_grad_(True), rather than torch.tensor(sourceTensor).\n",
      "  e_min=torch.tensor(args[\"young_min\"]),\n",
      "/var/folders/6c/8rvpvzfs0vxbbx2jh4rbfb100000gn/T/ipykernel_15543/3194860666.py:24: UserWarning: To copy construct from a tensor, it is recommended to use sourceTensor.clone().detach() or sourceTensor.clone().detach().requires_grad_(True), rather than torch.tensor(sourceTensor).\n",
      "  e_0=torch.tensor(args[\"young\"]),\n",
      "/Users/ryandevera/data-science/tesorio/NCVX-Neural-Structural-Optimization/topo_physics.py:11: UserWarning: To copy construct from a tensor, it is recommended to use sourceTensor.clone().detach() or sourceTensor.clone().detach().requires_grad_(True), rather than torch.tensor(sourceTensor).\n",
      "  e_0 = torch.tensor(e_0)\n",
      "/Users/ryandevera/data-science/tesorio/NCVX-Neural-Structural-Optimization/topo_physics.py:12: UserWarning: To copy construct from a tensor, it is recommended to use sourceTensor.clone().detach() or sourceTensor.clone().detach().requires_grad_(True), rather than torch.tensor(sourceTensor).\n",
      "  e_min = torch.tensor(e_min)\n",
      "/Users/ryandevera/data-science/tesorio/NCVX-Neural-Structural-Optimization/topo_physics.py:13: UserWarning: To copy construct from a tensor, it is recommended to use sourceTensor.clone().detach() or sourceTensor.clone().detach().requires_grad_(True), rather than torch.tensor(sourceTensor).\n",
      "  p = torch.tensor(p)\n"
     ]
    },
    {
     "name": "stdout",
     "output_type": "stream",
     "text": [
      "Compliance loss = 1879.9677504955116\n",
      "Compliance loss = 474.3291178028669\n",
      "Compliance loss = 414.2699679907126\n",
      "Compliance loss = 396.00603219558434\n",
      "Compliance loss = 386.30803643353704\n",
      "Compliance loss = 380.4629278236707\n",
      "Compliance loss = 376.6590180964672\n",
      "Compliance loss = 373.9890424195977\n",
      "Compliance loss = 371.2524627343275\n",
      "Compliance loss = 368.6207763243741\n",
      "Compliance loss = 365.6223318553681\n",
      "Compliance loss = 362.02104196573885\n",
      "Compliance loss = 358.4152735816081\n",
      "Compliance loss = 354.1004610885361\n",
      "Compliance loss = 349.21160990037384\n",
      "Compliance loss = 343.22530993841576\n",
      "Compliance loss = 334.7765772582567\n",
      "Compliance loss = 319.7464253712319\n",
      "Compliance loss = 294.62476824592704\n",
      "Compliance loss = 266.5791978395862\n"
     ]
    }
   ],
   "source": [
    "# Initialize the model\n",
    "model = models.CNNModel(\n",
    "    args=args,\n",
    "    **cnn_kwargs\n",
    ")\n",
    "\n",
    "# Get the stiffness matrix\n",
    "ke = topo_physics.get_stiffness_matrix(\n",
    "    young=args['young'], poisson=args['poisson'],\n",
    ")\n",
    "\n",
    "# Set up the Adam optimizer - learning rate has already been adjusted\n",
    "optimizer = optim.Adam(model.parameters(), lr=3e-3)\n",
    "\n",
    "# In order to plot the frames and the losses we set up a list\n",
    "# to append the results\n",
    "frames = []\n",
    "losses = []\n",
    "\n",
    "# These keyword arguments were identified in the original code\n",
    "kwargs = dict(\n",
    "    penal=torch.tensor(args[\"penal\"]),\n",
    "    e_min=torch.tensor(args[\"young_min\"]),\n",
    "    e_0=torch.tensor(args[\"young\"]),\n",
    ")\n",
    "\n",
    "# Put model in training mode\n",
    "model.train()\n",
    "\n",
    "for iteration, i in enumerate(range(200)):\n",
    "    \n",
    "    # Zero out the gradients\n",
    "    optimizer.zero_grad()\n",
    "    \n",
    "    # Model\n",
    "    logits = model(None)\n",
    "    \n",
    "    # Calculate the physical density\n",
    "    x_phys = topo_physics.physical_density(logits, args, volume_constraint=True)\n",
    "    \n",
    "    # Calculate the forces\n",
    "    forces = topo_physics.calculate_forces(x_phys, args)\n",
    "    \n",
    "    # Calculate the u_matrix\n",
    "    u_matrix = topo_physics.displace(\n",
    "        x_phys, ke, forces, args['freedofs'], args['fixdofs'], **kwargs\n",
    "    )\n",
    "    \n",
    "    # Calculate the compliance output\n",
    "    compliance_output = topo_physics.compliance(x_phys, u_matrix, ke, **kwargs)\n",
    "    \n",
    "    # The loss is the sum of the compliance\n",
    "    loss = torch.sum(compliance_output)\n",
    "    \n",
    "    # Append the frames\n",
    "    frames.append(logits)\n",
    "    \n",
    "    if (iteration % 10) == 0:\n",
    "        print(f'Compliance loss = {loss.item()}')\n",
    "        losses.append(loss.item())\n",
    "    \n",
    "    # Go through the backward pass and create the gradients\n",
    "    loss.backward()\n",
    "\n",
    "    # Step through the optimzer to update the data with the gradients\n",
    "    optimizer.step()\n",
    "    \n",
    "# Render was also used in the original code to create images of the structures\n",
    "render = [\n",
    "    topo_physics.physical_density(x, args, volume_constraint=True)\n",
    "    for x in frames\n",
    "] "
   ]
  },
  {
   "cell_type": "markdown",
   "id": "75b39482",
   "metadata": {},
   "source": [
    "## Plot the structure 🌉\n",
    "\n",
    "After our model is done training we can plot the final structure."
   ]
  },
  {
   "cell_type": "code",
   "execution_count": 6,
   "id": "69cb4105",
   "metadata": {},
   "outputs": [
    {
     "data": {
      "text/plain": [
       "<matplotlib.colorbar.Colorbar at 0x13ebc19a0>"
      ]
     },
     "execution_count": 6,
     "metadata": {},
     "output_type": "execute_result"
    },
    {
     "data": {
      "image/png": "[encoded data removed]",
      "text/plain": [
       "<Figure size 640x480 with 2 Axes>"
      ]
     },
     "metadata": {},
     "output_type": "display_data"
    }
   ],
   "source": [
    "# Get the final frame\n",
    "final_frame = render[-1].detach().numpy()\n",
    "\n",
    "# Create a figure and axis\n",
    "fig, ax = plt.subplots(1, 1)\n",
    "\n",
    "# Show the structure in grayscale\n",
    "im = ax.imshow(final_frame, cmap='Greys')\n",
    "ax.set_title('MBB Beam - Neural Structural Optimization - Adam')\n",
    "ax.set_ylabel('MBB Beam - Height')\n",
    "ax.set_xlabel('MBB Beam - Width')\n",
    "fig.colorbar(im, orientation=\"horizontal\", pad=0.2)"
   ]
  },
  {
   "cell_type": "markdown",
   "id": "667ddccc",
   "metadata": {},
   "source": [
    "# Plot the loss trajectory ☄️\n",
    "\n",
    "Finally, we will plot the loss directory for **compliance**"
   ]
  },
  {
   "cell_type": "code",
   "execution_count": 7,
   "id": "61976774",
   "metadata": {},
   "outputs": [
    {
     "data": {
      "image/png": "[encoded data removed]",
      "text/plain": [
       "<Figure size 700x200 with 1 Axes>"
      ]
     },
     "metadata": {},
     "output_type": "display_data"
    }
   ],
   "source": [
    "losses = pd.Series(losses)\n",
    "ax = losses.plot(figsize=(7, 2), marker='*')\n",
    "ax.set_title('CNN - Adam - MBB Beam')\n",
    "ax.set_xlabel('Number of Iterations')\n",
    "ax.set_ylabel('Compliance')\n",
    "ax.grid()"
   ]
  },
  {
   "cell_type": "code",
   "execution_count": null,
   "id": "8db365ae",
   "metadata": {},
   "outputs": [],
   "source": []
  }
 ],
 "metadata": {
  "kernelspec": {
   "display_name": "Python 3 (ipykernel)",
   "language": "python",
   "name": "python3"
  },
  "language_info": {
   "codemirror_mode": {
    "name": "ipython",
    "version": 3
   },
   "file_extension": ".py",
   "mimetype": "text/x-python",
   "name": "python",
   "nbconvert_exporter": "python",
   "pygments_lexer": "ipython3",
   "version": "3.9.11"
  }
 },
 "nbformat": 4,
 "nbformat_minor": 5
}
