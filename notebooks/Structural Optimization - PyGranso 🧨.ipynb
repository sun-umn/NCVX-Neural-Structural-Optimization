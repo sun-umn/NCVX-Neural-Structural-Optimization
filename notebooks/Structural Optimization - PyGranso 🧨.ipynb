{
 "cells": [
  {
   "cell_type": "code",
   "execution_count": 1,
   "id": "d4901ef5",
   "metadata": {},
   "outputs": [
    {
     "data": {
      "text/plain": [
       "'/Users/ryandevera/data-science/tesorio/NCVX-Neural-Structural-Optimization/notebooks'"
      ]
     },
     "execution_count": 1,
     "metadata": {},
     "output_type": "execute_result"
    }
   ],
   "source": [
    "%pwd"
   ]
  },
  {
   "cell_type": "code",
   "execution_count": 2,
   "id": "34b938ae",
   "metadata": {},
   "outputs": [
    {
     "name": "stdout",
     "output_type": "stream",
     "text": [
      "/Users/ryandevera/data-science/tesorio/NCVX-Neural-Structural-Optimization\n"
     ]
    }
   ],
   "source": [
    "%cd .."
   ]
  },
  {
   "cell_type": "code",
   "execution_count": 3,
   "id": "07ab80e8",
   "metadata": {},
   "outputs": [],
   "source": [
    "# Import the models so we can follow the training code\n",
    "import matplotlib.pyplot as plt\n",
    "import numpy as np\n",
    "import pandas as pd\n",
    "import time\n",
    "import torch\n",
    "import torch.optim as optim\n",
    "\n",
    "# Topology Library\n",
    "import models\n",
    "import problems\n",
    "import topo_api\n",
    "import topo_physics\n",
    "import utils\n",
    "\n",
    "%matplotlib inline"
   ]
  },
  {
   "cell_type": "code",
   "execution_count": 4,
   "id": "544d638d",
   "metadata": {},
   "outputs": [
    {
     "name": "stdout",
     "output_type": "stream",
     "text": [
      "/Users/ryandevera/data-science/tesorio/NCVX-Neural-Structural-Optimization/PyGRANSO\n"
     ]
    }
   ],
   "source": [
    "%cd pygranso"
   ]
  },
  {
   "cell_type": "code",
   "execution_count": 5,
   "id": "2a30d1fa",
   "metadata": {},
   "outputs": [],
   "source": [
    "# first party\n",
    "# Import pygranso functionality\n",
    "from pygranso.pygranso import pygranso\n",
    "from pygranso.pygransoStruct import pygransoStruct\n",
    "from pygranso.private.getNvar import getNvarTorch"
   ]
  },
  {
   "cell_type": "markdown",
   "id": "eb8709af",
   "metadata": {},
   "source": [
    "# Running neural structural optimization with PyGranso 🧨\n",
    "\n",
    "To check the validity of our new `torch` based code we will test the structural optimization with `torch.optim` optimizers.\n",
    "\n",
    "### MBB Beam\n",
    "\n",
    "The first problem that we will run is with the **MBB BEAM**."
   ]
  },
  {
   "cell_type": "code",
   "execution_count": 6,
   "id": "e8d6f6f8",
   "metadata": {},
   "outputs": [],
   "source": [
    "def structural_optimization_function(model, ke, args, designs, debug=False):\n",
    "    \"\"\"\n",
    "    Combined function for PyGranso for the structural optimization\n",
    "    problem. The inputs will be the model that reparameterizes x as a function\n",
    "    of a neural network. V0 is the initial volume, K is the global stiffness\n",
    "    matrix and F is the forces that are applied in the problem.\n",
    "    \"\"\"\n",
    "    # Initialize the model\n",
    "    # In my version of the model it follows the similar behavior of the\n",
    "    # tensorflow repository and only needs None to initialize and output\n",
    "    # a first value of x\n",
    "    logits = cnn_model(None)\n",
    "\n",
    "    # kwargs for displacement\n",
    "    kwargs = dict(\n",
    "        penal=torch.tensor(args[\"penal\"]),\n",
    "        e_min=torch.tensor(args[\"young_min\"]),\n",
    "        e_0=torch.tensor(args[\"young\"]),\n",
    "    )\n",
    "\n",
    "    # Calculate the physical density\n",
    "    x_phys = topo_physics.physical_density(logits, args, volume_constraint=True)\n",
    "    \n",
    "    # Calculate the forces\n",
    "    forces = topo_physics.calculate_forces(x_phys, args)\n",
    "    \n",
    "    # Calculate the u_matrix\n",
    "    u_matrix = topo_physics.displace(\n",
    "        x_phys, ke, forces, args['freedofs'], args['fixdofs'], **kwargs\n",
    "    )\n",
    "    \n",
    "    # Calculate the compliance output\n",
    "    compliance_output = topo_physics.compliance(x_phys, u_matrix, ke, **kwargs)\n",
    "    \n",
    "    # The loss is the sum of the compliance\n",
    "    f = torch.sum(compliance_output)\n",
    "    \n",
    "    # Run this problem with no inequality constraints\n",
    "    ci = None\n",
    "    \n",
    "    # Run this problem with no equality constraints\n",
    "    ce = None\n",
    "    \n",
    "    designs.append(topo_physics.physical_density(logits, args, volume_constraint=True))\n",
    "    \n",
    "    return f, ci, ce"
   ]
  },
  {
   "cell_type": "markdown",
   "id": "af2d82e8",
   "metadata": {},
   "source": [
    "## PyGranso Initializations\n",
    "\n",
    "This is where we will set up the problem and also the options to run pygranso"
   ]
  },
  {
   "cell_type": "code",
   "execution_count": 7,
   "id": "98662865",
   "metadata": {},
   "outputs": [
    {
     "name": "stderr",
     "output_type": "stream",
     "text": [
      "/Users/ryandevera/data-science/tesorio/NCVX-Neural-Structural-Optimization/topo_api.py:34: UserWarning: To copy construct from a tensor, it is recommended to use sourceTensor.clone().detach() or sourceTensor.clone().detach().requires_grad_(True), rather than torch.tensor(sourceTensor).\n",
      "  \"forces\": torch.tensor(problem.forces.ravel()),\n",
      "/Users/ryandevera/data-science/tesorio/NCVX-Neural-Structural-Optimization/models.py:67: UserWarning: __floordiv__ is deprecated, and its behavior will change in a future version of pytorch. It currently rounds toward 0 (like the 'trunc' function NOT 'floor'). This results in incorrect rounding for negative values. To keep the current behavior, use torch.div(a, b, rounding_mode='trunc'), or for actual floor division, use torch.div(a, b, rounding_mode='floor').\n",
      "  self.h = args[\"nely\"] // total_resize\n",
      "/Users/ryandevera/data-science/tesorio/NCVX-Neural-Structural-Optimization/models.py:68: UserWarning: __floordiv__ is deprecated, and its behavior will change in a future version of pytorch. It currently rounds toward 0 (like the 'trunc' function NOT 'floor'). This results in incorrect rounding for negative values. To keep the current behavior, use torch.div(a, b, rounding_mode='trunc'), or for actual floor division, use torch.div(a, b, rounding_mode='floor').\n",
      "  self.w = args[\"nelx\"] // total_resize\n"
     ]
    }
   ],
   "source": [
    "# Variable definitions\n",
    "device = torch.device('cpu')\n",
    "double_precision = torch.double\n",
    "\n",
    "# Identify the problem\n",
    "problem = problems.mbb_beam(height=20, width=60)\n",
    "\n",
    "# Get the arguments for the problem\n",
    "args = topo_api.specified_task(problem)\n",
    "\n",
    "# Set up the cnn args for this problem\n",
    "cnn_kwargs = dict(resizes=(1, 1, 2, 2, 1))\n",
    "\n",
    "# Initialize the model\n",
    "cnn_model = models.CNNModel(\n",
    "    args=args,\n",
    "    **cnn_kwargs\n",
    ")\n",
    "\n",
    "# Put the model in training mode\n",
    "cnn_model.train()\n",
    "\n",
    "# Get the stiffness matrix\n",
    "ke = topo_physics.get_stiffness_matrix(\n",
    "    young=args['young'], poisson=args['poisson'],\n",
    ")\n",
    "\n",
    "# Structural optimization problem setup\n",
    "designs = []\n",
    "comb_fn = lambda model: structural_optimization_function(\n",
    "    model, ke, args, designs, debug=False\n",
    ")\n",
    "\n",
    "# PyGranso Options\n",
    "opts = pygransoStruct()\n",
    "\n",
    "# Set the device to CPU\n",
    "opts.torch_device = device\n",
    "\n",
    "# Set up the initial inputs to the solver\n",
    "nvar = getNvarTorch(cnn_model.parameters())\n",
    "opts.x0 = (\n",
    "    torch.nn.utils.parameters_to_vector(cnn_model.parameters())\n",
    "    .detach()\n",
    "    .reshape(nvar, 1)\n",
    ")\n",
    "\n",
    "# Additional PyGranso options\n",
    "opts.limited_mem_size = 20\n",
    "opts.double_precision = True\n",
    "opts.mu0 = 1.0\n",
    "opts.maxit = 150\n",
    "opts.print_frequency = 1\n",
    "opts.stat_l2_model = False\n",
    "\n",
    "# This was important to have the structural optimization solver converge\n",
    "opts.init_step_size = 5e-6\n",
    "opts.linesearch_maxit = 50"
   ]
  },
  {
   "cell_type": "code",
   "execution_count": 8,
   "id": "263d399e",
   "metadata": {},
   "outputs": [
    {
     "name": "stderr",
     "output_type": "stream",
     "text": [
      "/var/folders/6c/8rvpvzfs0vxbbx2jh4rbfb100000gn/T/ipykernel_78446/1907579639.py:17: UserWarning: To copy construct from a tensor, it is recommended to use sourceTensor.clone().detach() or sourceTensor.clone().detach().requires_grad_(True), rather than torch.tensor(sourceTensor).\n",
      "  e_min=torch.tensor(args[\"young_min\"]),\n",
      "/var/folders/6c/8rvpvzfs0vxbbx2jh4rbfb100000gn/T/ipykernel_78446/1907579639.py:18: UserWarning: To copy construct from a tensor, it is recommended to use sourceTensor.clone().detach() or sourceTensor.clone().detach().requires_grad_(True), rather than torch.tensor(sourceTensor).\n",
      "  e_0=torch.tensor(args[\"young\"]),\n",
      "/Users/ryandevera/data-science/tesorio/NCVX-Neural-Structural-Optimization/topo_physics.py:11: UserWarning: To copy construct from a tensor, it is recommended to use sourceTensor.clone().detach() or sourceTensor.clone().detach().requires_grad_(True), rather than torch.tensor(sourceTensor).\n",
      "  e_0 = torch.tensor(e_0)\n",
      "/Users/ryandevera/data-science/tesorio/NCVX-Neural-Structural-Optimization/topo_physics.py:12: UserWarning: To copy construct from a tensor, it is recommended to use sourceTensor.clone().detach() or sourceTensor.clone().detach().requires_grad_(True), rather than torch.tensor(sourceTensor).\n",
      "  e_min = torch.tensor(e_min)\n",
      "/Users/ryandevera/data-science/tesorio/NCVX-Neural-Structural-Optimization/topo_physics.py:13: UserWarning: To copy construct from a tensor, it is recommended to use sourceTensor.clone().detach() or sourceTensor.clone().detach().requires_grad_(True), rather than torch.tensor(sourceTensor).\n",
      "  p = torch.tensor(p)\n"
     ]
    },
    {
     "name": "stdout",
     "output_type": "stream",
     "text": [
      "\n",
      "\n",
      "\u001b[33m╔═════ QP SOLVER NOTICE ════════════════════════════════════════════════════════════════════════╗\n",
      "\u001b[0m\u001b[33m║  PyGRANSO requires a quadratic program (QP) solver that has a quadprog-compatible interface,  ║\n",
      "\u001b[0m\u001b[33m║  the default is osqp. Users may provide their own wrapper for the QP solver.                  ║\n",
      "\u001b[0m\u001b[33m║  To disable this notice, set opts.quadprog_info_msg = False                                   ║\n",
      "\u001b[0m\u001b[33m╚═══════════════════════════════════════════════════════════════════════════════════════════════╝\n",
      "\u001b[0m══════════════════════════════════════════════════════════════════════════════════════════════╗\n",
      "PyGRANSO: A PyTorch-enabled port of GRANSO with auto-differentiation                          ║ \n",
      "Version 1.2.0                                                                                 ║ \n",
      "Licensed under the AGPLv3, Copyright (C) 2021-2022 Tim Mitchell and Buyun Liang               ║ \n",
      "══════════════════════════════════════════════════════════════════════════════════════════════╣\n",
      "Problem specifications:                                                                       ║ \n",
      " # of variables                     :   681569                                                ║ \n",
      " # of inequality constraints        :        0                                                ║ \n",
      " # of equality constraints          :        0                                                ║ \n",
      "══════════════════════════════════════════════════════════════════════════════════════════════╣\n",
      "\u001b[33mLimited-memory mode enabled with size = 20.                                                  \u001b[0m ║ \n",
      "\u001b[33mNOTE: limited-memory mode is generally NOT                                                   \u001b[0m ║ \n",
      "\u001b[33mrecommended for nonsmooth problems.                                                          \u001b[0m ║ \n",
      "═════╦════════════╦════════════════╦═════════════╦═══════════════════════╦════════════════════╣\n",
      "     ║ Penalty Fn ║                ║  Violation  ║ <--- Line Search ---> ║ <- Stationarity -> ║ \n",
      "Iter ║ Mu │ Value ║    Objective   ║ Ineq │  Eq  ║ SD │ Evals │     t    ║ Grads │    Value   ║ \n",
      "═════╬════════════╬════════════════╬═════════════╬═══════════════════════╬════════════════════╣\n",
      "   0 ║  - │   -   ║  2454.46217834 ║   -  │   -  ║ -  │     1 │ 0.000000 ║     1 │ 161774.4   ║ \n",
      "   1 ║  - │   -   ║  831.311222779 ║   -  │   -  ║ QN │     1 │ 5.00e-06 ║     1 │ 6389.699   ║ \n"
     ]
    },
    {
     "name": "stderr",
     "output_type": "stream",
     "text": [
      "/Users/ryandevera/data-science/tesorio/NCVX-Neural-Structural-Optimization/PyGRANSO/pygranso/private/bfgsHessianInverseLimitedMem.py:237: UserWarning: The use of `x.T` on tensors of dimension other than 2 to reverse their shape is deprecated and it will throw an error in a future release. Consider `x.mT` to transpose batches of matricesor `x.permute(*torch.arange(x.ndim - 1, -1, -1))` to reverse the dimensions of a tensor. (Triggered internally at  /Users/runner/work/pytorch/pytorch/pytorch/aten/src/ATen/native/TensorShape.cpp:2985.)\n",
      "  alpha[j,:]  = self.rho[0,j] * (self.S[:,j].T  @ q)\n"
     ]
    },
    {
     "name": "stdout",
     "output_type": "stream",
     "text": [
      "   2 ║  - │   -   ║  671.954569176 ║   -  │   -  ║ QN │    19 │ 1.310720 ║     1 │ 0.017127   ║ \n",
      "   3 ║  - │   -   ║  577.035945983 ║   -  │   -  ║ QN │    19 │ 1.310720 ║     1 │ 0.014555   ║ \n",
      "   4 ║  - │   -   ║  520.069251913 ║   -  │   -  ║ QN │    19 │ 1.310720 ║     1 │ 0.010647   ║ \n",
      "   5 ║  - │   -   ║  487.658559477 ║   -  │   -  ║ QN │    19 │ 1.310720 ║     1 │ 0.011061   ║ \n",
      "   6 ║  - │   -   ║  448.517768809 ║   -  │   -  ║ QN │    19 │ 1.310720 ║     1 │ 0.015220   ║ \n",
      "   7 ║  - │   -   ║  411.027947760 ║   -  │   -  ║ QN │    19 │ 1.310720 ║     1 │ 0.022279   ║ \n",
      "   8 ║  - │   -   ║  358.643683580 ║   -  │   -  ║ QN │    20 │ 2.621440 ║     1 │ 0.021844   ║ \n",
      "   9 ║  - │   -   ║  334.354571824 ║   -  │   -  ║ QN │    19 │ 1.310720 ║     1 │ 0.026626   ║ \n",
      "  10 ║  - │   -   ║  309.847340679 ║   -  │   -  ║ QN │    19 │ 1.310720 ║     1 │ 0.022053   ║ \n",
      "  11 ║  - │   -   ║  292.713349676 ║   -  │   -  ║ QN │    19 │ 1.310720 ║     1 │ 0.026555   ║ \n",
      "  12 ║  - │   -   ║  267.570598154 ║   -  │   -  ║ QN │    20 │ 2.621440 ║     1 │ 0.018424   ║ \n",
      "  13 ║  - │   -   ║  254.223618323 ║   -  │   -  ║ QN │    20 │ 2.621440 ║     1 │ 0.047141   ║ \n",
      "  14 ║  - │   -   ║  248.447027720 ║   -  │   -  ║ QN │    19 │ 1.310720 ║     1 │ 0.075895   ║ \n",
      "  15 ║  - │   -   ║  243.474185867 ║   -  │   -  ║ QN │    20 │ 2.621440 ║     1 │ 0.027311   ║ \n",
      "  16 ║  - │   -   ║  239.316658498 ║   -  │   -  ║ QN │    20 │ 2.621440 ║     1 │ 0.021671   ║ \n",
      "  17 ║  - │   -   ║  236.379871702 ║   -  │   -  ║ QN │    19 │ 1.310720 ║     1 │ 0.424286   ║ \n",
      "  18 ║  - │   -   ║  230.128254205 ║   -  │   -  ║ QN │    20 │ 2.621440 ║     1 │ 0.359382   ║ \n",
      "  19 ║  - │   -   ║  218.877459062 ║   -  │   -  ║ QN │    19 │ 1.310720 ║     1 │ 0.164033   ║ \n",
      "═════╬════════════╬════════════════╬═════════════╬═══════════════════════╬════════════════════╣\n",
      "     ║ Penalty Fn ║                ║  Violation  ║ <--- Line Search ---> ║ <- Stationarity -> ║ \n",
      "Iter ║ Mu │ Value ║    Objective   ║ Ineq │  Eq  ║ SD │ Evals │     t    ║ Grads │    Value   ║ \n",
      "═════╬════════════╬════════════════╬═════════════╬═══════════════════════╬════════════════════╣\n",
      "  20 ║  - │   -   ║  214.614864748 ║   -  │   -  ║ QN │    19 │ 1.310720 ║     1 │ 0.108935   ║ \n",
      "  21 ║  - │   -   ║  211.605589608 ║   -  │   -  ║ QN │    19 │ 1.310720 ║     1 │ 0.068178   ║ \n",
      "  22 ║  - │   -   ║  211.148765022 ║   -  │   -  ║ QN │    20 │ 2.621440 ║     1 │ 0.200190   ║ \n",
      "  23 ║  - │   -   ║  209.816102009 ║   -  │   -  ║ QN │    19 │ 1.310720 ║     1 │ 0.075390   ║ \n",
      "  24 ║  - │   -   ║  209.500799320 ║   -  │   -  ║ QN │    18 │ 0.655360 ║     1 │ 0.031356   ║ \n",
      "  25 ║  - │   -   ║  209.111803626 ║   -  │   -  ║ QN │    19 │ 1.310720 ║     1 │ 0.061412   ║ \n",
      "  26 ║  - │   -   ║  208.058732989 ║   -  │   -  ║ QN │    20 │ 2.621440 ║     1 │ 0.093284   ║ \n",
      "  27 ║  - │   -   ║  207.548912918 ║   -  │   -  ║ QN │    19 │ 1.310720 ║     1 │ 0.040563   ║ \n",
      "  28 ║  - │   -   ║  207.243392631 ║   -  │   -  ║ QN │    20 │ 2.621440 ║     1 │ 0.038229   ║ \n",
      "  29 ║  - │   -   ║  206.841151051 ║   -  │   -  ║ QN │    19 │ 1.310720 ║     1 │ 0.070400   ║ \n",
      "  30 ║  - │   -   ║  205.937429897 ║   -  │   -  ║ QN │    20 │ 2.621440 ║     1 │ 0.233440   ║ \n",
      "  31 ║  - │   -   ║  204.068866918 ║   -  │   -  ║ QN │    20 │ 2.621440 ║     1 │ 0.053204   ║ \n",
      "  32 ║  - │   -   ║  203.759731021 ║   -  │   -  ║ QN │    18 │ 0.655360 ║     1 │ 0.024706   ║ \n",
      "  33 ║  - │   -   ║  203.569900159 ║   -  │   -  ║ QN │    19 │ 1.310720 ║     1 │ 0.039028   ║ \n",
      "  34 ║  - │   -   ║  203.274920759 ║   -  │   -  ║ QN │    19 │ 1.310720 ║     1 │ 0.005453   ║ \n",
      "  35 ║  - │   -   ║  202.948097199 ║   -  │   -  ║ QN │    19 │ 1.310720 ║     1 │ 0.013940   ║ \n",
      "  36 ║  - │   -   ║  202.397383836 ║   -  │   -  ║ QN │    19 │ 1.310720 ║     1 │ 0.046534   ║ \n",
      "  37 ║  - │   -   ║  202.116197216 ║   -  │   -  ║ QN │    18 │ 0.655360 ║     1 │ 0.083699   ║ \n",
      "  38 ║  - │   -   ║  201.991384432 ║   -  │   -  ║ QN │    18 │ 0.655360 ║     1 │ 0.068237   ║ \n",
      "  39 ║  - │   -   ║  201.902183030 ║   -  │   -  ║ QN │    19 │ 1.310720 ║     1 │ 0.028186   ║ \n",
      "═════╬════════════╬════════════════╬═════════════╬═══════════════════════╬════════════════════╣\n",
      "     ║ Penalty Fn ║                ║  Violation  ║ <--- Line Search ---> ║ <- Stationarity -> ║ \n",
      "Iter ║ Mu │ Value ║    Objective   ║ Ineq │  Eq  ║ SD │ Evals │     t    ║ Grads │    Value   ║ \n",
      "═════╬════════════╬════════════════╬═════════════╬═══════════════════════╬════════════════════╣\n",
      "  40 ║  - │   -   ║  201.834473712 ║   -  │   -  ║ QN │    19 │ 1.310720 ║     1 │ 0.017511   ║ \n",
      "  41 ║  - │   -   ║  201.602434302 ║   -  │   -  ║ QN │    20 │ 2.621440 ║     1 │ 0.042461   ║ \n",
      "  42 ║  - │   -   ║  201.439066306 ║   -  │   -  ║ QN │    19 │ 1.310720 ║     1 │ 0.185502   ║ \n",
      "  43 ║  - │   -   ║  200.686787640 ║   -  │   -  ║ QN │    22 │ 10.48576 ║     1 │ 0.401651   ║ \n",
      "  44 ║  - │   -   ║  200.392662394 ║   -  │   -  ║ QN │    18 │ 0.655360 ║     1 │ 0.039036   ║ \n",
      "  45 ║  - │   -   ║  200.320225903 ║   -  │   -  ║ QN │    18 │ 0.655360 ║     1 │ 0.044180   ║ \n",
      "  46 ║  - │   -   ║  200.229609381 ║   -  │   -  ║ QN │    19 │ 1.310720 ║     1 │ 0.036585   ║ \n",
      "  47 ║  - │   -   ║  200.099277649 ║   -  │   -  ║ QN │    20 │ 2.621440 ║     1 │ 0.083289   ║ \n",
      "═════╩════════════╩════════════════╩═════════════╩═══════════════════════╩════════════════════╣\n",
      "F = final iterate, B = Best (to tolerance), MF = Most Feasible                                ║ \n",
      "Optimization results:                                                                         ║ \n",
      "═════╦════════════╦════════════════╦═════════════╦═══════════════════════╦════════════════════╣\n",
      "   F ║    │       ║  200.099277649 ║   -  │   -  ║    │       │          ║       │            ║ \n",
      "   B ║    │       ║  199.725407837 ║   -  │   -  ║    │       │          ║       │            ║ \n",
      "═════╩════════════╩════════════════╩═════════════╩═══════════════════════╩════════════════════╣\n",
      "Iterations:              47                                                                   ║ \n",
      "Function evaluations:    906                                                                  ║ \n",
      "PyGRANSO termination code: 8 --- line search failed to bracket a minimizer, indicating that   ║ \n",
      "the objective function may be unbounded below.                                                ║ \n",
      "══════════════════════════════════════════════════════════════════════════════════════════════╝\n",
      "Total wall time: 1835.0314238071442s\n"
     ]
    }
   ],
   "source": [
    "# Run pygranso\n",
    "start = time.time()\n",
    "soln = pygranso(var_spec=cnn_model, combined_fn=comb_fn, user_opts=opts)\n",
    "end = time.time()\n",
    "print(f'Total wall time: {end - start}s')"
   ]
  },
  {
   "cell_type": "code",
   "execution_count": 9,
   "id": "b4dd7f87",
   "metadata": {},
   "outputs": [
    {
     "data": {
      "text/plain": [
       "<matplotlib.colorbar.Colorbar at 0x14f033b20>"
      ]
     },
     "execution_count": 9,
     "metadata": {},
     "output_type": "execute_result"
    },
    {
     "data": {
      "image/png": "[encoded data removed]",
      "text/plain": [
       "<Figure size 640x480 with 2 Axes>"
      ]
     },
     "metadata": {},
     "output_type": "display_data"
    }
   ],
   "source": [
    "# Get the final frame\n",
    "final_frame = designs[-1].detach().numpy()\n",
    "\n",
    "# Create a figure and axis\n",
    "fig, ax = plt.subplots(1, 1)\n",
    "\n",
    "# Show the structure in grayscale\n",
    "im = ax.imshow(final_frame, cmap='Greys')\n",
    "ax.set_title('MBB Beam - Neural Structural Optimization - PyGranso')\n",
    "ax.set_ylabel('MBB Beam - Height')\n",
    "ax.set_xlabel('MBB Beam - Width')\n",
    "ax.grid()\n",
    "fig.colorbar(im, orientation=\"horizontal\", pad=0.2)"
   ]
  },
  {
   "cell_type": "markdown",
   "id": "ecca9686",
   "metadata": {},
   "source": [
    "# `PyGranso` Multi-story Building"
   ]
  },
  {
   "cell_type": "code",
   "execution_count": 10,
   "id": "c065714a",
   "metadata": {},
   "outputs": [],
   "source": [
    "# Variable definitions\n",
    "device = torch.device('cpu')\n",
    "double_precision = torch.double\n",
    "\n",
    "# Identify the problem\n",
    "problem = problems.PROBLEMS_BY_NAME['multistory_building_32x64_0.5']\n",
    "\n",
    "# Get the arguments for the problem\n",
    "args = topo_api.specified_task(problem)\n",
    "\n",
    "# Initialize the model\n",
    "cnn_model = models.CNNModel(\n",
    "    args=args,\n",
    ")\n",
    "\n",
    "# Put the model in training mode\n",
    "cnn_model.train()\n",
    "\n",
    "# Get the stiffness matrix\n",
    "ke = topo_physics.get_stiffness_matrix(\n",
    "    young=args['young'], poisson=args['poisson'],\n",
    ")\n",
    "\n",
    "# Structural optimization problem setup\n",
    "designs = []\n",
    "comb_fn = lambda model: structural_optimization_function(\n",
    "    model, ke, args, designs, debug=False\n",
    ")\n",
    "\n",
    "# PyGranso Options\n",
    "opts = pygransoStruct()\n",
    "\n",
    "# Set the device to CPU\n",
    "opts.torch_device = device\n",
    "\n",
    "# Set up the initial inputs to the solver\n",
    "nvar = getNvarTorch(cnn_model.parameters())\n",
    "opts.x0 = (\n",
    "    torch.nn.utils.parameters_to_vector(cnn_model.parameters())\n",
    "    .detach()\n",
    "    .reshape(nvar, 1)\n",
    ")\n",
    "\n",
    "# Additional PyGranso options\n",
    "opts.limited_mem_size = 20\n",
    "opts.double_precision = True\n",
    "opts.mu0 = 1.0\n",
    "opts.maxit = 150\n",
    "opts.print_frequency = 1\n",
    "opts.stat_l2_model = False\n",
    "\n",
    "# This was important to have the structural optimization solver converge\n",
    "opts.init_step_size = 5e-6\n",
    "opts.linesearch_maxit = 50"
   ]
  },
  {
   "cell_type": "code",
   "execution_count": 11,
   "id": "0bd15939",
   "metadata": {},
   "outputs": [
    {
     "name": "stderr",
     "output_type": "stream",
     "text": [
      "/var/folders/6c/8rvpvzfs0vxbbx2jh4rbfb100000gn/T/ipykernel_78446/1907579639.py:17: UserWarning: To copy construct from a tensor, it is recommended to use sourceTensor.clone().detach() or sourceTensor.clone().detach().requires_grad_(True), rather than torch.tensor(sourceTensor).\n",
      "  e_min=torch.tensor(args[\"young_min\"]),\n",
      "/var/folders/6c/8rvpvzfs0vxbbx2jh4rbfb100000gn/T/ipykernel_78446/1907579639.py:18: UserWarning: To copy construct from a tensor, it is recommended to use sourceTensor.clone().detach() or sourceTensor.clone().detach().requires_grad_(True), rather than torch.tensor(sourceTensor).\n",
      "  e_0=torch.tensor(args[\"young\"]),\n"
     ]
    },
    {
     "name": "stdout",
     "output_type": "stream",
     "text": [
      "\n",
      "\n",
      "\u001b[33m╔═════ QP SOLVER NOTICE ════════════════════════════════════════════════════════════════════════╗\n",
      "\u001b[0m\u001b[33m║  PyGRANSO requires a quadratic program (QP) solver that has a quadprog-compatible interface,  ║\n",
      "\u001b[0m\u001b[33m║  the default is osqp. Users may provide their own wrapper for the QP solver.                  ║\n",
      "\u001b[0m\u001b[33m║  To disable this notice, set opts.quadprog_info_msg = False                                   ║\n",
      "\u001b[0m\u001b[33m╚═══════════════════════════════════════════════════════════════════════════════════════════════╝\n",
      "\u001b[0m══════════════════════════════════════════════════════════════════════════════════════════════╗\n",
      "PyGRANSO: A PyTorch-enabled port of GRANSO with auto-differentiation                          ║ \n",
      "Version 1.2.0                                                                                 ║ \n",
      "Licensed under the AGPLv3, Copyright (C) 2021-2022 Tim Mitchell and Buyun Liang               ║ \n",
      "══════════════════════════════════════════════════════════════════════════════════════════════╣\n",
      "Problem specifications:                                                                       ║ \n",
      " # of variables                     :   504065                                                ║ \n",
      " # of inequality constraints        :        0                                                ║ \n",
      " # of equality constraints          :        0                                                ║ \n",
      "══════════════════════════════════════════════════════════════════════════════════════════════╣\n",
      "\u001b[33mLimited-memory mode enabled with size = 20.                                                  \u001b[0m ║ \n",
      "\u001b[33mNOTE: limited-memory mode is generally NOT                                                   \u001b[0m ║ \n",
      "\u001b[33mrecommended for nonsmooth problems.                                                          \u001b[0m ║ \n",
      "═════╦════════════╦════════════════╦═════════════╦═══════════════════════╦════════════════════╣\n",
      "     ║ Penalty Fn ║                ║  Violation  ║ <--- Line Search ---> ║ <- Stationarity -> ║ \n",
      "Iter ║ Mu │ Value ║    Objective   ║ Ineq │  Eq  ║ SD │ Evals │     t    ║ Grads │    Value   ║ \n",
      "═════╬════════════╬════════════════╬═════════════╬═══════════════════════╬════════════════════╣\n",
      "   0 ║  - │   -   ║  262.773032261 ║   -  │   -  ║ -  │     1 │ 0.000000 ║     1 │ 13674.90   ║ \n",
      "   1 ║  - │   -   ║  175.900255229 ║   -  │   -  ║ QN │     1 │ 5.00e-06 ║     1 │ 21356.98   ║ \n",
      "   2 ║  - │   -   ║  148.151921895 ║   -  │   -  ║ QN │    15 │ 0.081920 ║     1 │ 0.014221   ║ \n",
      "   3 ║  - │   -   ║  101.164734412 ║   -  │   -  ║ QN │    20 │ 2.621440 ║     1 │ 0.002587   ║ \n",
      "   4 ║  - │   -   ║  88.6611889434 ║   -  │   -  ║ QN │    19 │ 1.310720 ║     1 │ 0.002849   ║ \n",
      "   5 ║  - │   -   ║  84.7212582318 ║   -  │   -  ║ QN │    19 │ 1.310720 ║     1 │ 0.002208   ║ \n",
      "   6 ║  - │   -   ║  77.7870883173 ║   -  │   -  ║ QN │    20 │ 2.621440 ║     1 │ 0.001825   ║ \n",
      "   7 ║  - │   -   ║  73.8419060002 ║   -  │   -  ║ QN │    19 │ 1.310720 ║     1 │ 0.004264   ║ \n",
      "   8 ║  - │   -   ║  72.0168400962 ║   -  │   -  ║ QN │    19 │ 1.310720 ║     1 │ 0.002910   ║ \n",
      "   9 ║  - │   -   ║  70.9794703104 ║   -  │   -  ║ QN │    19 │ 1.310720 ║     1 │ 0.001088   ║ \n",
      "  10 ║  - │   -   ║  69.2836814626 ║   -  │   -  ║ QN │    20 │ 2.621440 ║     1 │ 0.005608   ║ \n",
      "  11 ║  - │   -   ║  66.9100682558 ║   -  │   -  ║ QN │    20 │ 2.621440 ║     1 │ 0.003300   ║ \n",
      "  12 ║  - │   -   ║  65.7014721010 ║   -  │   -  ║ QN │    20 │ 2.621440 ║     1 │ 0.002812   ║ \n",
      "  13 ║  - │   -   ║  64.0752620193 ║   -  │   -  ║ QN │    21 │ 5.242880 ║     1 │ 0.006775   ║ \n",
      "  14 ║  - │   -   ║  62.8491295701 ║   -  │   -  ║ QN │    19 │ 1.310720 ║     1 │ 0.014683   ║ \n",
      "  15 ║  - │   -   ║  61.5870290894 ║   -  │   -  ║ QN │    20 │ 2.621440 ║     1 │ 0.006347   ║ \n",
      "  16 ║  - │   -   ║  60.8550632056 ║   -  │   -  ║ QN │    19 │ 1.310720 ║     1 │ 0.006266   ║ \n",
      "  17 ║  - │   -   ║  60.4974875454 ║   -  │   -  ║ QN │    19 │ 1.310720 ║     1 │ 0.002622   ║ \n",
      "  18 ║  - │   -   ║  60.0929939275 ║   -  │   -  ║ QN │    19 │ 1.310720 ║     1 │ 0.004569   ║ \n",
      "  19 ║  - │   -   ║  59.6654998365 ║   -  │   -  ║ QN │    19 │ 1.310720 ║     1 │ 0.014404   ║ \n",
      "═════╬════════════╬════════════════╬═════════════╬═══════════════════════╬════════════════════╣\n",
      "     ║ Penalty Fn ║                ║  Violation  ║ <--- Line Search ---> ║ <- Stationarity -> ║ \n",
      "Iter ║ Mu │ Value ║    Objective   ║ Ineq │  Eq  ║ SD │ Evals │     t    ║ Grads │    Value   ║ \n",
      "═════╬════════════╬════════════════╬═════════════╬═══════════════════════╬════════════════════╣\n",
      "  20 ║  - │   -   ║  58.8831778304 ║   -  │   -  ║ QN │    19 │ 1.310720 ║     1 │ 0.013386   ║ \n",
      "  21 ║  - │   -   ║  58.1595322970 ║   -  │   -  ║ QN │    19 │ 1.310720 ║     1 │ 0.008126   ║ \n",
      "  22 ║  - │   -   ║  57.9195800328 ║   -  │   -  ║ QN │    20 │ 2.621440 ║     1 │ 0.004596   ║ \n",
      "  23 ║  - │   -   ║  57.2677100994 ║   -  │   -  ║ QN │    20 │ 2.621440 ║     1 │ 0.003608   ║ \n",
      "  24 ║  - │   -   ║  56.7311443389 ║   -  │   -  ║ QN │    19 │ 1.310720 ║     1 │ 0.010366   ║ \n",
      "  25 ║  - │   -   ║  56.3327624605 ║   -  │   -  ║ QN │    19 │ 1.310720 ║     1 │ 0.006907   ║ \n",
      "  26 ║  - │   -   ║  56.1429454274 ║   -  │   -  ║ QN │    19 │ 1.310720 ║     1 │ 0.002454   ║ \n",
      "  27 ║  - │   -   ║  55.9248052671 ║   -  │   -  ║ QN │    20 │ 2.621440 ║     1 │ 0.004629   ║ \n",
      "  28 ║  - │   -   ║  55.7223764739 ║   -  │   -  ║ QN │    20 │ 2.621440 ║     1 │ 0.004866   ║ \n",
      "  29 ║  - │   -   ║  55.4300879292 ║   -  │   -  ║ QN │    20 │ 2.621440 ║     1 │ 0.008654   ║ \n",
      "  30 ║  - │   -   ║  55.0883950633 ║   -  │   -  ║ QN │    20 │ 2.621440 ║     1 │ 0.011056   ║ \n",
      "  31 ║  - │   -   ║  54.8242231105 ║   -  │   -  ║ QN │    20 │ 2.621440 ║     1 │ 0.003866   ║ \n",
      "  32 ║  - │   -   ║  54.6652462578 ║   -  │   -  ║ QN │    19 │ 1.310720 ║     1 │ 0.003416   ║ \n",
      "  33 ║  - │   -   ║  54.4396235576 ║   -  │   -  ║ QN │    20 │ 2.621440 ║     1 │ 0.003834   ║ \n",
      "  34 ║  - │   -   ║  54.0835416739 ║   -  │   -  ║ QN │    20 │ 2.621440 ║     1 │ 0.003032   ║ \n",
      "  35 ║  - │   -   ║  53.7142187447 ║   -  │   -  ║ QN │    19 │ 1.310720 ║     1 │ 0.029780   ║ \n",
      "  36 ║  - │   -   ║  53.4226694873 ║   -  │   -  ║ QN │    20 │ 2.621440 ║     1 │ 0.006970   ║ \n",
      "  37 ║  - │   -   ║  53.1655941656 ║   -  │   -  ║ QN │    19 │ 1.310720 ║     1 │ 0.021390   ║ \n",
      "  38 ║  - │   -   ║  53.0352540165 ║   -  │   -  ║ QN │    18 │ 0.655360 ║     1 │ 0.004949   ║ \n",
      "  39 ║  - │   -   ║  52.9010787461 ║   -  │   -  ║ QN │    19 │ 1.310720 ║     1 │ 0.002803   ║ \n",
      "═════╬════════════╬════════════════╬═════════════╬═══════════════════════╬════════════════════╣\n",
      "     ║ Penalty Fn ║                ║  Violation  ║ <--- Line Search ---> ║ <- Stationarity -> ║ \n",
      "Iter ║ Mu │ Value ║    Objective   ║ Ineq │  Eq  ║ SD │ Evals │     t    ║ Grads │    Value   ║ \n",
      "═════╬════════════╬════════════════╬═════════════╬═══════════════════════╬════════════════════╣\n",
      "  40 ║  - │   -   ║  52.8215719218 ║   -  │   -  ║ QN │    19 │ 1.310720 ║     1 │ 0.002003   ║ \n",
      "  41 ║  - │   -   ║  52.7299408693 ║   -  │   -  ║ QN │    19 │ 1.310720 ║     1 │ 0.012101   ║ \n",
      "  42 ║  - │   -   ║  52.5884434731 ║   -  │   -  ║ QN │    20 │ 2.621440 ║     1 │ 0.010067   ║ \n",
      "  43 ║  - │   -   ║  52.0966556547 ║   -  │   -  ║ QN │    21 │ 5.242880 ║     1 │ 0.022096   ║ \n",
      "  44 ║  - │   -   ║  51.2986537283 ║   -  │   -  ║ QN │    20 │ 2.621440 ║     1 │ 0.052848   ║ \n",
      "  45 ║  - │   -   ║  50.7554478168 ║   -  │   -  ║ QN │    19 │ 1.310720 ║     1 │ 0.021163   ║ \n",
      "  46 ║  - │   -   ║  50.6648879522 ║   -  │   -  ║ QN │    19 │ 1.310720 ║     1 │ 0.007000   ║ \n",
      "  47 ║  - │   -   ║  50.6063056537 ║   -  │   -  ║ QN │    19 │ 1.310720 ║     1 │ 0.001347   ║ \n",
      "  48 ║  - │   -   ║  50.5694504814 ║   -  │   -  ║ QN │    20 │ 2.621440 ║     1 │ 0.004602   ║ \n",
      "  49 ║  - │   -   ║  50.4952945110 ║   -  │   -  ║ QN │    20 │ 2.621440 ║     1 │ 0.015503   ║ \n",
      "  50 ║  - │   -   ║  50.4049776566 ║   -  │   -  ║ QN │    19 │ 1.310720 ║     1 │ 0.007826   ║ \n",
      "  51 ║  - │   -   ║  50.2131249497 ║   -  │   -  ║ QN │    20 │ 2.621440 ║     1 │ 0.051765   ║ \n",
      "  52 ║  - │   -   ║  50.0236583714 ║   -  │   -  ║ QN │    19 │ 1.310720 ║     1 │ 0.005462   ║ \n",
      "  53 ║  - │   -   ║  49.9237446775 ║   -  │   -  ║ QN │    19 │ 1.310720 ║     1 │ 0.004678   ║ \n"
     ]
    },
    {
     "name": "stdout",
     "output_type": "stream",
     "text": [
      "  54 ║  - │   -   ║  49.8260665238 ║   -  │   -  ║ QN │    20 │ 2.621440 ║     1 │ 0.004131   ║ \n",
      "  55 ║  - │   -   ║  49.6649663714 ║   -  │   -  ║ QN │    20 │ 2.621440 ║     1 │ 0.026576   ║ \n",
      "  56 ║  - │   -   ║  49.4040087570 ║   -  │   -  ║ QN │    20 │ 2.621440 ║     1 │ 0.006265   ║ \n",
      "  57 ║  - │   -   ║  49.3016972877 ║   -  │   -  ║ QN │    19 │ 1.310720 ║     1 │ 0.004592   ║ \n",
      "  58 ║  - │   -   ║  49.2724294276 ║   -  │   -  ║ QN │    19 │ 1.310720 ║     1 │ 0.008210   ║ \n",
      "  59 ║  - │   -   ║  49.2512310635 ║   -  │   -  ║ QN │    19 │ 1.310720 ║     1 │ 0.006542   ║ \n",
      "═════╬════════════╬════════════════╬═════════════╬═══════════════════════╬════════════════════╣\n",
      "     ║ Penalty Fn ║                ║  Violation  ║ <--- Line Search ---> ║ <- Stationarity -> ║ \n",
      "Iter ║ Mu │ Value ║    Objective   ║ Ineq │  Eq  ║ SD │ Evals │     t    ║ Grads │    Value   ║ \n",
      "═════╬════════════╬════════════════╬═════════════╬═══════════════════════╬════════════════════╣\n",
      "  60 ║  - │   -   ║  49.2084916710 ║   -  │   -  ║ QN │    20 │ 2.621440 ║     1 │ 0.031606   ║ \n",
      "  61 ║  - │   -   ║  49.0622971227 ║   -  │   -  ║ QN │    20 │ 2.621440 ║     1 │ 0.007773   ║ \n",
      "  62 ║  - │   -   ║  48.8945984685 ║   -  │   -  ║ QN │    19 │ 1.310720 ║     1 │ 0.004286   ║ \n",
      "  63 ║  - │   -   ║  48.6563343976 ║   -  │   -  ║ QN │    20 │ 2.621440 ║     1 │ 0.008309   ║ \n",
      "  64 ║  - │   -   ║  48.4089509239 ║   -  │   -  ║ QN │    20 │ 2.621440 ║     1 │ 0.027143   ║ \n",
      "  65 ║  - │   -   ║  48.3526259796 ║   -  │   -  ║ QN │    19 │ 1.310720 ║     1 │ 0.002200   ║ \n",
      "  66 ║  - │   -   ║  48.3315502230 ║   -  │   -  ║ QN │    19 │ 1.310720 ║     1 │ 0.004204   ║ \n",
      "  67 ║  - │   -   ║  48.2596069740 ║   -  │   -  ║ QN │    20 │ 2.621440 ║     1 │ 0.017559   ║ \n",
      "  68 ║  - │   -   ║  48.0772012170 ║   -  │   -  ║ QN │    21 │ 5.242880 ║     1 │ 0.037077   ║ \n",
      "  69 ║  - │   -   ║  47.9339494734 ║   -  │   -  ║ QN │    20 │ 2.621440 ║     1 │ 0.020956   ║ \n",
      "  70 ║  - │   -   ║  47.8752508403 ║   -  │   -  ║ QN │    19 │ 1.310720 ║     1 │ 0.031054   ║ \n",
      "  71 ║  - │   -   ║  47.8044325761 ║   -  │   -  ║ QN │    19 │ 1.310720 ║     1 │ 0.016777   ║ \n",
      "  72 ║  - │   -   ║  47.6860416715 ║   -  │   -  ║ QN │    20 │ 2.621440 ║     1 │ 0.022581   ║ \n",
      "  73 ║  - │   -   ║  47.5337202395 ║   -  │   -  ║ QN │    19 │ 1.310720 ║     1 │ 0.027477   ║ \n",
      "  74 ║  - │   -   ║  47.4158393540 ║   -  │   -  ║ QN │    19 │ 1.310720 ║     1 │ 0.015344   ║ \n",
      "  75 ║  - │   -   ║  47.3638354794 ║   -  │   -  ║ QN │    19 │ 1.310720 ║     1 │ 0.004583   ║ \n",
      "  76 ║  - │   -   ║  47.3313983136 ║   -  │   -  ║ QN │    19 │ 1.310720 ║     1 │ 0.006946   ║ \n",
      "  77 ║  - │   -   ║  47.2799341063 ║   -  │   -  ║ QN │    20 │ 2.621440 ║     1 │ 0.030995   ║ \n",
      "  78 ║  - │   -   ║  47.1396966908 ║   -  │   -  ║ QN │    20 │ 2.621440 ║     1 │ 0.008282   ║ \n",
      "  79 ║  - │   -   ║  47.0030112335 ║   -  │   -  ║ QN │    19 │ 1.310720 ║     1 │ 0.008661   ║ \n",
      "═════╬════════════╬════════════════╬═════════════╬═══════════════════════╬════════════════════╣\n",
      "     ║ Penalty Fn ║                ║  Violation  ║ <--- Line Search ---> ║ <- Stationarity -> ║ \n",
      "Iter ║ Mu │ Value ║    Objective   ║ Ineq │  Eq  ║ SD │ Evals │     t    ║ Grads │    Value   ║ \n",
      "═════╬════════════╬════════════════╬═════════════╬═══════════════════════╬════════════════════╣\n",
      "  80 ║  - │   -   ║  46.8361334128 ║   -  │   -  ║ QN │    20 │ 2.621440 ║     1 │ 0.031037   ║ \n",
      "  81 ║  - │   -   ║  46.7611336877 ║   -  │   -  ║ QN │    18 │ 0.655360 ║     1 │ 0.016138   ║ \n",
      "  82 ║  - │   -   ║  46.7095908653 ║   -  │   -  ║ QN │    18 │ 0.655360 ║     1 │ 0.006613   ║ \n",
      "  83 ║  - │   -   ║  46.6597572599 ║   -  │   -  ║ QN │    19 │ 1.310720 ║     1 │ 0.016505   ║ \n",
      "  84 ║  - │   -   ║  46.5951153104 ║   -  │   -  ║ QN │    20 │ 2.621440 ║     1 │ 0.041232   ║ \n",
      "  85 ║  - │   -   ║  46.4692352124 ║   -  │   -  ║ QN │    20 │ 2.621440 ║     1 │ 0.026110   ║ \n",
      "  86 ║  - │   -   ║  46.3791992878 ║   -  │   -  ║ QN │    19 │ 1.310720 ║     1 │ 0.039686   ║ \n",
      "  87 ║  - │   -   ║  46.3142136181 ║   -  │   -  ║ QN │    19 │ 1.310720 ║     1 │ 0.018079   ║ \n",
      "  88 ║  - │   -   ║  46.2596963130 ║   -  │   -  ║ QN │    19 │ 1.310720 ║     1 │ 0.032265   ║ \n",
      "  89 ║  - │   -   ║  46.2322337258 ║   -  │   -  ║ QN │    19 │ 1.310720 ║     1 │ 0.012532   ║ \n",
      "  90 ║  - │   -   ║  46.1756797788 ║   -  │   -  ║ QN │    20 │ 2.621440 ║     1 │ 0.006345   ║ \n",
      "  91 ║  - │   -   ║  46.1104086860 ║   -  │   -  ║ QN │    19 │ 1.310720 ║     1 │ 0.019413   ║ \n",
      "  92 ║  - │   -   ║  46.0543330642 ║   -  │   -  ║ QN │    19 │ 1.310720 ║     1 │ 0.004237   ║ \n",
      "  93 ║  - │   -   ║  46.0401469398 ║   -  │   -  ║ QN │    19 │ 1.310720 ║     1 │ 0.005835   ║ \n",
      "  94 ║  - │   -   ║  46.0317004219 ║   -  │   -  ║ QN │    19 │ 1.310720 ║     1 │ 0.009064   ║ \n",
      "  95 ║  - │   -   ║  46.0149160202 ║   -  │   -  ║ QN │    19 │ 1.310720 ║     1 │ 0.024961   ║ \n",
      "  96 ║  - │   -   ║  45.9658699629 ║   -  │   -  ║ QN │    20 │ 2.621440 ║     1 │ 0.024075   ║ \n",
      "  97 ║  - │   -   ║  45.8657525091 ║   -  │   -  ║ QN │    20 │ 2.621440 ║     1 │ 0.009520   ║ \n",
      "  98 ║  - │   -   ║  45.7942009645 ║   -  │   -  ║ QN │    19 │ 1.310720 ║     1 │ 0.015062   ║ \n",
      "  99 ║  - │   -   ║  45.7031596993 ║   -  │   -  ║ QN │    20 │ 2.621440 ║     1 │ 0.049435   ║ \n",
      "═════╬════════════╬════════════════╬═════════════╬═══════════════════════╬════════════════════╣\n",
      "     ║ Penalty Fn ║                ║  Violation  ║ <--- Line Search ---> ║ <- Stationarity -> ║ \n",
      "Iter ║ Mu │ Value ║    Objective   ║ Ineq │  Eq  ║ SD │ Evals │     t    ║ Grads │    Value   ║ \n",
      "═════╬════════════╬════════════════╬═════════════╬═══════════════════════╬════════════════════╣\n",
      " 100 ║  - │   -   ║  45.5971478034 ║   -  │   -  ║ QN │    20 │ 2.621440 ║     1 │ 0.051143   ║ \n",
      " 101 ║  - │   -   ║  45.5220980773 ║   -  │   -  ║ QN │    19 │ 1.310720 ║     1 │ 0.005534   ║ \n",
      " 102 ║  - │   -   ║  45.4365538548 ║   -  │   -  ║ QN │    19 │ 1.310720 ║     1 │ 0.044303   ║ \n",
      " 103 ║  - │   -   ║  45.3235897576 ║   -  │   -  ║ QN │    20 │ 2.621440 ║     1 │ 0.046420   ║ \n",
      " 104 ║  - │   -   ║  45.2795083899 ║   -  │   -  ║ QN │    18 │ 0.655360 ║     1 │ 0.047945   ║ \n",
      " 105 ║  - │   -   ║  45.2518103498 ║   -  │   -  ║ QN │    18 │ 0.655360 ║     1 │ 0.037572   ║ \n",
      " 106 ║  - │   -   ║  45.2232833174 ║   -  │   -  ║ QN │    19 │ 1.310720 ║     1 │ 0.004805   ║ \n",
      " 107 ║  - │   -   ║  45.1917584267 ║   -  │   -  ║ QN │    19 │ 1.310720 ║     1 │ 0.005154   ║ \n",
      " 108 ║  - │   -   ║  45.1225843984 ║   -  │   -  ║ QN │    20 │ 2.621440 ║     1 │ 0.134343   ║ \n",
      " 109 ║  - │   -   ║  45.0769336263 ║   -  │   -  ║ QN │    19 │ 1.310720 ║     1 │ 0.017961   ║ \n",
      " 110 ║  - │   -   ║  44.9969866575 ║   -  │   -  ║ QN │    19 │ 1.310720 ║     1 │ 0.055451   ║ \n",
      " 111 ║  - │   -   ║  44.8932531710 ║   -  │   -  ║ QN │    19 │ 1.310720 ║     1 │ 0.089686   ║ \n",
      " 112 ║  - │   -   ║  44.8143177318 ║   -  │   -  ║ QN │    19 │ 1.310720 ║     1 │ 0.090357   ║ \n",
      " 113 ║  - │   -   ║  44.7702859863 ║   -  │   -  ║ QN │    18 │ 0.655360 ║     1 │ 0.039455   ║ \n",
      " 114 ║  - │   -   ║  44.7194343636 ║   -  │   -  ║ QN │    19 │ 1.310720 ║     1 │ 0.003781   ║ \n",
      " 115 ║  - │   -   ║  44.6753123386 ║   -  │   -  ║ QN │    20 │ 2.621440 ║     1 │ 0.013984   ║ \n",
      " 116 ║  - │   -   ║  44.6416881745 ║   -  │   -  ║ QN │    19 │ 1.310720 ║     1 │ 0.037803   ║ \n",
      " 117 ║  - │   -   ║  44.6170605174 ║   -  │   -  ║ QN │    19 │ 1.310720 ║     1 │ 0.003259   ║ \n",
      " 118 ║  - │   -   ║  44.5876116462 ║   -  │   -  ║ QN │    19 │ 1.310720 ║     1 │ 0.008214   ║ \n",
      " 119 ║  - │   -   ║  44.5468096991 ║   -  │   -  ║ QN │    19 │ 1.310720 ║     1 │ 0.002712   ║ \n",
      "═════╬════════════╬════════════════╬═════════════╬═══════════════════════╬════════════════════╣\n",
      "     ║ Penalty Fn ║                ║  Violation  ║ <--- Line Search ---> ║ <- Stationarity -> ║ \n",
      "Iter ║ Mu │ Value ║    Objective   ║ Ineq │  Eq  ║ SD │ Evals │     t    ║ Grads │    Value   ║ \n",
      "═════╬════════════╬════════════════╬═════════════╬═══════════════════════╬════════════════════╣\n",
      " 120 ║  - │   -   ║  44.4839001226 ║   -  │   -  ║ QN │    20 │ 2.621440 ║     1 │ 0.045440   ║ \n",
      " 121 ║  - │   -   ║  44.4452500252 ║   -  │   -  ║ QN │    19 │ 1.310720 ║     1 │ 0.008964   ║ \n",
      " 122 ║  - │   -   ║  44.4059091490 ║   -  │   -  ║ QN │    19 │ 1.310720 ║     1 │ 0.010257   ║ \n"
     ]
    },
    {
     "name": "stdout",
     "output_type": "stream",
     "text": [
      " 123 ║  - │   -   ║  44.3818677576 ║   -  │   -  ║ QN │    19 │ 1.310720 ║     1 │ 0.015555   ║ \n",
      " 124 ║  - │   -   ║  44.3320957575 ║   -  │   -  ║ QN │    20 │ 2.621440 ║     1 │ 0.023744   ║ \n",
      " 125 ║  - │   -   ║  44.2916219805 ║   -  │   -  ║ QN │    19 │ 1.310720 ║     1 │ 0.051375   ║ \n",
      " 126 ║  - │   -   ║  44.2375218730 ║   -  │   -  ║ QN │    19 │ 1.310720 ║     1 │ 0.026404   ║ \n",
      " 127 ║  - │   -   ║  44.1848046243 ║   -  │   -  ║ QN │    20 │ 2.621440 ║     1 │ 0.061272   ║ \n",
      " 128 ║  - │   -   ║  44.1350638007 ║   -  │   -  ║ QN │    20 │ 2.621440 ║     1 │ 0.013494   ║ \n",
      " 129 ║  - │   -   ║  44.1007294212 ║   -  │   -  ║ QN │    19 │ 1.310720 ║     1 │ 0.028383   ║ \n",
      " 130 ║  - │   -   ║  44.0797301652 ║   -  │   -  ║ QN │    19 │ 1.310720 ║     1 │ 0.027683   ║ \n",
      " 131 ║  - │   -   ║  44.0580384852 ║   -  │   -  ║ QN │    19 │ 1.310720 ║     1 │ 0.047017   ║ \n",
      " 132 ║  - │   -   ║  44.0315641782 ║   -  │   -  ║ QN │    19 │ 1.310720 ║     1 │ 0.004895   ║ \n",
      " 133 ║  - │   -   ║  43.9677903196 ║   -  │   -  ║ QN │    20 │ 2.621440 ║     1 │ 0.059638   ║ \n",
      " 134 ║  - │   -   ║  43.8592194461 ║   -  │   -  ║ QN │    20 │ 2.621440 ║     1 │ 0.291592   ║ \n",
      " 135 ║  - │   -   ║  43.6775385624 ║   -  │   -  ║ QN │    19 │ 1.310720 ║     1 │ 0.162429   ║ \n",
      " 136 ║  - │   -   ║  43.5785134761 ║   -  │   -  ║ QN │    18 │ 0.655360 ║     1 │ 0.174317   ║ \n",
      " 137 ║  - │   -   ║  43.4717714348 ║   -  │   -  ║ QN │    19 │ 1.310720 ║     1 │ 0.059821   ║ \n",
      " 138 ║  - │   -   ║  43.3720265647 ║   -  │   -  ║ QN │    20 │ 2.621440 ║     1 │ 0.081020   ║ \n",
      " 139 ║  - │   -   ║  43.3136870924 ║   -  │   -  ║ QN │    19 │ 1.310720 ║     1 │ 0.204172   ║ \n",
      "═════╬════════════╬════════════════╬═════════════╬═══════════════════════╬════════════════════╣\n",
      "     ║ Penalty Fn ║                ║  Violation  ║ <--- Line Search ---> ║ <- Stationarity -> ║ \n",
      "Iter ║ Mu │ Value ║    Objective   ║ Ineq │  Eq  ║ SD │ Evals │     t    ║ Grads │    Value   ║ \n",
      "═════╬════════════╬════════════════╬═════════════╬═══════════════════════╬════════════════════╣\n",
      " 140 ║  - │   -   ║  43.2548153953 ║   -  │   -  ║ QN │    20 │ 2.621440 ║     1 │ 0.070898   ║ \n",
      " 141 ║  - │   -   ║  43.2299037171 ║   -  │   -  ║ QN │    19 │ 1.310720 ║     1 │ 0.342814   ║ \n",
      " 142 ║  - │   -   ║  43.2080770365 ║   -  │   -  ║ QN │    18 │ 0.655360 ║     1 │ 0.052620   ║ \n",
      " 143 ║  - │   -   ║  43.1621935939 ║   -  │   -  ║ QN │    19 │ 1.310720 ║     1 │ 0.017357   ║ \n",
      " 144 ║  - │   -   ║  43.1180017197 ║   -  │   -  ║ QN │    19 │ 1.310720 ║     1 │ 0.052710   ║ \n",
      " 145 ║  - │   -   ║  43.0827655197 ║   -  │   -  ║ QN │    19 │ 1.310720 ║     1 │ 0.026361   ║ \n",
      " 146 ║  - │   -   ║  43.0354126708 ║   -  │   -  ║ QN │    20 │ 2.621440 ║     1 │ 0.064928   ║ \n",
      " 147 ║  - │   -   ║  43.0000284452 ║   -  │   -  ║ QN │    20 │ 2.621440 ║     1 │ 0.132413   ║ \n",
      " 148 ║  - │   -   ║  42.9677885262 ║   -  │   -  ║ QN │    20 │ 2.621440 ║     1 │ 0.112689   ║ \n",
      " 149 ║  - │   -   ║  42.9367187337 ║   -  │   -  ║ QN │    19 │ 1.310720 ║     1 │ 0.142979   ║ \n",
      " 150 ║  - │   -   ║  42.9089458074 ║   -  │   -  ║ QN │    19 │ 1.310720 ║     1 │ 0.070595   ║ \n",
      "═════╩════════════╩════════════════╩═════════════╩═══════════════════════╩════════════════════╣\n",
      "F = final iterate, B = Best (to tolerance), MF = Most Feasible                                ║ \n",
      "Optimization results:                                                                         ║ \n",
      "═════╦════════════╦════════════════╦═════════════╦═══════════════════════╦════════════════════╣\n",
      "   F ║    │       ║  42.9089458074 ║   -  │   -  ║    │       │          ║       │            ║ \n",
      "   B ║    │       ║  42.9089458074 ║   -  │   -  ║    │       │          ║       │            ║ \n",
      "═════╩════════════╩════════════════╩═════════════╩═══════════════════════╩════════════════════╣\n",
      "Iterations:              150                                                                  ║ \n",
      "Function evaluations:    2882                                                                 ║ \n",
      "PyGRANSO termination code: 4 --- max iterations reached.                                      ║ \n",
      "══════════════════════════════════════════════════════════════════════════════════════════════╝\n",
      "Total wall time: 23889.989979743958s\n"
     ]
    }
   ],
   "source": [
    "# Run pygranso\n",
    "start = time.time()\n",
    "soln = pygranso(var_spec=cnn_model, combined_fn=comb_fn, user_opts=opts)\n",
    "end = time.time()\n",
    "print(f'Total wall time: {end - start}s')"
   ]
  },
  {
   "cell_type": "code",
   "execution_count": 12,
   "id": "90da2efd",
   "metadata": {},
   "outputs": [
    {
     "data": {
      "text/plain": [
       "<matplotlib.colorbar.Colorbar at 0x14fe8ab80>"
      ]
     },
     "execution_count": 12,
     "metadata": {},
     "output_type": "execute_result"
    },
    {
     "data": {
      "image/png": "[encoded data removed]",
      "text/plain": [
       "<Figure size 640x480 with 2 Axes>"
      ]
     },
     "metadata": {},
     "output_type": "display_data"
    }
   ],
   "source": [
    "# Get the final frame\n",
    "final_frame = designs[-1].detach().numpy()\n",
    "\n",
    "# Create a figure and axis\n",
    "fig, ax = plt.subplots(1, 1)\n",
    "\n",
    "# Show the structure in grayscale\n",
    "im = ax.imshow(final_frame, cmap='Greys')\n",
    "ax.set_title(\n",
    "    'Multi-story Building 32x64 Density 0.5'\n",
    ")\n",
    "ax.set_ylabel('Height')\n",
    "ax.set_xlabel('Width')\n",
    "ax.grid()\n",
    "fig.colorbar(im, orientation=\"horizontal\", pad=0.2)"
   ]
  },
  {
   "cell_type": "code",
   "execution_count": 18,
   "id": "0ca4c6a6",
   "metadata": {},
   "outputs": [
    {
     "ename": "IndexError",
     "evalue": "index 5 is out of bounds for axis 0 with size 5",
     "output_type": "error",
     "traceback": [
      "\u001b[0;31m---------------------------------------------------------------------------\u001b[0m",
      "\u001b[0;31mIndexError\u001b[0m                                Traceback (most recent call last)",
      "Cell \u001b[0;32mIn [18], line 11\u001b[0m\n\u001b[1;32m      7\u001b[0m axes \u001b[38;5;241m=\u001b[39m axes\u001b[38;5;241m.\u001b[39mflatten()\n\u001b[1;32m      9\u001b[0m \u001b[38;5;28;01mfor\u001b[39;00m idx, frames \u001b[38;5;129;01min\u001b[39;00m \u001b[38;5;28menumerate\u001b[39m(\u001b[38;5;28mrange\u001b[39m(\u001b[38;5;241m0\u001b[39m, \u001b[38;5;241m550\u001b[39m, \u001b[38;5;241m100\u001b[39m)):\n\u001b[1;32m     10\u001b[0m     \u001b[38;5;66;03m# Show the structure in grayscale\u001b[39;00m\n\u001b[0;32m---> 11\u001b[0m     im \u001b[38;5;241m=\u001b[39m \u001b[43maxes\u001b[49m\u001b[43m[\u001b[49m\u001b[43midx\u001b[49m\u001b[43m]\u001b[49m\u001b[38;5;241m.\u001b[39mimshow(designs[frames]\u001b[38;5;241m.\u001b[39mdetach()\u001b[38;5;241m.\u001b[39mnumpy(), cmap\u001b[38;5;241m=\u001b[39m\u001b[38;5;124m'\u001b[39m\u001b[38;5;124mGreys\u001b[39m\u001b[38;5;124m'\u001b[39m)\n\u001b[1;32m     12\u001b[0m     axes[idx]\u001b[38;5;241m.\u001b[39mset_ylabel(\u001b[38;5;124m'\u001b[39m\u001b[38;5;124my\u001b[39m\u001b[38;5;124m'\u001b[39m)\n\u001b[1;32m     13\u001b[0m     axes[idx]\u001b[38;5;241m.\u001b[39mset_xlabel(\u001b[38;5;124m'\u001b[39m\u001b[38;5;124mx\u001b[39m\u001b[38;5;124m'\u001b[39m)\n",
      "\u001b[0;31mIndexError\u001b[0m: index 5 is out of bounds for axis 0 with size 5"
     ]
    },
    {
     "data": {
      "image/png": "[encoded data removed]",
      "text/plain": [
       "<Figure size 900x600 with 5 Axes>"
      ]
     },
     "metadata": {},
     "output_type": "display_data"
    }
   ],
   "source": [
    "# # Get the final frame\n",
    "# # final_frame = render[-1].detach().numpy()\n",
    "# frames = [25, 50, 100, 300, 450]\n",
    "\n",
    "# Create a figure and axis\n",
    "fig, axes = plt.subplots(1, 5, figsize=(9, 6))\n",
    "axes = axes.flatten()\n",
    "\n",
    "for idx, frames in enumerate(range(0, 550, 100)):\n",
    "    # Show the structure in grayscale\n",
    "    im = axes[idx].imshow(designs[frames].detach().numpy(), cmap='Greys')\n",
    "    axes[idx].set_ylabel('y')\n",
    "    axes[idx].set_xlabel('x')\n",
    "    axes[idx].grid()\n",
    "    axes[idx].set_title(f'Step={frames}')\n",
    "    \n",
    "plt.suptitle('Multi-story Building 32x64 Density 0.5')\n",
    "fig.tight_layout()"
   ]
  },
  {
   "cell_type": "code",
   "execution_count": 15,
   "id": "5d376793",
   "metadata": {},
   "outputs": [
    {
     "data": {
      "text/plain": [
       "range(0, 500, 100)"
      ]
     },
     "execution_count": 15,
     "metadata": {},
     "output_type": "execute_result"
    }
   ],
   "source": [
    "range(0, 500, 100)"
   ]
  },
  {
   "cell_type": "code",
   "execution_count": null,
   "id": "8ed2ab90",
   "metadata": {},
   "outputs": [],
   "source": []
  }
 ],
 "metadata": {
  "kernelspec": {
   "display_name": "Python 3 (ipykernel)",
   "language": "python",
   "name": "python3"
  },
  "language_info": {
   "codemirror_mode": {
    "name": "ipython",
    "version": 3
   },
   "file_extension": ".py",
   "mimetype": "text/x-python",
   "name": "python",
   "nbconvert_exporter": "python",
   "pygments_lexer": "ipython3",
   "version": "3.9.11"
  }
 },
 "nbformat": 4,
 "nbformat_minor": 5
}
