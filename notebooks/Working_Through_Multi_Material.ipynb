{
 "cells": [
  {
   "cell_type": "code",
   "execution_count": 1,
   "id": "949cc8d6-3c37-4747-8d84-fcbccd308449",
   "metadata": {},
   "outputs": [
    {
     "data": {
      "text/plain": [
       "'/Users/ryandevera/data-science/tesorio/NCVX-Neural-Structural-Optimization/notebooks'"
      ]
     },
     "execution_count": 1,
     "metadata": {},
     "output_type": "execute_result"
    }
   ],
   "source": [
    "%pwd"
   ]
  },
  {
   "cell_type": "code",
   "execution_count": 2,
   "id": "dc2ae01c-5edc-4f8f-a391-65edf8e96dc1",
   "metadata": {},
   "outputs": [
    {
     "name": "stdout",
     "output_type": "stream",
     "text": [
      "/Users/ryandevera/data-science/tesorio/NCVX-Neural-Structural-Optimization\n"
     ]
    }
   ],
   "source": [
    "%cd .."
   ]
  },
  {
   "cell_type": "code",
   "execution_count": 3,
   "id": "a4d226a1-b723-4016-b021-ff1260216d6e",
   "metadata": {},
   "outputs": [
    {
     "name": "stderr",
     "output_type": "stream",
     "text": [
      "2023-02-25 14:41:08.001198: I tensorflow/core/platform/cpu_feature_guard.cc:182] This TensorFlow binary is optimized to use available CPU instructions in performance-critical operations.\n",
      "To enable the following instructions: AVX2 FMA, in other operations, rebuild TensorFlow with the appropriate compiler flags.\n",
      "2023-02-25 14:41:09.620824: I tensorflow/core/common_runtime/local_device.cc:158] LocalDevice using CPU work thread pool: 0x7fd70e579950, num_threads=16\n",
      "2023-02-25 14:41:09.638180: I tensorflow/core/common_runtime/local_device.cc:158] LocalDevice using CPU work thread pool: 0x7fd70e579950, num_threads=16\n",
      "2023-02-25 14:41:09.639845: I tensorflow/core/common_runtime/local_device.cc:158] LocalDevice using CPU work thread pool: 0x7fd70e579950, num_threads=16\n",
      "2023-02-25 14:41:09.640916: I tensorflow/core/common_runtime/local_device.cc:158] LocalDevice using CPU work thread pool: 0x7fd70e579950, num_threads=16\n",
      "2023-02-25 14:41:09.642320: I tensorflow/core/common_runtime/local_device.cc:158] LocalDevice using CPU work thread pool: 0x7fd70e579950, num_threads=16\n",
      "2023-02-25 14:41:09.643154: I tensorflow/core/common_runtime/local_device.cc:158] LocalDevice using CPU work thread pool: 0x7fd70e579950, num_threads=16\n",
      "2023-02-25 14:41:09.644044: I tensorflow/core/common_runtime/local_device.cc:158] LocalDevice using CPU work thread pool: 0x7fd70e579950, num_threads=16\n"
     ]
    }
   ],
   "source": [
    "import matplotlib.pyplot as plt\n",
    "import neptune.new as neptune\n",
    "import neural_structural_optimization.problems as google_problems\n",
    "import numpy as np\n",
    "import pandas as pd\n",
    "import torch\n",
    "\n",
    "# first party\n",
    "import problems\n",
    "import train\n",
    "import utils\n",
    "from matplotlib import colors\n",
    "\n",
    "# Extra imports\n",
    "import numpy as np\n",
    "import pandas as pd\n",
    "import tensorflow as tf\n",
    "import torch\n",
    "import torch.nn as nn\n",
    "import torch.optim as optim\n",
    "import xarray\n",
    "from pygranso.private.getNvar import getNvarTorch\n",
    "from pygranso.pygranso import pygranso\n",
    "from pygranso.pygransoStruct import pygransoStruct\n",
    "\n",
    "# first party\n",
    "import models\n",
    "import topo_api\n",
    "import topo_physics\n",
    "import utils\n",
    "\n",
    "# stdlib\n",
    "import gc\n",
    "import time"
   ]
  },
  {
   "cell_type": "code",
   "execution_count": 4,
   "id": "375229a1-1d84-4d6d-92f1-dcbc752a5075",
   "metadata": {},
   "outputs": [],
   "source": [
    "problem_name = 'mbb_beam_96x32_0.5'\n",
    "device = torch.device('cpu')\n",
    "\n",
    "PROBLEMS_BY_NAME = problems.build_problems_by_name(device=device)\n",
    "problem = PROBLEMS_BY_NAME.get(problem_name)"
   ]
  },
  {
   "cell_type": "code",
   "execution_count": 5,
   "id": "c559e79f-70de-4f7c-8333-09d5dfa7d85e",
   "metadata": {},
   "outputs": [],
   "source": [
    "def volume_constrained_structural_optimization_function(\n",
    "    model, initial_compliance, ke, args, device, dtype\n",
    "):\n",
    "    \"\"\"\n",
    "    Combined function for PyGranso for the structural optimization\n",
    "    problem. The inputs will be the model that reparameterizes x as a function\n",
    "    of a neural network. V0 is the initial volume, K is the global stiffness\n",
    "    matrix and F is the forces that are applied in the problem.\n",
    "\n",
    "    Notes:\n",
    "    For the original MBB Beam the best alpha is 5e3\n",
    "    \"\"\"\n",
    "    # Initialize the model\n",
    "    # In my version of the model it follows the similar behavior of the\n",
    "    # tensorflow repository and only needs None to initialize and output\n",
    "    # a first value of x\n",
    "\n",
    "    unscaled_compliance, x_phys, mask = topo_physics.calculate_compliance(\n",
    "        model, ke, args, device, dtype\n",
    "    )\n",
    "    f = 1.0 / initial_compliance * unscaled_compliance\n",
    "\n",
    "    # Run this problem with no inequality constraints\n",
    "    ci = None\n",
    "\n",
    "    ce = pygransoStruct()\n",
    "    num_materials = len(args['e_materials'])\n",
    "    total_mass = (\n",
    "        torch.max(args['material_density_weight'])\n",
    "        * args['nelx']\n",
    "        * args['nely']\n",
    "        * args['combined_frac']\n",
    "    )\n",
    "    \n",
    "    mass_constraint = torch.zeros(num_materials)\n",
    "    for index, density_weight in enumerate(args['material_density_weight']):\n",
    "        mass_constraint[index] = density_weight * torch.sum(x_phys[:, index + 1])\n",
    "        \n",
    "    c1 = torch.abs((torch.sum(mass_constraint) / total_mass) - 1.0)\n",
    "    ce.c1 = c1  # noqa\n",
    "\n",
    "    # # Let's try and clear as much stuff as we can to preserve memory\n",
    "    del x_phys, mask, ke\n",
    "    gc.collect()\n",
    "    torch.cuda.empty_cache()\n",
    "\n",
    "    return f, ci, ce"
   ]
  },
  {
   "cell_type": "code",
   "execution_count": 6,
   "id": "a2b70060-e61f-4951-a6ec-c8fd17408d43",
   "metadata": {},
   "outputs": [],
   "source": [
    "# Get the problem args\n",
    "args = topo_api.specified_task(problem, device=device)\n",
    "\n",
    "# Let's set up the multi-material problem\n",
    "args['e_materials'] = torch.tensor([2.0, 1.0], dtype=torch.double)\n",
    "args['combined_frac'] = torch.tensor([0.4], dtype=torch.double)\n",
    "args['material_density_weight'] = torch.tensor([1.0, 0.7], dtype=torch.double) \n",
    "\n",
    "# Create the stiffness matrix\n",
    "ke = topo_physics.get_stiffness_matrix(\n",
    "    young=args[\"young\"],\n",
    "    poisson=args[\"poisson\"],\n",
    "    device=device,\n",
    ").double()"
   ]
  },
  {
   "cell_type": "code",
   "execution_count": 7,
   "id": "db4313db-1847-47b3-831b-a8fc5705b09a",
   "metadata": {},
   "outputs": [
    {
     "name": "stderr",
     "output_type": "stream",
     "text": [
      "/Users/ryandevera/.virtualenvs/ncvx/lib/python3.9/site-packages/torch/functional.py:504: UserWarning: torch.meshgrid: in an upcoming release, it will be required to pass the indexing argument. (Triggered internally at /Users/runner/work/pytorch/pytorch/pytorch/aten/src/ATen/native/TensorShape.cpp:3191.)\n",
      "  return _VF.meshgrid(tensors, **kwargs)  # type: ignore[attr-defined]\n"
     ]
    }
   ],
   "source": [
    "seed = 0\n",
    "\n",
    "np.random.seed(seed)\n",
    "torch.random.manual_seed(seed)\n",
    "torch.cuda.manual_seed(seed)\n",
    "torch.backends.cudnn.deterministic = True\n",
    "torch.backends.cudnn.benchmark = False\n",
    "\n",
    "cnn_model = models.CNNModel(args).to(device=device, dtype=torch.double)\n",
    "\n",
    "# Calculate initial compliance\n",
    "initial_compliance, x_phys, _ = topo_physics.calculate_compliance(\n",
    "    cnn_model, ke, args, device, torch.double\n",
    ")\n",
    "initial_compliance = (\n",
    "    torch.ceil(initial_compliance.to(torch.float64).detach()) + 1.0\n",
    ")\n",
    "\n",
    "total_mass = args['volfrac'] * args['nelx'] * args['nely']"
   ]
  },
  {
   "cell_type": "code",
   "execution_count": 8,
   "id": "a63a7348-3539-4238-b923-64409740f719",
   "metadata": {},
   "outputs": [
    {
     "data": {
      "text/plain": [
       "tensor(1138., dtype=torch.float64)"
      ]
     },
     "execution_count": 8,
     "metadata": {},
     "output_type": "execute_result"
    }
   ],
   "source": [
    "initial_compliance"
   ]
  },
  {
   "cell_type": "code",
   "execution_count": 9,
   "id": "3622d34a-0782-4b0b-a44c-5fd1919b53fe",
   "metadata": {},
   "outputs": [
    {
     "name": "stdout",
     "output_type": "stream",
     "text": [
      "\n",
      "\n",
      "\u001b[33m╔═════ QP SOLVER NOTICE ════════════════════════════════════════════════════════════════════════╗\n",
      "\u001b[0m\u001b[33m║  PyGRANSO requires a quadratic program (QP) solver that has a quadprog-compatible interface,  ║\n",
      "\u001b[0m\u001b[33m║  the default is osqp. Users may provide their own wrapper for the QP solver.                  ║\n",
      "\u001b[0m\u001b[33m║  To disable this notice, set opts.quadprog_info_msg = False                                   ║\n",
      "\u001b[0m\u001b[33m╚═══════════════════════════════════════════════════════════════════════════════════════════════╝\n",
      "\u001b[0m═════════════════════════════════════════════════════════════════════════════════════════════════════════════════╗\n",
      "PyGRANSO: A PyTorch-enabled port of GRANSO with auto-differentiation                                             ║ \n",
      "Version 1.2.0                                                                                                    ║ \n",
      "Licensed under the AGPLv3, Copyright (C) 2021-2022 Tim Mitchell and Buyun Liang                                  ║ \n",
      "═════════════════════════════════════════════════════════════════════════════════════════════════════════════════╣\n",
      "Problem specifications:                                                                                          ║ \n",
      " # of variables                     :   672291                                                                   ║ \n",
      " # of inequality constraints        :        0                                                                   ║ \n",
      " # of equality constraints          :        1                                                                   ║ \n",
      "═════════════════════════════════════════════════════════════════════════════════════════════════════════════════╣\n",
      "\u001b[33mLimited-memory mode enabled with size = 20.                                                                     \u001b[0m ║ \n",
      "\u001b[33mNOTE: limited-memory mode is generally NOT                                                                      \u001b[0m ║ \n",
      "\u001b[33mrecommended for nonsmooth problems.                                                                             \u001b[0m ║ \n",
      "═════╦═══════════════════════════╦════════════════╦═════════════════╦═══════════════════════╦════════════════════╣\n",
      "     ║ <--- Penalty Function --> ║                ║ Total Violation ║ <--- Line Search ---> ║ <- Stationarity -> ║ \n",
      "Iter ║    Mu    │      Value     ║    Objective   ║ Ineq │    Eq    ║ SD │ Evals │     t    ║ Grads │    Value   ║ \n",
      "═════╬═══════════════════════════╬════════════════╬═════════════════╬═══════════════════════╬════════════════════╣\n",
      "   0 ║ 1.000000 │  1.32309850189 ║  0.99909814331 ║   -  │ 0.324000 ║ -  │     1 │ 0.000000 ║     1 │ 0.899786   ║ \n",
      "   1 ║ 0.430467 │  0.65124041996 ║  0.83308401200 ║   -  │ 0.292625 ║ S  │     5 │ 0.062500 ║     1 │ 0.385589   ║ \n"
     ]
    },
    {
     "name": "stderr",
     "output_type": "stream",
     "text": [
      "/Users/ryandevera/.virtualenvs/ncvx/lib/python3.9/site-packages/pygranso/private/bfgsHessianInverseLimitedMem.py:237: UserWarning: The use of `x.T` on tensors of dimension other than 2 to reverse their shape is deprecated and it will throw an error in a future release. Consider `x.mT` to transpose batches of matrices or `x.permute(*torch.arange(x.ndim - 1, -1, -1))` to reverse the dimensions of a tensor. (Triggered internally at /Users/runner/work/pytorch/pytorch/pytorch/aten/src/ATen/native/TensorShape.cpp:3281.)\n",
      "  alpha[j,:]  = self.rho[0,j] * (self.S[:,j].T  @ q)\n"
     ]
    },
    {
     "name": "stdout",
     "output_type": "stream",
     "text": [
      "   2 ║ 0.430467 │  0.49083836855 ║  0.61248873754 ║   -  │ 0.227182 ║ S  │     1 │ 1.000000 ║     1 │ 0.008551   ║ \n",
      "   3 ║ 0.313811 │  0.38050367513 ║  0.67511124229 ║   -  │ 0.168647 ║ S  │     1 │ 1.000000 ║     1 │ 0.008707   ║ \n",
      "   4 ║ 0.313811 │  0.32608786594 ║  0.95880290785 ║   -  │ 0.025205 ║ S  │     1 │ 1.000000 ║     1 │ 0.019742   ║ \n",
      "   5 ║ 0.282430 │  0.22078265095 ║  0.60593143926 ║   -  │ 0.049650 ║ S  │     1 │ 1.000000 ║     1 │ 0.004177   ║ \n",
      "   6 ║ 0.282430 │  0.16128762161 ║  0.52765907890 ║   -  │ 0.012261 ║ S  │     1 │ 1.000000 ║     1 │ 0.002110   ║ \n",
      "   7 ║ 0.282430 │  0.13217254604 ║  0.43727478638 ║   -  │ 0.008673 ║ S  │     2 │ 2.000000 ║     1 │ 0.001173   ║ \n",
      "   8 ║ 0.282430 │  0.10367526227 ║  0.35893542842 ║   -  │ 0.002301 ║ S  │     1 │ 1.000000 ║     1 │ 0.001416   ║ \n",
      "   9 ║ 0.282430 │  0.09166325507 ║  0.31248087842 ║   -  │ 0.003409 ║ S  │     1 │ 1.000000 ║     1 │ 0.001205   ║ \n",
      "  10 ║ 0.282430 │  0.09004620774 ║  0.28131421164 ║   -  │ 0.010595 ║ S  │     3 │ 0.250000 ║     1 │ 0.028489   ║ \n",
      "  11 ║ 0.282430 │  0.07193372732 ║  0.25021027145 ║   -  │ 0.001267 ║ S  │     1 │ 1.000000 ║     1 │ 0.001199   ║ \n",
      "  12 ║ 0.282430 │  0.06855913756 ║  0.24203922067 ║   -  │ 2.00e-04 ║ S  │     1 │ 1.000000 ║     1 │ 0.001103   ║ \n",
      "  13 ║ 0.282430 │  0.06558467370 ║  0.22703123567 ║   -  │ 0.001464 ║ S  │     3 │ 0.250000 ║     1 │ 0.006045   ║ \n",
      "  14 ║ 0.282430 │  0.06235019016 ║  0.21807023698 ║   -  │ 7.61e-04 ║ S  │     1 │ 1.000000 ║     1 │ 0.001493   ║ \n",
      "  15 ║ 0.282430 │  0.06094151199 ║  0.21305550804 ║   -  │ 7.68e-04 ║ S  │     1 │ 1.000000 ║     1 │ 8.01e-04   ║ \n",
      "  16 ║ 0.282430 │  0.05843592747 ║  0.20623523258 ║   -  │ 1.89e-04 ║ S  │     2 │ 0.500000 ║     1 │ 0.005962   ║ \n",
      "  17 ║ 0.282430 │  0.05663779235 ║  0.20039202030 ║   -  │ 4.12e-05 ║ S  │     1 │ 1.000000 ║     1 │ 0.002652   ║ \n",
      "  18 ║ 0.282430 │  0.05545048360 ║  0.19610158146 ║   -  │ 6.56e-05 ║ S  │     1 │ 1.000000 ║     1 │ 0.012756   ║ \n",
      "  19 ║ 0.282430 │  0.05438631131 ║  0.18993860872 ║   -  │ 7.42e-04 ║ S  │     1 │ 1.000000 ║     1 │ 0.001842   ║ \n",
      "═════╬═══════════════════════════╬════════════════╬═════════════════╬═══════════════════════╬════════════════════╣\n",
      "     ║ <--- Penalty Function --> ║                ║ Total Violation ║ <--- Line Search ---> ║ <- Stationarity -> ║ \n",
      "Iter ║    Mu    │      Value     ║    Objective   ║ Ineq │    Eq    ║ SD │ Evals │     t    ║ Grads │    Value   ║ \n",
      "═════╬═══════════════════════════╬════════════════╬═════════════════╬═══════════════════════╬════════════════════╣\n",
      "  20 ║ 0.121577 │  0.02364115728 ║  0.18762732926 ║   -  │ 8.30e-04 ║ S  │     5 │ 0.062500 ║     1 │ 0.003522   ║ \n",
      "  21 ║ 0.121577 │  0.02311466030 ║  0.18777629415 ║   -  │ 2.85e-04 ║ S  │     5 │ 1.125000 ║     1 │ 0.001559   ║ \n",
      "  22 ║ 0.121577 │  0.02297207168 ║  0.18337017476 ║   -  │ 6.79e-04 ║ S  │     1 │ 1.000000 ║     1 │ 5.22e-04   ║ \n",
      "  23 ║ 0.121577 │  0.02276398535 ║  0.18204984056 ║   -  │ 6.31e-04 ║ S  │     2 │ 2.000000 ║     1 │ 0.001794   ║ \n",
      "  24 ║ 0.121577 │  0.02224481640 ║  0.18087473865 ║   -  │ 2.55e-04 ║ S  │     1 │ 1.000000 ║     1 │ 7.47e-04   ║ \n",
      "  25 ║ 0.121577 │  0.02180808010 ║  0.17927555373 ║   -  │ 1.24e-05 ║ S  │     1 │ 1.000000 ║     1 │ 6.89e-04   ║ \n",
      "  26 ║ 0.121577 │  0.02148465666 ║  0.17273487202 ║   -  │ 4.84e-04 ║ S  │     1 │ 1.000000 ║     1 │ 0.002583   ║ \n",
      "  27 ║ 0.121577 │  0.02131426654 ║  0.17131522864 ║   -  │ 4.86e-04 ║ S  │     1 │ 1.000000 ║     1 │ 4.33e-04   ║ \n",
      "  28 ║ 0.121577 │  0.02110463138 ║  0.16987135519 ║   -  │ 4.52e-04 ║ S  │     2 │ 2.000000 ║     1 │ 0.004813   ║ \n",
      "  29 ║ 0.121577 │  0.02060776315 ║  0.16938203961 ║   -  │ 1.49e-05 ║ S  │     1 │ 1.000000 ║     1 │ 0.003444   ║ \n",
      "  30 ║ 0.121577 │  0.02054386817 ║  0.16845692151 ║   -  │ 6.34e-05 ║ S  │     1 │ 1.000000 ║     1 │ 1.33e-04   ║ \n",
      "  31 ║ 0.121577 │  0.02020268817 ║  0.16579460036 ║   -  │ 4.59e-05 ║ S  │     1 │ 1.000000 ║     1 │ 0.001308   ║ \n",
      "  32 ║ 0.121577 │  0.01979797792 ║  0.16182187203 ║   -  │ 1.24e-04 ║ S  │     1 │ 1.000000 ║     1 │ 2.66e-04   ║ \n",
      "  33 ║ 0.121577 │  0.01975339253 ║  0.16148521500 ║   -  │ 1.21e-04 ║ S  │     2 │ 2.000000 ║     1 │ 3.36e-04   ║ \n",
      "  34 ║ 0.121577 │  0.01953244431 ║  0.15987540271 ║   -  │ 9.53e-05 ║ S  │     3 │ 1.500000 ║     1 │ 4.75e-04   ║ \n",
      "  35 ║ 0.121577 │  0.01947598122 ║  0.15934561039 ║   -  │ 1.03e-04 ║ S  │     1 │ 1.000000 ║     1 │ 3.33e-04   ║ \n",
      "  36 ║ 0.121577 │  0.01945882630 ║  0.15874529282 ║   -  │ 1.59e-04 ║ S  │     2 │ 0.500000 ║     1 │ 0.001903   ║ \n",
      "  37 ║ 0.121577 │  0.01935446575 ║  0.15767772054 ║   -  │ 1.85e-04 ║ S  │     1 │ 1.000000 ║     1 │ 9.69e-04   ║ \n",
      "  38 ║ 0.121577 │  0.01931086821 ║  0.15644481537 ║   -  │ 2.91e-04 ║ S  │     2 │ 0.500000 ║     1 │ 0.002937   ║ \n",
      "  39 ║ 0.121577 │  0.01910600612 ║  0.15486436034 ║   -  │ 2.78e-04 ║ S  │     1 │ 1.000000 ║     1 │ 8.28e-04   ║ \n",
      "═════╬═══════════════════════════╬════════════════╬═════════════════╬═══════════════════════╬════════════════════╣\n",
      "     ║ <--- Penalty Function --> ║                ║ Total Violation ║ <--- Line Search ---> ║ <- Stationarity -> ║ \n",
      "Iter ║    Mu    │      Value     ║    Objective   ║ Ineq │    Eq    ║ SD │ Evals │     t    ║ Grads │    Value   ║ \n",
      "═════╬═══════════════════════════╬════════════════╬═════════════════╬═══════════════════════╬════════════════════╣\n",
      "  40 ║ 0.121577 │  0.01899921218 ║  0.15427782249 ║   -  │ 2.43e-04 ║ S  │     2 │ 2.000000 ║     1 │ 6.05e-04   ║ \n",
      "  41 ║ 0.121577 │  0.01875320442 ║  0.15415885576 ║   -  │ 1.11e-05 ║ S  │     1 │ 1.000000 ║     1 │ 0.001781   ║ \n",
      "  42 ║ 0.121577 │  0.01870686344 ║  0.15384305753 ║   -  │ 3.14e-06 ║ S  │     1 │ 1.000000 ║     1 │ 0.001916   ║ \n",
      "  43 ║ 0.121577 │  0.01869252744 ║  0.15358296355 ║   -  │ 2.04e-05 ║ S  │     1 │ 1.000000 ║     1 │ 0.003004   ║ \n",
      "  44 ║ 0.121577 │  0.01864609715 ║  0.15321250171 ║   -  │ 1.90e-05 ║ S  │     4 │ 0.125000 ║     1 │ 0.016258   ║ \n",
      "  45 ║ 0.121577 │  0.01864500438 ║  0.15315448699 ║   -  │ 2.50e-05 ║ S  │     4 │ 0.125000 ║     1 │ 6.22e-04   ║ \n",
      "  46 ║ 0.121577 │  0.01860905378 ║  0.15288656549 ║   -  │ 2.16e-05 ║ S  │     1 │ 1.000000 ║     1 │ 4.98e-04   ║ \n",
      "  47 ║ 0.121577 │  0.01856151649 ║  0.15261175125 ║   -  │ 7.49e-06 ║ S  │     2 │ 0.500000 ║     1 │ 6.78e-04   ║ \n",
      "  48 ║ 0.079766 │  0.01217589118 ║  0.15253294017 ║   -  │ 8.88e-06 ║ S  │     5 │ 0.062500 ║     1 │ 0.001578   ║ \n",
      "  49 ║ 0.079766 │  0.01217574077 ║  0.15249742871 ║   -  │ 1.16e-05 ║ S  │     5 │ 0.062500 ║     1 │ 0.001946   ║ \n",
      "  50 ║ 0.079766 │  0.01217453517 ║  0.15231792192 ║   -  │ 2.47e-05 ║ S  │     2 │ 0.500000 ║     1 │ 6.48e-04   ║ \n",
      "  51 ║ 0.079766 │  0.01216446172 ║  0.15215277864 ║   -  │ 2.78e-05 ║ S  │     1 │ 1.000000 ║     1 │ 3.62e-04   ║ \n",
      "  52 ║ 0.079766 │  0.01216353238 ║  0.15210750209 ║   -  │ 3.05e-05 ║ S  │     5 │ 0.062500 ║     1 │ 0.001154   ║ \n",
      "  53 ║ 0.079766 │  0.01212438157 ║  0.15173748778 ║   -  │ 2.08e-05 ║ S  │     1 │ 1.000000 ║     1 │ 0.001002   ║ \n",
      "  54 ║ 0.079766 │  0.01212206150 ║  0.15168847562 ║   -  │ 2.24e-05 ║ S  │     5 │ 0.062500 ║     1 │ 0.013898   ║ \n",
      "  55 ║ 0.079766 │  0.01210225506 ║  0.15147753216 ║   -  │ 1.94e-05 ║ S  │     1 │ 1.000000 ║     1 │ 7.53e-04   ║ \n",
      "  56 ║ 0.079766 │  0.01207292421 ║  0.15135043412 ║   -  │ 2.38e-07 ║ S  │     4 │ 0.125000 ║     1 │ 0.001262   ║ \n",
      "  57 ║ 0.079766 │  0.01206904983 ║  0.15111131647 ║   -  │ 1.54e-05 ║ S  │     1 │ 1.000000 ║     1 │ 3.90e-04   ║ \n",
      "  58 ║ 0.079766 │  0.01206648199 ║  0.15073165813 ║   -  │ 4.32e-05 ║ S  │     2 │ 0.500000 ║     1 │ 8.29e-04   ║ \n",
      "  59 ║ 0.079766 │  0.01200026259 ║  0.15043801006 ║   -  │ 3.58e-07 ║ S  │     1 │ 1.000000 ║     1 │ 0.002287   ║ \n",
      "═════╬═══════════════════════════╬════════════════╬═════════════════╬═══════════════════════╬════════════════════╣\n",
      "     ║ <--- Penalty Function --> ║                ║ Total Violation ║ <--- Line Search ---> ║ <- Stationarity -> ║ \n",
      "Iter ║    Mu    │      Value     ║    Objective   ║ Ineq │    Eq    ║ SD │ Evals │     t    ║ Grads │    Value   ║ \n",
      "═════╬═══════════════════════════╬════════════════╬═════════════════╬═══════════════════════╬════════════════════╣\n",
      "  60 ║ 0.079766 │  0.01197434200 ║  0.15003608822 ║   -  │ 6.50e-06 ║ S  │     3 │ 0.250000 ║     1 │ 0.003247   ║ \n",
      "  61 ║ 0.064611 │  0.00969889893 ║  0.14996439634 ║   -  │ 9.58e-06 ║ S  │     6 │ 0.031250 ║     1 │ 0.001889   ║ \n",
      "  62 ║ 0.064611 │  0.00969842955 ║  0.14995251906 ║   -  │ 9.87e-06 ║ S  │     6 │ 0.031250 ║     1 │ 6.95e-04   ║ \n",
      "  63 ║ 0.064611 │  0.00969608721 ║  0.14977942578 ║   -  │ 1.87e-05 ║ S  │     4 │ 0.375000 ║     1 │ 4.91e-04   ║ \n",
      "  64 ║ 0.064611 │  0.00969334151 ║  0.14962930268 ║   -  │ 2.57e-05 ║ S  │     4 │ 0.125000 ║     1 │ 7.44e-04   ║ \n",
      "  65 ║ 0.064611 │  0.00965761219 ║  0.14946991746 ║   -  │ 2.38e-07 ║ S  │     1 │ 1.000000 ║     1 │ 4.38e-04   ║ \n",
      "  66 ║ 0.064611 │  0.00965745315 ║  0.14944408552 ║   -  │ 1.75e-06 ║ S  │     3 │ 0.250000 ║     1 │ 3.65e-04   ║ \n",
      "  67 ║ 0.042391 │  0.00633583558 ║  0.14938954263 ║   -  │ 3.04e-06 ║ S  │     3 │ 0.250000 ║     1 │ 5.34e-04   ║ \n",
      "  68 ║ 0.042391 │  0.00633011557 ║  0.14932538038 ║   -  │ 3.97e-08 ║ S  │     4 │ 0.375000 ║     1 │ 8.03e-04   ║ \n",
      "  69 ║ 0.022528 │  0.00336398258 ║  0.14932009857 ║   -  │ 3.97e-08 ║ S  │    13 │ 2.44e-04 ║     1 │ 0.003041   ║ \n",
      "  70 ║ 0.022528 │  0.00336398087 ║  0.14930238439 ║   -  │ 4.37e-07 ║ S  │     3 │ 0.250000 ║     1 │ 0.001063   ║ \n",
      "  71 ║ 0.022528 │  0.00336393831 ║  0.14930049545 ║   -  │ 4.37e-07 ║ S  │    11 │ 0.004883 ║     1 │ 0.001382   ║ \n",
      "  72 ║ 0.022528 │  0.00336212351 ║  0.14923669553 ║   -  │ 5.96e-08 ║ S  │     4 │ 0.125000 ║     1 │ 0.003591   ║ \n",
      "  73 ║ 0.022528 │  0.00336139203 ║  0.14915219316 ║   -  │ 1.23e-06 ║ S  │     5 │ 0.187500 ║     1 │ 0.005604   ║ \n",
      "  74 ║ 0.011973 │  0.00178687213 ║  0.14914496019 ║   -  │ 1.23e-06 ║ S  │     8 │ 0.007812 ║     1 │ 0.002014   ║ \n",
      "  75 ║ 0.011973 │  0.00178551930 ║  0.14900541409 ║   -  │ 1.55e-06 ║ S  │     3 │ 0.750000 ║     1 │ 5.70e-04   ║ \n",
      "  76 ║ 0.011973 │  0.00178494875 ║  0.14889303887 ║   -  │ 2.32e-06 ║ S  │     6 │ 0.093750 ║     1 │ 5.21e-04   ║ \n",
      "  77 ║ 0.011973 │  0.00178483516 ║  0.14882546951 ║   -  │ 3.02e-06 ║ S  │     1 │ 1.000000 ║     1 │ 2.13e-04   ║ \n",
      "  78 ║ 0.011973 │  0.00178482493 ║  0.14872504538 ║   -  │ 4.21e-06 ║ S  │     2 │ 0.500000 ║     1 │ 0.002966   ║ \n",
      "  79 ║ 0.011973 │  0.00178157496 ║  0.14868426175 ║   -  │ 1.45e-06 ║ S  │     1 │ 1.000000 ║     1 │ 1.15e-04   ║ \n",
      "═════╬═══════════════════════════╬════════════════╬═════════════════╬═══════════════════════╬════════════════════╣\n",
      "     ║ <--- Penalty Function --> ║                ║ Total Violation ║ <--- Line Search ---> ║ <- Stationarity -> ║ \n",
      "Iter ║    Mu    │      Value     ║    Objective   ║ Ineq │    Eq    ║ SD │ Evals │     t    ║ Grads │    Value   ║ \n",
      "═════╬═══════════════════════════╬════════════════╬═════════════════╬═══════════════════════╬════════════════════╣\n",
      "  80 ║ 0.011973 │  0.00178139197 ║  0.14863744688 ║   -  │ 1.83e-06 ║ S  │     1 │ 1.000000 ║     1 │ 4.75e-04   ║ \n",
      "  81 ║ 0.011973 │  0.00177897061 ║  0.14838541919 ║   -  │ 2.42e-06 ║ S  │     6 │ 0.281250 ║     1 │ 1.33e-04   ║ \n",
      "  82 ║ 0.011973 │  0.00177737454 ║  0.14835997454 ║   -  │ 1.13e-06 ║ S  │     1 │ 1.000000 ║     1 │ 8.40e-05   ║ \n",
      "═════╩═══════════════════════════╩════════════════╩═════════════════╩═══════════════════════╩════════════════════╣\n",
      "F = final iterate, B = Best (to tolerance), MF = Most Feasible                                                   ║ \n",
      "Optimization results:                                                                                            ║ \n",
      "═════╦═══════════════════════════╦════════════════╦═════════════════╦═══════════════════════╦════════════════════╣\n",
      "   F ║          │                ║  0.14835997454 ║   -  │ 1.13e-06 ║    │       │          ║       │            ║ \n",
      "   B ║          │                ║  0.14835997454 ║   -  │ 1.13e-06 ║    │       │          ║       │            ║ \n",
      "  MF ║          │                ║  0.14932009857 ║   -  │ 3.97e-08 ║    │       │          ║       │            ║ \n",
      "═════╩═══════════════════════════╩════════════════╩═════════════════╩═══════════════════════╩════════════════════╣\n",
      "Iterations:              82                                                                                      ║ \n",
      "Function evaluations:    213                                                                                     ║ \n",
      "PyGRANSO termination code: 0 --- converged to stationarity and feasibility tolerances.                           ║ \n",
      "═════════════════════════════════════════════════════════════════════════════════════════════════════════════════╝\n"
     ]
    }
   ],
   "source": [
    "# Combined function\n",
    "comb_fn = lambda model: volume_constrained_structural_optimization_function(  # noqa\n",
    "    cnn_model,\n",
    "    initial_compliance,\n",
    "    ke,\n",
    "    args,\n",
    "    device=device,\n",
    "    dtype=torch.double,\n",
    ")\n",
    "\n",
    "# Initalize the pygranso options\n",
    "opts = pygransoStruct()\n",
    "\n",
    "# Set the device\n",
    "opts.torch_device = device\n",
    "\n",
    "# Setup the intitial inputs for the solver\n",
    "nvar = getNvarTorch(cnn_model.parameters())\n",
    "opts.x0 = (\n",
    "    torch.nn.utils.parameters_to_vector(cnn_model.parameters())\n",
    "    .detach()\n",
    "    .reshape(nvar, 1)\n",
    ").to(device=device, dtype=torch.double)\n",
    "\n",
    "# Additional pygranso options\n",
    "opts.limited_mem_size = 20\n",
    "opts.torch_device = device\n",
    "opts.double_precision = True\n",
    "opts.mu0 = 1.0\n",
    "opts.maxit = 1500\n",
    "opts.print_frequency = 1\n",
    "opts.stat_l2_model = False\n",
    "opts.viol_eq_tol = 1e-4\n",
    "opts.opt_tol = 1e-4\n",
    "\n",
    "mHLF_obj = utils.HaltLog()\n",
    "halt_log_fn, get_log_fn = mHLF_obj.makeHaltLogFunctions(opts.maxit)\n",
    "\n",
    "#  Set PyGRANSO's logging function in opts\n",
    "opts.halt_log_fn = halt_log_fn\n",
    "\n",
    "# Main algorithm with logging enabled.\n",
    "start = time.time()\n",
    "soln = pygranso(var_spec=cnn_model, combined_fn=comb_fn, user_opts=opts)\n",
    "end = time.time()\n",
    "wall_time = end - start\n",
    "\n",
    "# GET THE HISTORY OF ITERATES\n",
    "# Even if an error is thrown, the log generated until the error can be\n",
    "# obtained by calling get_log_fn()\n",
    "log = get_log_fn()"
   ]
  },
  {
   "cell_type": "code",
   "execution_count": 10,
   "id": "5286014a-3b21-4ae7-9e61-bea639127bad",
   "metadata": {},
   "outputs": [],
   "source": [
    "# # Final structure\n",
    "compliance, final_design, _ = topo_physics.calculate_compliance(\n",
    "    cnn_model, ke, args, device, torch.double\n",
    ")\n",
    "final_design = final_design.detach().cpu()"
   ]
  },
  {
   "cell_type": "code",
   "execution_count": 11,
   "id": "e128d8cd-f741-4f29-8313-2b349c3689bb",
   "metadata": {},
   "outputs": [
    {
     "data": {
      "text/plain": [
       "tensor(0.4264, dtype=torch.float64)"
      ]
     },
     "execution_count": 11,
     "metadata": {},
     "output_type": "execute_result"
    }
   ],
   "source": [
    "final_design[:, 1].mean() * 1.0 + final_design[:, 2].mean() * 0.8"
   ]
  },
  {
   "cell_type": "code",
   "execution_count": 12,
   "id": "cf4ebaa5-0080-4c3d-b6ef-b28b9591047c",
   "metadata": {},
   "outputs": [
    {
     "data": {
      "text/plain": [
       "tensor(168.8337, dtype=torch.float64, grad_fn=<SumBackward0>)"
      ]
     },
     "execution_count": 12,
     "metadata": {},
     "output_type": "execute_result"
    }
   ],
   "source": [
    "compliance"
   ]
  },
  {
   "cell_type": "code",
   "execution_count": 13,
   "id": "ca1f049b-58de-4e77-8b08-4624d701db1e",
   "metadata": {},
   "outputs": [],
   "source": [
    "num_materials = len(args['e_materials']) + 1\n",
    "design = torch.zeros(num_materials, args['nely'], args['nelx'])\n",
    "for i in range(num_materials):\n",
    "    design[i, :, :] = final_design[:, i].reshape(args['nelx'], args['nely']).T"
   ]
  },
  {
   "cell_type": "code",
   "execution_count": 14,
   "id": "452fe963-4984-49c9-9033-38497e04e986",
   "metadata": {},
   "outputs": [],
   "source": [
    "final_design = torch.argmax(design, axis=0)"
   ]
  },
  {
   "cell_type": "code",
   "execution_count": 15,
   "id": "121f90b9-615e-4de5-9440-61bbff13eae7",
   "metadata": {},
   "outputs": [
    {
     "data": {
      "text/plain": [
       "<matplotlib.colorbar.Colorbar at 0x2216e33a0>"
      ]
     },
     "execution_count": 15,
     "metadata": {},
     "output_type": "execute_result"
    },
    {
     "data": {
      "image/png": "[encoded data removed]",
      "text/plain": [
       "<Figure size 1000x700 with 2 Axes>"
      ]
     },
     "metadata": {},
     "output_type": "display_data"
    }
   ],
   "source": [
    "# Setup the figure\n",
    "fig, axes = plt.subplots(1, 1, figsize=(10, 7))\n",
    "\n",
    "im = axes.imshow(final_design)\n",
    "axes.set_xlabel(\"x\")\n",
    "axes.set_ylabel(\"y\")\n",
    "\n",
    "fig.tight_layout()\n",
    "fig.colorbar(im, orientation=\"horizontal\", pad=0.1)"
   ]
  },
  {
   "cell_type": "code",
   "execution_count": 16,
   "id": "c01ed6e6-4700-4bf1-b609-1af203534001",
   "metadata": {},
   "outputs": [
    {
     "data": {
      "image/png": "[encoded data removed]",
      "text/plain": [
       "<Figure size 1000x700 with 1 Axes>"
      ]
     },
     "metadata": {},
     "output_type": "display_data"
    }
   ],
   "source": [
    "fillColors = [\"1.0\", \"red\", \"cyan\", \"black\"]\n",
    "\n",
    "fig, ax = plt.subplots(1, 1, figsize=(10, 7))\n",
    "ax.imshow(\n",
    "    final_design,\n",
    "    cmap=colors.ListedColormap(fillColors),\n",
    "    vmin=0,\n",
    "    vmax=3\n",
    ")\n",
    "ax.grid()"
   ]
  },
  {
   "cell_type": "code",
   "execution_count": null,
   "id": "1c5fc40b-196e-40e0-bfec-dc2d6b682fc2",
   "metadata": {},
   "outputs": [],
   "source": []
  }
 ],
 "metadata": {
  "kernelspec": {
   "display_name": "ncvx",
   "language": "python",
   "name": "ncvx"
  },
  "language_info": {
   "codemirror_mode": {
    "name": "ipython",
    "version": 3
   },
   "file_extension": ".py",
   "mimetype": "text/x-python",
   "name": "python",
   "nbconvert_exporter": "python",
   "pygments_lexer": "ipython3",
   "version": "3.9.11"
  }
 },
 "nbformat": 4,
 "nbformat_minor": 5
}
